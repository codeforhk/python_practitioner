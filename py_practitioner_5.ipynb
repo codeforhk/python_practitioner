{
  "nbformat": 4,
  "nbformat_minor": 0,
  "metadata": {
    "colab": {
      "name": "py_practitioner_5.ipynb",
      "provenance": [],
      "toc_visible": true,
      "include_colab_link": true
    },
    "kernelspec": {
      "name": "python3",
      "display_name": "Python 3"
    }
  },
  "cells": [
    {
      "cell_type": "markdown",
      "metadata": {
        "id": "view-in-github",
        "colab_type": "text"
      },
      "source": [
        "<a href=\"https://colab.research.google.com/github/codeforhk/python_practitioner/blob/master/py_practitioner_5.ipynb\" target=\"_parent\"><img src=\"https://colab.research.google.com/assets/colab-badge.svg\" alt=\"Open In Colab\"/></a>"
      ]
    },
    {
      "cell_type": "markdown",
      "metadata": {
        "id": "ejMS_tRueq8A",
        "colab_type": "text"
      },
      "source": [
        "\n",
        "    \n",
        "<img src=\"https://www.codefor.hk/wp-content/themes/DC_CUSTOM_THEME/img/logo-code-for-hk-logo.svg\" height=\"150\" width=\"150\"  align=\"center\"/>\n",
        "<h1><center>Code For Hong Kong - Python Practitioner class 5</center></h1>\n",
        "<h6><center>Written by Patrick Leung</center></h6>\n"
      ]
    },
    {
      "cell_type": "markdown",
      "metadata": {
        "id": "EEMPIn4lRgQx",
        "colab_type": "text"
      },
      "source": [
        "<img src=\"https://i0.wp.com/hrreview.co.uk/wp-content/uploads/Assessment.jpg\" align=\"center\"/>\n",
        "\n",
        "## Assessment\n",
        "To receive the certificate for this course, you will have to complete the coding project & the exam.\n",
        "\n",
        "The project will be \n",
        "\n",
        "\n",
        "### **Project (50%)**\n",
        "\n",
        "**Deadline: January 15th, 2020**\n",
        "\n",
        "- 10%\tCreate a project on Github https://github.com/codeforhk/project\n",
        "- 5%\tCreate a clear structure, including file system & architectural d *italicized text*iagram\n",
        "- 5%\tAbility to write clean python code and respect Python coding convention\n",
        "- 5%\tAbility to write production code on notebook / script\n",
        "- 10%\tAbility to use libraries including requests / beautifulsoup / selenium / pandas\n",
        "- 5%\tAbilitiy to wrap functions into class\n",
        "- 10%\tDemonstrate a working python prototype\n",
        "\n",
        "\n",
        "\n",
        "### **Multiple Choice Exam (50%)**\n",
        "\n",
        "**Deadline: Dec 31st, 2019**\n",
        "\n",
        "(Link to be provided)\n",
        "\n",
        "- Do not search on the internet for answers\n",
        "- You have 60 mins to complete it\n",
        "- There will be 25 questions of MC \n",
        "- You will need to complete all of the questions\n",
        "- 2 points given for each multiple choice question\n",
        "\n",
        "\n",
        "### **Exam Grades**\n",
        "-  75/100 Distinction\n",
        "-  60/100 Merit\n",
        "-  40/100 Pass\n",
        "-  10/100 Attended\n"
      ]
    },
    {
      "cell_type": "markdown",
      "metadata": {
        "id": "MqxTtVoDeotP",
        "colab_type": "text"
      },
      "source": [
        "## "
      ]
    }
  ]
}