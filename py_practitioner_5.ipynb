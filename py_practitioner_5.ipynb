{
  "nbformat": 4,
  "nbformat_minor": 0,
  "metadata": {
    "colab": {
      "name": "py_practitioner_5.ipynb",
      "provenance": [],
      "toc_visible": true,
      "include_colab_link": true
    },
    "kernelspec": {
      "name": "python3",
      "display_name": "Python 3"
    }
  },
  "cells": [
    {
      "cell_type": "markdown",
      "metadata": {
        "id": "view-in-github",
        "colab_type": "text"
      },
      "source": [
        "<a href=\"https://colab.research.google.com/github/codeforhk/python_practitioner/blob/master/py_practitioner_5.ipynb\" target=\"_parent\"><img src=\"https://colab.research.google.com/assets/colab-badge.svg\" alt=\"Open In Colab\"/></a>"
      ]
    },
    {
      "cell_type": "markdown",
      "metadata": {
        "id": "ejMS_tRueq8A",
        "colab_type": "text"
      },
      "source": [
        "\n",
        "    \n",
        "<img src=\"https://www.codefor.hk/wp-content/themes/DC_CUSTOM_THEME/img/logo-code-for-hk-logo.svg\" height=\"150\" width=\"150\"  align=\"center\"/>\n",
        "<h1><center>Code For Hong Kong - Python Practitioner class 5</center></h1>\n",
        "<h6><center>Written by Patrick Leung</center></h6>\n"
      ]
    },
    {
      "cell_type": "markdown",
      "metadata": {
        "id": "EEMPIn4lRgQx",
        "colab_type": "text"
      },
      "source": [
        "<img src=\"https://yt3.ggpht.com/iFOyisOFkFJU3VPQBc92xmjj9IW9k7iVHs1Dva-TTi4wJGXxFKj4ifITh8rHpywTRywgOhW2Tg=w2120-fcrop64=1,00000000ffffffff-k-c0xffffffff-no-nd-rj\" align=\"center\"/>\n",
        "\n",
        "## Project: Your Project\n",
        "\n",
        "\n",
        "What is your project?"
      ]
    }
  ]
}