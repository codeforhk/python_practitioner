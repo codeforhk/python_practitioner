{
  "nbformat": 4,
  "nbformat_minor": 0,
  "metadata": {
    "kernelspec": {
      "display_name": "Python 3",
      "language": "python",
      "name": "python3"
    },
    "language_info": {
      "codemirror_mode": {
        "name": "ipython",
        "version": 3
      },
      "file_extension": ".py",
      "mimetype": "text/x-python",
      "name": "python",
      "nbconvert_exporter": "python",
      "pygments_lexer": "ipython3",
      "version": "3.6.4"
    },
    "colab": {
      "name": "ml_class_1.ipynb",
      "provenance": [],
      "include_colab_link": true
    }
  },
  "cells": [
    {
      "cell_type": "markdown",
      "metadata": {
        "id": "view-in-github",
        "colab_type": "text"
      },
      "source": [
        "<a href=\"https://colab.research.google.com/github/codeforhk/python_practitioner/blob/master/ml_class_1.ipynb\" target=\"_parent\"><img src=\"https://colab.research.google.com/assets/colab-badge.svg\" alt=\"Open In Colab\"/></a>"
      ]
    },
    {
      "cell_type": "markdown",
      "metadata": {
        "id": "EYJqse0pPLJL",
        "colab_type": "text"
      },
      "source": [
        "\n",
        "    \n",
        "<img src=\"https://www.codefor.hk/wp-content/themes/DC_CUSTOM_THEME/img/logo-code-for-hk-logo.svg\" height=\"150\" width=\"150\"  align=\"center\"/>\n",
        "<h1><center>Code For Hong Kong - ML class 1</center></h1>\n",
        "<h6><center>Written by Patrick Leung</center></h6>\n"
      ]
    },
    {
      "cell_type": "markdown",
      "metadata": {
        "id": "f3PWsnJcPLJP",
        "colab_type": "text"
      },
      "source": [
        "# 0.0: Introduction to Data Science Fundamentals"
      ]
    },
    {
      "cell_type": "markdown",
      "metadata": {
        "colab_type": "text",
        "id": "B6Yfho0Nefnp"
      },
      "source": [
        "![Image of Yaktocat](https://storage.googleapis.com/bwdb/acceleratehk_DSML/class_1/ds1.PNG)\n",
        "\n",
        "[Let's have a look at all the keywords in data science: AI/Deep Learning/Machine Learning/Big Data](https://trends.google.com/trends/explore?date=all&q=%2Fm%2F0bs2j8q,%2Fm%2F0mkz,%2Fm%2F01hyh_,deep%20learning)\n",
        "\n",
        "The goal of this course is to build intellegent machine. Before we start, ask yourself:\n",
        " \n",
        " \n",
        " - What makes human intellegent? How do we make decision?\n",
        " - What is knowledge? How do we learn?\n",
        " - Why do we learn data science together with machine learning?\n",
        "\n",
        "check this out - \n",
        "https://quickdraw.withgoogle.com/"
      ]
    },
    {
      "cell_type": "markdown",
      "metadata": {
        "id": "ElYXmKy9e3LT",
        "colab_type": "text"
      },
      "source": [
        "# Why are Data Science / Machine Learning so popular now?"
      ]
    },
    {
      "cell_type": "markdown",
      "metadata": {
        "id": "NVdP9bnicx30",
        "colab_type": "text"
      },
      "source": [
        "### 0.1 Solve a Problem"
      ]
    },
    {
      "cell_type": "markdown",
      "metadata": {
        "id": "U38I3If-ctDX",
        "colab_type": "text"
      },
      "source": [
        "\n",
        "\n",
        "![Image of Yaktocat](https://storage.googleapis.com/bwdb/acceleratehk_DSML/Screenshot%202020-03-20%20at%205.49.59%20PM.png)\n",
        "\n"
      ]
    },
    {
      "cell_type": "markdown",
      "metadata": {
        "id": "-B89WGwNfDYh",
        "colab_type": "text"
      },
      "source": [
        "What companies are hiring data scientist?"
      ]
    },
    {
      "cell_type": "markdown",
      "metadata": {
        "id": "CU6yGvA7cud6",
        "colab_type": "text"
      },
      "source": [
        "\n",
        "\n",
        "![Image of Yaktocat](https://storage.googleapis.com/bwdb/acceleratehk_DSML/Screenshot%202020-03-20%20at%205.49.28%20PM.png)"
      ]
    },
    {
      "cell_type": "markdown",
      "metadata": {
        "id": "t1e-ipYkc2qx",
        "colab_type": "text"
      },
      "source": [
        "## 0.2 Quantify"
      ]
    },
    {
      "cell_type": "markdown",
      "metadata": {
        "id": "myuIGsXufF3M",
        "colab_type": "text"
      },
      "source": [
        "How do Data Scientist solve a problem?"
      ]
    },
    {
      "cell_type": "markdown",
      "metadata": {
        "id": "kUgcCdi_eIq4",
        "colab_type": "text"
      },
      "source": [
        "![alt text](https://uydmedia.com/wp-content/uploads/2015/09/quantifying.jpeg)"
      ]
    },
    {
      "cell_type": "markdown",
      "metadata": {
        "id": "1Kdz_bP9cLvq",
        "colab_type": "text"
      },
      "source": [
        "\n",
        "![Image of Yaktocat](https://storage.googleapis.com/bwdb/acceleratehk_DSML/quantify.png)\n"
      ]
    },
    {
      "cell_type": "markdown",
      "metadata": {
        "id": "k_lkqKMkb5ia",
        "colab_type": "text"
      },
      "source": [
        "\n",
        "![Image of Yaktocat](https://storage.googleapis.com/bwdb/acceleratehk_DSML/quantify%20(1).png)\n",
        "\n"
      ]
    },
    {
      "cell_type": "markdown",
      "metadata": {
        "id": "K4H6_BMgc4Kn",
        "colab_type": "text"
      },
      "source": [
        "## 0.3 Modelling"
      ]
    },
    {
      "cell_type": "markdown",
      "metadata": {
        "id": "htT2kNf-ddbS",
        "colab_type": "text"
      },
      "source": [
        "![alt text](https://i.ytimg.com/vi/yQhTtdq_y9M/maxresdefault.jpg)"
      ]
    },
    {
      "cell_type": "markdown",
      "metadata": {
        "id": "Lw3o03hkc5y_",
        "colab_type": "text"
      },
      "source": [
        "## 0.4 Predicting"
      ]
    },
    {
      "cell_type": "markdown",
      "metadata": {
        "id": "6AEB-uWDeQf2",
        "colab_type": "text"
      },
      "source": [
        "![alt text](https://tr3.cbsistatic.com/hub/i/r/2014/11/04/27691a45-1606-4647-9093-637886cc89be/resize/1200x/5fdc75fc158301e39a81b2a1cb8c2afb/forecast-crystal-ball-prediction.jpg)"
      ]
    },
    {
      "cell_type": "markdown",
      "metadata": {
        "id": "lWBRmgXYd-yT",
        "colab_type": "text"
      },
      "source": [
        "![alt text](https://www.zohowebstatic.com/sites/default/files/creator/prediction_model.png)"
      ]
    },
    {
      "cell_type": "markdown",
      "metadata": {
        "id": "aQCmmyLNPLJS",
        "colab_type": "text"
      },
      "source": [
        "# 1.00 Artificial intelligence"
      ]
    },
    {
      "cell_type": "markdown",
      "metadata": {
        "id": "2LpDSex0PLJS",
        "colab_type": "text"
      },
      "source": [
        "![Image of Yaktocat](https://upload.wikimedia.org/wikipedia/en/e/e6/AI_Poster.jpg)"
      ]
    },
    {
      "cell_type": "markdown",
      "metadata": {
        "id": "DhnP8nziPLJT",
        "colab_type": "text"
      },
      "source": [
        "\n",
        "## 1.01 What is artificial intelligence?"
      ]
    },
    {
      "cell_type": "markdown",
      "metadata": {
        "id": "-QViywpiPLJU",
        "colab_type": "text"
      },
      "source": [
        "Coined in 1956 by Dartmouth Assistant Professor John McCarthy, ‘Artificial Intelligence’ (AI) is a general term that refers to hardware or software that exhibits behaviour which appears intelligent. In the words of Professor McCarthy, it is “the science and engineering of making intelligent machines, especially intelligent computer programs.”\n",
        "\n",
        "(AI, also machine intelligence, MI) is intelligence exhibited by machines, rather than humans or other animals...\n",
        "\"Artificial Intelligence\" is applied when a machine mimics \"cognitive\" functions that humans associate with other human minds, such as \"learning\" and \"problem solving\".\n",
        "Wikipedia, Oct 2017"
      ]
    },
    {
      "cell_type": "markdown",
      "metadata": {
        "id": "br5RMu5RPLJU",
        "colab_type": "text"
      },
      "source": [
        "Further reading: [Turing test](https://en.wikipedia.org/wiki/Turing_test)"
      ]
    },
    {
      "cell_type": "markdown",
      "metadata": {
        "id": "CWmJxhiSPLJV",
        "colab_type": "text"
      },
      "source": [
        "## 1.02 How AI is changing the world?\n",
        "We are right in the middle of a big revolution. In the coming years, machines will reach and exceed human performance on more and more tasks."
      ]
    },
    {
      "cell_type": "markdown",
      "metadata": {
        "id": "rn3cTK4JPLJW",
        "colab_type": "text"
      },
      "source": [
        "Further reading: [AI is the new electricity](https://medium.com/@Synced/artificial-intelligence-is-the-new-electricity-andrew-ng-cc132ea6264)\n"
      ]
    },
    {
      "cell_type": "markdown",
      "metadata": {
        "id": "lcYyDjvYPLJW",
        "colab_type": "text"
      },
      "source": [
        "Further Reading: [Andrew Ng Bio](https://en.wikipedia.org/wiki/Andrew_Ng)"
      ]
    },
    {
      "cell_type": "markdown",
      "metadata": {
        "id": "3lCUBLYTPLJX",
        "colab_type": "text"
      },
      "source": [
        "Further Reading: [The fourth industrial revolution](https://medium.com/mmc-writes/the-fourth-industrial-revolution-a-primer-on-artificial-intelligence-ai-ff5e7fffcae1)\n"
      ]
    },
    {
      "cell_type": "markdown",
      "metadata": {
        "id": "Y4_yyL4BPLJY",
        "colab_type": "text"
      },
      "source": [
        "![Image of Yaktocat](https://pbs.twimg.com/media/C90n2wXU0AAFqEA.jpg)"
      ]
    },
    {
      "cell_type": "markdown",
      "metadata": {
        "id": "JkA7AtxlPLJY",
        "colab_type": "text"
      },
      "source": [
        "![Image of Yaktocat](https://image.slidesharecdn.com/12sighinolfisocialbusinessforum-160714082215/95/the-networks-economy-and-the-fourth-industrial-revolution-enrica-sighinolfi-2-638.jpg?cb=1468484638)\n"
      ]
    },
    {
      "cell_type": "markdown",
      "metadata": {
        "id": "LZCxEqPQPLJZ",
        "colab_type": "text"
      },
      "source": [
        "## 1.03 The dark side of Artificial intelligence ?"
      ]
    },
    {
      "cell_type": "markdown",
      "metadata": {
        "id": "mGyYXCWWPLJa",
        "colab_type": "text"
      },
      "source": [
        "\n",
        "\n",
        "While this skillset will create opportunities for better jobs and new business ventures, there is another side to AI that must be respected!!!"
      ]
    },
    {
      "cell_type": "markdown",
      "metadata": {
        "id": "K04zT1uIPLJb",
        "colab_type": "text"
      },
      "source": [
        "\n",
        "![Image of Yaktocat](https://storage.googleapis.com/bwdb/acceleratehk_DSML/class_1/ds2.PNG)"
      ]
    },
    {
      "cell_type": "markdown",
      "metadata": {
        "id": "sz8egboqPLJb",
        "colab_type": "text"
      },
      "source": [
        "## 1.04 Will AI replace human?"
      ]
    },
    {
      "cell_type": "markdown",
      "metadata": {
        "id": "wmSaJcLMPLJc",
        "colab_type": "text"
      },
      "source": [
        "![Image of Yaktocat](https://i.imgur.com/Yy3LPWc.jpg)"
      ]
    },
    {
      "cell_type": "markdown",
      "metadata": {
        "id": "442-oTN_PLJd",
        "colab_type": "text"
      },
      "source": [
        "The human mind is used to think in a linear fashion, AI, however, is growing at an exponential rate and may very soon surpass human intelligence till the point where it becomes incomprehensible for the human race to grasp and understand AI intelligence"
      ]
    },
    {
      "cell_type": "markdown",
      "metadata": {
        "id": "nSj566JKPLJd",
        "colab_type": "text"
      },
      "source": [
        "Further reading: [Human brain vs super computer](http://bgr.com/2016/02/27/power-of-the-human-brain-vs-super-computer/)"
      ]
    },
    {
      "cell_type": "markdown",
      "metadata": {
        "id": "bl2g0Rb6PLJe",
        "colab_type": "text"
      },
      "source": [
        "Further reading: [Human brain vs super computer](https://www.youtube.com/watch?v=0fKBhvDjuy0&t=37s)\n"
      ]
    },
    {
      "cell_type": "markdown",
      "metadata": {
        "id": "jA1nhr9DPLJf",
        "colab_type": "text"
      },
      "source": [
        "![Image of Yaktocat](http://www.frc.ri.cmu.edu/~hpm/talks/revo.slides/power.aug.curve/power.aug.gif)"
      ]
    },
    {
      "cell_type": "markdown",
      "metadata": {
        "id": "AVITwjQSPLJg",
        "colab_type": "text"
      },
      "source": [
        "![Image of Yaktocat](https://storage.googleapis.com/bwdb/acceleratehk_DSML/class_1/Capture.PNG)"
      ]
    },
    {
      "cell_type": "markdown",
      "metadata": {
        "id": "scNdo82ePLJh",
        "colab_type": "text"
      },
      "source": [
        "## 1.05 Different level of artificial intelligence"
      ]
    },
    {
      "cell_type": "markdown",
      "metadata": {
        "id": "GCvZs1_uPLJi",
        "colab_type": "text"
      },
      "source": [
        "Further Reading: [3-levels of AI](http://youexdee.tumblr.com/post/110546311059/a-breakdown-of-the-3-levels-of-artificial)"
      ]
    },
    {
      "cell_type": "markdown",
      "metadata": {
        "id": "487Zp0v2PLJi",
        "colab_type": "text"
      },
      "source": [
        "**Aritificial Narrow Intelligence** is what we are used to and is what we will be studying in class. **Artificial General** Intelligence is something we are beggining to scratch the surface of."
      ]
    },
    {
      "cell_type": "markdown",
      "metadata": {
        "id": "qiG8eMtEPLJj",
        "colab_type": "text"
      },
      "source": [
        "![Image of Yaktocat](https://storage.googleapis.com/bwdb/acceleratehk_DSML/class_1/ds4.PNG)"
      ]
    },
    {
      "cell_type": "markdown",
      "metadata": {
        "id": "E1lrLWDvPLJk",
        "colab_type": "text"
      },
      "source": [
        "## 1.06 Summarizing terms in the \"AI\" field"
      ]
    },
    {
      "cell_type": "markdown",
      "metadata": {
        "id": "NWPDVsaFPLJl",
        "colab_type": "text"
      },
      "source": [
        "![Image of Yaktocat](https://storage.googleapis.com/bwdb/acceleratehk_DSML/class_1/ds5.PNG)"
      ]
    },
    {
      "cell_type": "markdown",
      "metadata": {
        "id": "_CQnIdf_PLJl",
        "colab_type": "text"
      },
      "source": [
        "# 1.10 Machine Learning"
      ]
    },
    {
      "cell_type": "markdown",
      "metadata": {
        "id": "z8MM8J2UPLJm",
        "colab_type": "text"
      },
      "source": [
        "## 1.11 What is machine learning?"
      ]
    },
    {
      "cell_type": "markdown",
      "metadata": {
        "id": "oDNGKU2WPLJn",
        "colab_type": "text"
      },
      "source": [
        "![Image of Yaktocat](http://www-03.ibm.com/ibm/history/ibm100/images/icp/A138918I23240Y22/us__en_us__ibm100__700_series__checkers__620x350.jpg)\n",
        "    "
      ]
    },
    {
      "cell_type": "markdown",
      "metadata": {
        "id": "xf2P3a39PLJn",
        "colab_type": "text"
      },
      "source": [
        "According to Arthur Samuel: Field of study that gives computers the ability to learn without being explicitly programmed.\n",
        "    It explores the study and construction of algorithms that can learn from and make predictions on **data**"
      ]
    },
    {
      "cell_type": "markdown",
      "metadata": {
        "id": "0m6QGN6YPLJo",
        "colab_type": "text"
      },
      "source": [
        "## 1.12 How do computer learn?"
      ]
    },
    {
      "cell_type": "markdown",
      "metadata": {
        "id": "9Dmk2PirPLJo",
        "colab_type": "text"
      },
      "source": [
        "![Image of Yaktocat](http://usablelearning.com/wp-content/uploads/2009/12/dumb_computer.png)\n"
      ]
    },
    {
      "cell_type": "markdown",
      "metadata": {
        "id": "vG4X4C_rPLJp",
        "colab_type": "text"
      },
      "source": [
        "## 1.13 How to teach a computer to drive?"
      ]
    },
    {
      "cell_type": "markdown",
      "metadata": {
        "id": "viQocea5PLJq",
        "colab_type": "text"
      },
      "source": [
        "It might be possible, but very hard using hard-code programming..."
      ]
    },
    {
      "cell_type": "markdown",
      "metadata": {
        "id": "g8VjpOEcPLJq",
        "colab_type": "text"
      },
      "source": [
        "![Image of Yaktocat](http://www.ndimensionz.com/kb/wp-content/uploads/2017/07/Google-self-driving-car-prototype-front-three-quarters.jpg)\n",
        "\n"
      ]
    },
    {
      "cell_type": "markdown",
      "metadata": {
        "id": "CxyOskIzPLJr",
        "colab_type": "text"
      },
      "source": [
        "## 1.14 If machine needs to be intelligent to generalized to all situation, it must learn from DATA"
      ]
    },
    {
      "cell_type": "markdown",
      "metadata": {
        "id": "pAGs97ETPLJs",
        "colab_type": "text"
      },
      "source": [
        "![Image of Yaktocat](https://storage.googleapis.com/bwdb/acceleratehk_DSML/class_1/ds6.PNG)"
      ]
    },
    {
      "cell_type": "markdown",
      "metadata": {
        "id": "R7sZNEcSPLJt",
        "colab_type": "text"
      },
      "source": [
        "## 1.15 Application of machine learning"
      ]
    },
    {
      "cell_type": "markdown",
      "metadata": {
        "id": "Gj87Xr4_PLJt",
        "colab_type": "text"
      },
      "source": [
        "![Image of Yaktocat](https://s3.ap-south-1.amazonaws.com/techleer/207.jpg)\n",
        "\n"
      ]
    },
    {
      "cell_type": "markdown",
      "metadata": {
        "id": "sKgvQepGPLJu",
        "colab_type": "text"
      },
      "source": [
        "# 1.20 Data Science"
      ]
    },
    {
      "cell_type": "markdown",
      "metadata": {
        "id": "tduWWhCzPLJv",
        "colab_type": "text"
      },
      "source": [
        "## 1.21 What is Data Science?"
      ]
    },
    {
      "cell_type": "markdown",
      "metadata": {
        "id": "EDqNyGunPLJv",
        "colab_type": "text"
      },
      "source": [
        "![Image of Yaktocat](https://storage.googleapis.com/bwdb/acceleratehk_DSML/class_1/ds7.PNG)"
      ]
    },
    {
      "cell_type": "markdown",
      "metadata": {
        "id": "c2ZPRlz9PLJw",
        "colab_type": "text"
      },
      "source": [
        "### Data science is the intersection of these three subects:"
      ]
    },
    {
      "cell_type": "markdown",
      "metadata": {
        "id": "mbGcPtzQPLJw",
        "colab_type": "text"
      },
      "source": [
        "![Image of Yaktocat](https://storage.googleapis.com/bwdb/acceleratehk_DSML/class_1/ds8.PNG)"
      ]
    },
    {
      "cell_type": "markdown",
      "metadata": {
        "id": "MWSado8_PLJx",
        "colab_type": "text"
      },
      "source": [
        "This field has comeabout because we are increasingly dealing with huge amounts of data. So much data that it needs to be extracted, manipulated and cleaned before it can be analyzed in a meaningful way. This is one of the primary goals of this course. Important to note that programming is one of the key skillset requirments of becoming a data scientist. We will use Python as our programming language for this course"
      ]
    },
    {
      "cell_type": "markdown",
      "metadata": {
        "id": "K1Mw2FP-PLJx",
        "colab_type": "text"
      },
      "source": [
        "## 1.22 The Data Explosion"
      ]
    },
    {
      "cell_type": "markdown",
      "metadata": {
        "id": "F0pOebSjPLJz",
        "colab_type": "text"
      },
      "source": [
        "Data is being created much faster, at an exponential rate"
      ]
    },
    {
      "cell_type": "markdown",
      "metadata": {
        "id": "BavcznYBPLJ0",
        "colab_type": "text"
      },
      "source": [
        "\n",
        "![Image of Yaktocat](https://media.licdn.com/mpr/mpr/shrinknp_800_800/AAEAAQAAAAAAAAQLAAAAJGE3YmRlN2ViLTg4NzMtNGI3ZS05NDhlLWU5OWVhYjc4MmMzYQ.jpg)\n"
      ]
    },
    {
      "cell_type": "markdown",
      "metadata": {
        "id": "K0v7cUj5PLJ0",
        "colab_type": "text"
      },
      "source": [
        "## 1.23 Where does the data come from?"
      ]
    },
    {
      "cell_type": "markdown",
      "metadata": {
        "id": "SHHjwnnLPLJ1",
        "colab_type": "text"
      },
      "source": [
        "![Image of Yaktocat](https://storage.googleapis.com/bwdb/acceleratehk_DSML/class_1/ds10.PNG)"
      ]
    },
    {
      "cell_type": "markdown",
      "metadata": {
        "id": "VlCE8FOgPLJ2",
        "colab_type": "text"
      },
      "source": [
        "## 1.24 Data is the new oil\n",
        "Rich, unstructured and needs to be extracted to generate value"
      ]
    },
    {
      "cell_type": "markdown",
      "metadata": {
        "id": "MYWmUppsPLJ2",
        "colab_type": "text"
      },
      "source": [
        "Further Reading: [Data is the new oil](https://www.economist.com/news/leaders/21721656-data-economy-demands-new-approach-antitrust-rules-worlds-most-valuable-resource)\n",
        "\n",
        "Further Reading: [Data Scientist - the sexiest job of the 21st century](https://hbr.org/2012/10/data-scientist-the-sexiest-job-of-the-21st-century)\n",
        "\n"
      ]
    },
    {
      "cell_type": "markdown",
      "metadata": {
        "id": "eB_fHeIvPLJ3",
        "colab_type": "text"
      },
      "source": [
        "![Image of Yaktocat](https://media.licdn.com/mpr/mpr/AAEAAQAAAAAAAAf6AAAAJDZlZGFiNWU0LWRkNTgtNGM2YS04NTY1LTZjN2VhMDdiZWI1OQ.jpg)"
      ]
    },
    {
      "cell_type": "markdown",
      "metadata": {
        "id": "HT4UTta1PLJ3",
        "colab_type": "text"
      },
      "source": [
        "Notice that the new data is different to the old kinds of ‘boring’ data. This new data is unstructured, not in nice tables with primary keys, and niche columns. This gives us a headache! We have a treasure trove of information, but not enough people with the skill to extract the insight we need.\n",
        "\n",
        "This is where a **Data Scientist** comes in. A data scientist works in an “interdisciplinary field using scientific methods, processes and systems to extract knowledge or insights from data in various forms, either structured or unstructured.”"
      ]
    },
    {
      "cell_type": "markdown",
      "metadata": {
        "id": "7zLoGrnEPLJ4",
        "colab_type": "text"
      },
      "source": [
        "## 1.24 Data Science Applications"
      ]
    },
    {
      "cell_type": "markdown",
      "metadata": {
        "id": "6kNKTv2CPLJ4",
        "colab_type": "text"
      },
      "source": [
        "1) Healthcare: Finding Genomes. 3 billion base pairs https://medium.com/precision-medicine/how-big-is-the-human-genome-e90caa3409b0\n",
        "\n",
        "2) Pricing illiquid instruments accurately using Ensemble Learning\n",
        "http://files.meetup.com/18405165/Deep%20Leaning%20Meetup%20Dec%202015.pdf\n",
        "\n",
        "3) Sentimental Analysis of news stories and public perception to drive decision making\n",
        " https://quid.com/quid-in-action\n",
        "\n",
        "4) Using Machine Learning techniques of millions of transactions, to create better fraud detection techniques\n",
        "\n",
        "5) Crisis management: Improved disaster response, e.g. Nepal 2015 earthquake and Ebloa outbreak\n",
        "https://asheshwor.shinyapps.io/np-quake/"
      ]
    },
    {
      "cell_type": "markdown",
      "metadata": {
        "id": "klv_m4CVPLJ5",
        "colab_type": "text"
      },
      "source": [
        "## 1.25 The Six V’s of Data Science"
      ]
    },
    {
      "cell_type": "markdown",
      "metadata": {
        "raw_mimetype": "text/markdown",
        "id": "j1PMBBWXPLJ5",
        "colab_type": "text"
      },
      "source": [
        "Using a data driven approach, you can extract insight from any dataset. But there are some properties and characteristics that are crucial to Big Data. These 6 V’s will help give you a bigger perspective on Data Science, and show you what people mean when they say “Big Data”"
      ]
    },
    {
      "cell_type": "markdown",
      "metadata": {
        "raw_mimetype": "text/markdown",
        "id": "P2j-foWDPLJ6",
        "colab_type": "text"
      },
      "source": [
        "### 1) Volume:\n",
        "How big the dataset is. Datasets are very varied, and can go from simple CSV files (in the MBs) to Large Hadron Collider data (15 pb a year). \n",
        "\n",
        "How ‘big’ is a petabyte/yottabyte? Check out this video of powers of 10 to give you some perspective!\n",
        "\n",
        "### 2) Variety: \n",
        "A dataset can include very diverse data. It doesn’t always have to be numeric, but can also have image data, text data, maps, sensor data etc etc.\n",
        "\n",
        "### 3) Velocity: \n",
        "The increasing speed at which data is being created, and needs to be stored/analyzed. Depends on context and what you are trying to achieve!\n",
        "\n",
        "### 4) Veracity:\n",
        " This refers to the quality of the data, which is defined by considering the accuracy of the data, trustworthiness of the data source, how the data was generated etc. It is very important for making big data systems operational and useful. Junk In == Junk Out!\n",
        "\n",
        "### 5) Valence:\n",
        "How connected your data is. The more connected your data is, the higher the valence (comes from chemistry). Higher valence dataset is denser, and requires more advanced techniques to be made sense of.\n",
        "\n",
        "### 6) Value: \n",
        "The most important V, in my opinion. Remember that there is a question you are trying to answer and a goal you are trying to achieve. Don’t forget the value you are looking for, or the thing you are looking to optimize. I.e., don’t lose yourself in the noise!"
      ]
    },
    {
      "cell_type": "markdown",
      "metadata": {
        "id": "cDLYFtIfPLJ6",
        "colab_type": "text"
      },
      "source": [
        "## 1.26 Types of Data"
      ]
    },
    {
      "cell_type": "markdown",
      "metadata": {
        "id": "_UPctWbVPLJ7",
        "colab_type": "text"
      },
      "source": [
        "Very important if you want to work with data. You should know how to categorize them and how to treat them differently. There are many flavours of data, and differnet techniques have different applications on different kinds of data.\n",
        "\n",
        "### 1) Numerical: \n",
        "Represents quantitative measurements. E.g. heights of people, age, stock price. There are two types of numerical data too. ..* Discrete: data that can only be in integers, based on some event usually. e.g. age, number of visits ..* Continuus: data that can have any value (infinite possibilities). e.g. heights, stock price, how much snow fell yesterday etc\n",
        "\n",
        "### 2) Categorical:\n",
        "Data that is assigned and does not have actual mathematical meaning. You can assign numbers to categories but the number don’t themselves have meaning. Usually binaries. e.g. gender, race, political affiliation etc\n",
        "\n",
        "### 3) Ordinal:\n",
        "Mixture of categorical and numerical. Categorized numbers, but the numbers DO have meaning. e.g. Movie ratings on a scale of 5"
      ]
    },
    {
      "cell_type": "markdown",
      "metadata": {
        "id": "X1VYh-znPLJ7",
        "colab_type": "text"
      },
      "source": [
        "![Image of Yaktocat](https://udemy-images.udemy.com/course/750x422/692642_a75c.jpg)"
      ]
    },
    {
      "cell_type": "markdown",
      "metadata": {
        "id": "szmEcCvoPLLE",
        "colab_type": "raw"
      },
      "source": [
        "#We can do this by using this format: \n",
        "#list1 [ from  :  to but not including  :  in steps of ]"
      ]
    },
    {
      "cell_type": "code",
      "metadata": {
        "id": "aj8Llab5PLLF",
        "colab_type": "code",
        "colab": {}
      },
      "source": [
        "#Let's get from 2nd position to the LAST element of list 1."
      ],
      "execution_count": 0,
      "outputs": []
    },
    {
      "cell_type": "code",
      "metadata": {
        "id": "HkC8S2eMPLLG",
        "colab_type": "code",
        "colab": {}
      },
      "source": [
        "#Let's get the EVEN positions of elements of list1"
      ],
      "execution_count": 0,
      "outputs": []
    },
    {
      "cell_type": "markdown",
      "metadata": {
        "id": "DDjDCSVWPLLH",
        "colab_type": "text"
      },
      "source": [
        "## MUTABLE and IMMUTABLE\n",
        "Remember our tuples? let's try to maniplate our data in our tuples:"
      ]
    },
    {
      "cell_type": "code",
      "metadata": {
        "id": "OYUshMl9PLLI",
        "colab_type": "code",
        "colab": {}
      },
      "source": [
        "#Reassign the 2nd index of tuple1 to value 3"
      ],
      "execution_count": 0,
      "outputs": []
    },
    {
      "cell_type": "markdown",
      "metadata": {
        "id": "rqlJCsM3PLLJ",
        "colab_type": "text"
      },
      "source": [
        "We will get an error because TUPLES are IMMUTABLE.  Immutable objects doesn’t allow modification after creation.  \n",
        "Tuples are called faster than lists, and are more lightweight."
      ]
    },
    {
      "cell_type": "markdown",
      "metadata": {
        "id": "jVS0V2QkPLLJ",
        "colab_type": "text"
      },
      "source": [
        "## Dictionaries\n",
        "A Python dictionary is a mapping of unique keys to values.  Dictionaries are mutable, which means they can be changed."
      ]
    },
    {
      "cell_type": "code",
      "metadata": {
        "id": "6x4i67gJPLLJ",
        "colab_type": "code",
        "colab": {}
      },
      "source": [
        "#Let's make a dictionary:\n",
        "mygeobook = {\"Country\":\"USA\",\"Capital\":\"Washington,Dc\",\"President\":\"Barack Obama\",\"Region\":\"China\"}"
      ],
      "execution_count": 0,
      "outputs": []
    },
    {
      "cell_type": "code",
      "metadata": {
        "id": "FEC9ITLMPLLL",
        "colab_type": "code",
        "colab": {},
        "outputId": "e9b88560-4614-44a5-bfc2-b21681803e35"
      },
      "source": [
        "#Let's add a key called \"Vice President\" with a value of \"Mike Pence\"\n",
        "mygeobook"
      ],
      "execution_count": 0,
      "outputs": [
        {
          "output_type": "execute_result",
          "data": {
            "text/plain": [
              "{'Capital': 'Washington,Dc',\n",
              " 'Country': 'USA',\n",
              " 'President': 'Barack Obama',\n",
              " 'Region': 'China',\n",
              " 'Vice President': 'Mike Pence'}"
            ]
          },
          "metadata": {
            "tags": []
          },
          "execution_count": 82
        }
      ]
    },
    {
      "cell_type": "code",
      "metadata": {
        "id": "KOF9HPUwPLLM",
        "colab_type": "code",
        "colab": {}
      },
      "source": [
        "#Notice that the current president is outdated.  Let's fix that.\n"
      ],
      "execution_count": 0,
      "outputs": []
    },
    {
      "cell_type": "code",
      "metadata": {
        "id": "M9uZsCYAPLLO",
        "colab_type": "code",
        "colab": {}
      },
      "source": [
        "#Let's check if that worked:\n"
      ],
      "execution_count": 0,
      "outputs": []
    },
    {
      "cell_type": "code",
      "metadata": {
        "id": "i4wgw1q4PLLP",
        "colab_type": "code",
        "colab": {},
        "outputId": "ffceffe1-1e4a-4a14-f184-cf487931418c"
      },
      "source": [
        "#Hmm... The region key doesn't belong there.  Let's delete that.\n"
      ],
      "execution_count": 0,
      "outputs": [
        {
          "output_type": "execute_result",
          "data": {
            "text/plain": [
              "{'Capital': 'Washington,Dc',\n",
              " 'Country': 'USA',\n",
              " 'Region': 'China',\n",
              " 'Vice President': 'Mike Pence'}"
            ]
          },
          "metadata": {
            "tags": []
          },
          "execution_count": 85
        }
      ]
    },
    {
      "cell_type": "markdown",
      "metadata": {
        "id": "5tOc-DhVPLLQ",
        "colab_type": "text"
      },
      "source": [
        "## Methods and Functions\n",
        "Function:\n",
        "A function is a piece of code that is called by a name.  It can be passed data to operate on (ie. the parameters) and can optionally return data (the return value).\n",
        "\n",
        "Method:\n",
        "A method is a piece of code that is called by a name that is associated with an object.  In most respects it is identical to a function except for 2 key differences:\n",
        "1. A method is implicitly passed on the object on which it is called.\n",
        "2. A method is able to operate on data that is contained within the class."
      ]
    },
    {
      "cell_type": "code",
      "metadata": {
        "id": "IPH9jK9uPLLR",
        "colab_type": "code",
        "colab": {}
      },
      "source": [
        "#For us to understand the difference better, let's take an example for both, and apply it to our list1 object.\n",
        "#Let's start with the function len() and see what it does."
      ],
      "execution_count": 0,
      "outputs": []
    },
    {
      "cell_type": "code",
      "metadata": {
        "id": "iYbUCZE_PLLT",
        "colab_type": "code",
        "colab": {}
      },
      "source": [
        ""
      ],
      "execution_count": 0,
      "outputs": []
    },
    {
      "cell_type": "code",
      "metadata": {
        "id": "IwcuP3UUPLLW",
        "colab_type": "code",
        "colab": {}
      },
      "source": [
        "#Now, lets try the append() method and see what it does\n"
      ],
      "execution_count": 0,
      "outputs": []
    },
    {
      "cell_type": "code",
      "metadata": {
        "id": "JkMevL4QPLLY",
        "colab_type": "code",
        "colab": {}
      },
      "source": [
        "#Let's make our first function without any variables needed to be passed in!\n"
      ],
      "execution_count": 0,
      "outputs": []
    },
    {
      "cell_type": "code",
      "metadata": {
        "id": "BjWgrr5xPLLb",
        "colab_type": "code",
        "colab": {}
      },
      "source": [
        "#Let's run it!\n"
      ],
      "execution_count": 0,
      "outputs": []
    },
    {
      "cell_type": "code",
      "metadata": {
        "id": "v-iGlXAhPLLc",
        "colab_type": "code",
        "colab": {}
      },
      "source": [
        "#Let's make another function that will require us to pass in variables:\n"
      ],
      "execution_count": 0,
      "outputs": []
    },
    {
      "cell_type": "markdown",
      "metadata": {
        "id": "x0j7GlWtPLLf",
        "colab_type": "text"
      },
      "source": [
        "### Loops\n",
        "\n",
        "Loops are a very useful way of repeating something over and over again, with some conditionals on when to break them.There are two kinds of loops: for and while. For loops are usually used for iterating through lists and doing something with every iteration. While loops are often used to accumulate additions in a variable."
      ]
    },
    {
      "cell_type": "code",
      "metadata": {
        "id": "sXsixlerPLLf",
        "colab_type": "code",
        "colab": {}
      },
      "source": [
        "#A simple example of the for-loop:\n",
        "#Let's use farm animals as an example"
      ],
      "execution_count": 0,
      "outputs": []
    },
    {
      "cell_type": "code",
      "metadata": {
        "id": "2bxPqHaLPLLh",
        "colab_type": "code",
        "colab": {}
      },
      "source": [
        "# Another example of the for-loop. Iterate through the numbers 1-11. What do you think this function does?\n",
        "x = [1,2,3,4,5,6,7,8,9,10]\n",
        "\n",
        "#for i in x:\n",
        "#    if i % 2 == 0: \n",
        "#        print (i)"
      ],
      "execution_count": 0,
      "outputs": []
    },
    {
      "cell_type": "code",
      "metadata": {
        "id": "P8F750gKPLLi",
        "colab_type": "code",
        "colab": {}
      },
      "source": [
        "#count = 0 # While loops are different! You need to make sure that you break them. \n",
        "\n",
        "while count < 10:\n",
        "    print (\"The count is: \",count)\n",
        "    count += 1  # this is short for count = count + 1"
      ],
      "execution_count": 0,
      "outputs": []
    },
    {
      "cell_type": "markdown",
      "metadata": {
        "id": "wS3s_iWaPLLj",
        "colab_type": "text"
      },
      "source": [
        "## Booleans & Conditionals\n",
        "Booleans are an important part of coding. They are like a switch and can only have two values: True or False. They are very useful in conditional statements that we will be discussing next. But first, "
      ]
    },
    {
      "cell_type": "code",
      "metadata": {
        "id": "LW6a6SurPLLj",
        "colab_type": "code",
        "colab": {},
        "outputId": "4591c0a4-0016-4994-a6d9-d8e4f01c88f0"
      },
      "source": [
        "1 = 2\n",
        "# remember that the equal sign is for assignments!"
      ],
      "execution_count": 0,
      "outputs": [
        {
          "output_type": "error",
          "ename": "SyntaxError",
          "evalue": "can't assign to literal (<ipython-input-42-c0ab9e3898ea>, line 1)",
          "traceback": [
            "\u001b[1;36m  File \u001b[1;32m\"<ipython-input-42-c0ab9e3898ea>\"\u001b[1;36m, line \u001b[1;32m1\u001b[0m\n\u001b[1;33m    1 = 2\u001b[0m\n\u001b[1;37m         ^\u001b[0m\n\u001b[1;31mSyntaxError\u001b[0m\u001b[1;31m:\u001b[0m can't assign to literal\n"
          ]
        }
      ]
    },
    {
      "cell_type": "code",
      "metadata": {
        "id": "AOAcxuAAPLLn",
        "colab_type": "code",
        "colab": {}
      },
      "source": [
        "#1 is equal to 2\n",
        "1 == 2"
      ],
      "execution_count": 0,
      "outputs": []
    },
    {
      "cell_type": "code",
      "metadata": {
        "id": "J7wS3IiKPLLo",
        "colab_type": "code",
        "colab": {}
      },
      "source": [
        "# 1 is greater than 2\n",
        "1 > 2"
      ],
      "execution_count": 0,
      "outputs": []
    },
    {
      "cell_type": "code",
      "metadata": {
        "id": "VKJFZ3MHPLLp",
        "colab_type": "code",
        "colab": {}
      },
      "source": [
        "# 1 is less than 2\n",
        "1 < 2"
      ],
      "execution_count": 0,
      "outputs": []
    },
    {
      "cell_type": "code",
      "metadata": {
        "id": "gE90ZcjpPLLr",
        "colab_type": "code",
        "colab": {}
      },
      "source": [
        "# 1 is not equal to 2\n",
        "1 != 2"
      ],
      "execution_count": 0,
      "outputs": []
    },
    {
      "cell_type": "code",
      "metadata": {
        "id": "IjI6f5NvPLLs",
        "colab_type": "code",
        "colab": {}
      },
      "source": [
        "# using \"and\" means BOTH sides have to be satisfied:\n",
        "1 == 1 and 2 > 2"
      ],
      "execution_count": 0,
      "outputs": []
    },
    {
      "cell_type": "code",
      "metadata": {
        "id": "L2BNwZZ-PLLu",
        "colab_type": "code",
        "colab": {}
      },
      "source": [
        "#using \"or\" only one side has to be True.\n",
        "1 == 1 or 2 > 2"
      ],
      "execution_count": 0,
      "outputs": []
    },
    {
      "cell_type": "markdown",
      "metadata": {
        "id": "foJP2ADNO_4M",
        "colab_type": "text"
      },
      "source": [
        "# 6.0.0 What is machine learning?"
      ]
    },
    {
      "cell_type": "markdown",
      "metadata": {
        "id": "MNEsmNCqO_4N",
        "colab_type": "text"
      },
      "source": [
        "Before we jumpy into machine learning, let's be abstract and philosophical and ask ourselves questions. How do we learn ourselves? and Can this be apply to machine?"
      ]
    },
    {
      "cell_type": "markdown",
      "metadata": {
        "id": "qgFoh1uQO_4O",
        "colab_type": "text"
      },
      "source": [
        "## 6.0.1 How do we (human) learn?"
      ]
    },
    {
      "cell_type": "markdown",
      "metadata": {
        "id": "3mPM3ic-O_4P",
        "colab_type": "text"
      },
      "source": [
        "![Image of Yaktocat](http://images.all-free-download.com/images/graphiclarge/education_design_elements_colored_human_learning_tools_decoration_6827420.jpg)\n",
        "    \n"
      ]
    },
    {
      "cell_type": "markdown",
      "metadata": {
        "id": "25icu82aO_4Q",
        "colab_type": "text"
      },
      "source": [
        "To oversimplify things - human learn in 2 ways:\n",
        "####  supervied learning \n",
        "- (Learn from instructions. i.e learn from a teacher/reading books)\n",
        "- teacher teaches you orange is round.\n",
        "- Your mom told you to avoid strangers\n",
        "- You read from books that Lions are dangerous\n",
        "\n",
        "####  unsupervied learning \n",
        "- (Learn through observation. i.e learning the difference in pattern)\n",
        "- You observe that banana is different from orange, because orange is round in shape.\n",
        "- You learn that "
      ]
    },
    {
      "cell_type": "markdown",
      "metadata": {
        "id": "5hDvohTdO_4R",
        "colab_type": "text"
      },
      "source": [
        "##  6.0.2 How do we (human) make decision?"
      ]
    },
    {
      "cell_type": "markdown",
      "metadata": {
        "id": "2Ls5IAvxO_4S",
        "colab_type": "text"
      },
      "source": [
        "![Image of Yaktocat](http://cavemenworld.com/wp-content/uploads/2012/06/discovering-your-best-work-to-leisure-ratio-a-caveman-is-hunting-a-wild-boar-with-a-spear.jpg)\n",
        "    \n",
        "    "
      ]
    },
    {
      "cell_type": "markdown",
      "metadata": {
        "id": "s2OlZH9mO_4S",
        "colab_type": "text"
      },
      "source": [
        "again, to oversimplify things - human make decision in 2 ways:\n",
        "#### classification \n",
        "- classifying & access the situation and make decision. \n",
        "- a hunter saw a lion. Should he attack?\n",
        "- a hunter saw a rabbit. Should he attack?\n",
        "\n",
        "####  Finding the magnitude \n",
        "- a hunter saw a lion. He decides to run. How fast should he run?\n",
        "- a hunter saw a rabbit. He decides to throw a stone. How hard/what angle should he throw?"
      ]
    },
    {
      "cell_type": "markdown",
      "metadata": {
        "id": "qpxaecVUO_4T",
        "colab_type": "text"
      },
      "source": [
        "...This is also how machine learns !"
      ]
    },
    {
      "cell_type": "markdown",
      "metadata": {
        "id": "YN0tly5HO_4U",
        "colab_type": "text"
      },
      "source": [
        "again, oversimplifying it, uur knowledge is structured in two forms:\n",
        "\n",
        "#### Categories\n",
        "- Banana is yellow, fruit, food\n",
        "- Lion is animals, dangerous, loud, hairy\n",
        "\n",
        "#### Magnitude\n",
        "- Banana is *very* delocious, *quite* yellowish\n",
        "- Lion is *bigger* than cats, *super* dangerous, *stronger* than men"
      ]
    },
    {
      "cell_type": "markdown",
      "metadata": {
        "id": "cHrLwLVMO_4V",
        "colab_type": "text"
      },
      "source": [
        "## 6.0.3 What makes a knowledgable/ignorant man ?\n",
        "\n",
        "\n",
        "![Image of Yaktocat](https://www.blackgate.com/wp-content/uploads/2014/12/Gandalf-the-Grey.jpg)\n",
        "#### Wise old man\n",
        "- Man that has lived long enough to *gather a huge amount of data* through experience, and make wise decision based on his experience\n",
        "\n",
        "#### ignorant man/Narrow-minded man\n",
        "- Man that has accumulated *insufficient data* through experience, and makes bad decision based on his insufficient experience, or even worse, makes biased decision based on his biased experience\n",
        "\n"
      ]
    },
    {
      "cell_type": "markdown",
      "metadata": {
        "id": "Sy7cMtG2O_4W",
        "colab_type": "text"
      },
      "source": [
        "...This is also what makes a good/bad machine learning model!"
      ]
    },
    {
      "cell_type": "markdown",
      "metadata": {
        "id": "LFzj3sM0O_4W",
        "colab_type": "text"
      },
      "source": [
        "### Before we jump into the next section, make sure we remember these terms\n",
        "\n",
        "- supervised learning\n",
        "- unsupervised learning\n",
        "- classification\n",
        "- Regression (Figuring out the magnitude)"
      ]
    },
    {
      "cell_type": "markdown",
      "metadata": {
        "id": "fzQx8jGRO_4X",
        "colab_type": "text"
      },
      "source": [
        "## 6.1.0 What is Machine Learning?"
      ]
    },
    {
      "cell_type": "markdown",
      "metadata": {
        "id": "RrNnySuEO_4Y",
        "colab_type": "text"
      },
      "source": [
        "Machine learning is an application of artificial intelligence (AI) that provides systems the ability to automatically learn and improve from experience without being explicitly programmed. Machine learning focuses on the development of computer programs that can access data and use it learn for themselves."
      ]
    },
    {
      "cell_type": "markdown",
      "metadata": {
        "id": "WG7LJiPpO_4Z",
        "colab_type": "text"
      },
      "source": [
        "One main difference between machine and human, is human has a motivation to solve problems (either to find shelter/survive/hunger/ happiness/ life improvement etc), and human can actively seek for more data (info) from the 5 senses (lookng/hearing/touching/smelling/tasting).\n",
        "\n",
        "Machine on the other hand, DOES NOT have an motivation to solve problems. It is made to solve a specific problems designed by human. It can be manipulated and set \"reward\" for them for finding the right answer (optimization, or  higher level, via RNN), but at the end of the day a machine is just a machine. This is the reason why the current machine learning stays in the \"weak AI\" stage. Machine also doesn't have 5 senses, it can't actively seek for data, but passively rely on spoon-fed, or scanning through structured dataset to learn."
      ]
    },
    {
      "cell_type": "markdown",
      "metadata": {
        "id": "3Jx_oLKXO_4a",
        "colab_type": "text"
      },
      "source": [
        "\n",
        "![Image of Yaktocat](https://storage.googleapis.com/bwdb/acceleratehk_DSML/class_7/image2/1.png)"
      ]
    },
    {
      "cell_type": "markdown",
      "metadata": {
        "id": "u3zmbNmFO_4b",
        "colab_type": "text"
      },
      "source": [
        "\n",
        "![Image of Yaktocat](https://storage.googleapis.com/bwdb/acceleratehk_DSML/class_7/image2/2.png)"
      ]
    },
    {
      "cell_type": "markdown",
      "metadata": {
        "id": "RotiC15IO_4c",
        "colab_type": "text"
      },
      "source": [
        "## Overview of different machine learning algorithms"
      ]
    },
    {
      "cell_type": "markdown",
      "metadata": {
        "id": "AGXsVJLSO_4d",
        "colab_type": "text"
      },
      "source": [
        "\n",
        "![Image of Yaktocat](https://storage.googleapis.com/bwdb/acceleratehk_DSML/class_7/image2/3.png)"
      ]
    },
    {
      "cell_type": "markdown",
      "metadata": {
        "id": "omyXm4uFO_4e",
        "colab_type": "text"
      },
      "source": [
        "## 6.1.1 How do we apply machine learning?"
      ]
    },
    {
      "cell_type": "markdown",
      "metadata": {
        "id": "1jUu9sy9O_4f",
        "colab_type": "text"
      },
      "source": [
        "- We use ML to solve problems for us\n",
        "- Machine can be train to do almost as good as (or better than) human in certain task\n",
        "- Machine is easily scalable\n",
        "- Machine is better than human when scanning 1 billions documents"
      ]
    },
    {
      "cell_type": "markdown",
      "metadata": {
        "id": "5ZlbhgdxO_4f",
        "colab_type": "text"
      },
      "source": [
        "## [Google Quick Draw](https://quickdraw.withgoogle.com/)\n",
        "- Supervised learning\n",
        "- Classification\n",
        "- Deep learning (Image recognition)"
      ]
    },
    {
      "cell_type": "markdown",
      "metadata": {
        "id": "mByS_JsgO_4g",
        "colab_type": "text"
      },
      "source": [
        "![Image of Yaktocat](https://storage.googleapis.com/bwdb/acceleratehk_DSML/class_7/Screen%20Shot%202017-11-21%20at%206.35.55%20AM.png)\n"
      ]
    },
    {
      "cell_type": "markdown",
      "metadata": {
        "id": "HtAgLWmKO_4h",
        "colab_type": "text"
      },
      "source": [
        "## [Age analysis](https://how-old.net/)\n",
        "- Supervised learning\n",
        "- Regression type (Guessing a number)\n",
        "- Deep learning (Natural Language Processing)"
      ]
    },
    {
      "cell_type": "markdown",
      "metadata": {
        "id": "lulMC1xTO_4i",
        "colab_type": "text"
      },
      "source": [
        "![Image of Yaktocat](https://i2-prod.mirror.co.uk/news/technology-science/technology/article5633217.ece/ALTERNATES/s615/Age_Checker.jpg)\n"
      ]
    },
    {
      "cell_type": "markdown",
      "metadata": {
        "id": "azth80YEO_4i",
        "colab_type": "text"
      },
      "source": [
        "\n",
        "## [Youtube automated captioning/ Google translate](https://www.quora.com/What-kind-of-machine-learning-mechanism-is-behind-YouTube-auto-closed-caption-for-videos)\n",
        "- Supervised learning\n",
        "- Classification\n",
        "- Deep learning (Natural Language Processing)"
      ]
    },
    {
      "cell_type": "markdown",
      "metadata": {
        "id": "Sn4OSrpAO_4j",
        "colab_type": "text"
      },
      "source": [
        "## [Sentimental Analysis](http://text-processing.com/demo/sentiment/)\n",
        "- Supervised learning\n",
        "- Classification\n",
        "- Deep learning (Natural Language Processing)"
      ]
    },
    {
      "cell_type": "markdown",
      "metadata": {
        "id": "yTOiCqltO_4k",
        "colab_type": "text"
      },
      "source": [
        "![Image of Yaktocat](https://image.slidesharecdn.com/sentiment-analysis-by-nltk-150607015128-lva1-app6892/95/sentiment-analysisbynltk-6-638.jpg?cb=1433642406)\n"
      ]
    },
    {
      "cell_type": "markdown",
      "metadata": {
        "id": "6wmUn9m2O_4l",
        "colab_type": "text"
      },
      "source": [
        "## [Hand Writing Analysis](http://www.cs.toronto.edu/~graves/handwriting.cgi?text=patrick+leung&style=..%2Fdata%2Ftrainset_diff_no_start_all_labels.nc%2C1970%2B378&bias=0.15&samples=5)\n",
        "- Supervised learning\n",
        "- Classification\n",
        "- Deep learning (Natural Language Processing)\n",
        "\n"
      ]
    },
    {
      "cell_type": "markdown",
      "metadata": {
        "id": "huguaMZeO_4l",
        "colab_type": "text"
      },
      "source": [
        "## [Linear Regression](https://www.geogebra.org/m/FUe3HfRf)\n",
        "- Supervised learning\n",
        "- Regression\n",
        "- Classic Machine Learning"
      ]
    },
    {
      "cell_type": "markdown",
      "metadata": {
        "id": "BNxIoXTAO_4m",
        "colab_type": "text"
      },
      "source": [
        "## 6.1.2 How do machine learns?"
      ]
    },
    {
      "cell_type": "markdown",
      "metadata": {
        "id": "2p6YC31RO_4o",
        "colab_type": "text"
      },
      "source": [
        "#### Regression - Continuous/Supervised"
      ]
    },
    {
      "cell_type": "markdown",
      "metadata": {
        "id": "BnxFmhK3O_4p",
        "colab_type": "text"
      },
      "source": [
        "\n",
        "![Image of Yaktocat](https://storage.googleapis.com/bwdb/acceleratehk_DSML/class_7/image2/4.png)"
      ]
    },
    {
      "cell_type": "markdown",
      "metadata": {
        "id": "CtBdwRSBO_4q",
        "colab_type": "text"
      },
      "source": [
        "#### Decision Tree Algorithms - Categorical/classification/Supervised"
      ]
    },
    {
      "cell_type": "markdown",
      "metadata": {
        "id": "W42s2FO3O_4r",
        "colab_type": "text"
      },
      "source": [
        "\n",
        "![Image of Yaktocat](https://storage.googleapis.com/bwdb/acceleratehk_DSML/class_7/image2/5.png)"
      ]
    },
    {
      "cell_type": "markdown",
      "metadata": {
        "id": "vGhb5RpTO_4s",
        "colab_type": "text"
      },
      "source": [
        "#### Clustering Algorithms - Categorical/classification/Unsupervised"
      ]
    },
    {
      "cell_type": "markdown",
      "metadata": {
        "id": "x1eXLyTlO_4s",
        "colab_type": "text"
      },
      "source": [
        "\n",
        "![Image of Yaktocat](https://storage.googleapis.com/bwdb/acceleratehk_DSML/class_7/image2/6.png)"
      ]
    },
    {
      "cell_type": "markdown",
      "metadata": {
        "id": "u-quBglxO_4t",
        "colab_type": "text"
      },
      "source": [
        "#### Clustering Algorithms - Continous/Unsupervised"
      ]
    },
    {
      "cell_type": "markdown",
      "metadata": {
        "id": "0u0bRRW0O_4u",
        "colab_type": "text"
      },
      "source": [
        "\n",
        "![Image of Yaktocat](https://storage.googleapis.com/bwdb/acceleratehk_DSML/class_7/image2/7.png)"
      ]
    },
    {
      "cell_type": "markdown",
      "metadata": {
        "id": "hlDD-qjJO_4u",
        "colab_type": "text"
      },
      "source": [
        "## 6.1.3 Using machine learning to solve problems"
      ]
    },
    {
      "cell_type": "markdown",
      "metadata": {
        "id": "j9UIw-5mO_4v",
        "colab_type": "text"
      },
      "source": [
        "![Image of Yaktocat](https://static.pexels.com/photos/323705/pexels-photo-323705.jpeg)\n"
      ]
    },
    {
      "cell_type": "markdown",
      "metadata": {
        "id": "xPCO5cP2O_4w",
        "colab_type": "text"
      },
      "source": [
        "Before going deeper into machine learning, It is easier to solve a practical problem using the concept we just learnt. This is the problem. I have collected some historical house price data from yesterday from http://hk.centadata.com/. The information I have is age/size/location/floor/location of the flat, and I want to predict the house price. Note that the last 2 rows is unknown - that is the problem I want to solve. What would be the expected price for the flat, given the features?"
      ]
    },
    {
      "cell_type": "code",
      "metadata": {
        "id": "tCAThvAUO_4x",
        "colab_type": "code",
        "outputId": "690bec3b-603d-4816-a988-afb3528fa271",
        "colab": {}
      },
      "source": [
        "import pandas as pd\n",
        "floor = [3,7,20,3,3,20,1,4,5,6] \n",
        "price = [870,440,4550,418,1270,586,330,260,'?','?']\n",
        "age = [39,52,31,41,54,21,20,34,20,30]\n",
        "size = [453,497,1507,357,1041,437,240,211,1500,300]\n",
        "hk = [1,1,1,1,0,0,0,0,1,0]\n",
        "Kowloon = [0,0,0,0,1,1,1,1,0,1]\n",
        "df = pd.DataFrame({'floor':floor,'size':size,'price':price,'hk':hk,\"kowloon\":Kowloon,'age':age})\n",
        "df = df[['floor','age','size','hk','kowloon','price']]\n",
        "df['expensive']=list(df.price[0:8].apply(lambda x: 1 if float(x)>600 else 0))+['?','?']\n",
        "df"
      ],
      "execution_count": 0,
      "outputs": [
        {
          "output_type": "execute_result",
          "data": {
            "text/html": [
              "<div>\n",
              "<style>\n",
              "    .dataframe thead tr:only-child th {\n",
              "        text-align: right;\n",
              "    }\n",
              "\n",
              "    .dataframe thead th {\n",
              "        text-align: left;\n",
              "    }\n",
              "\n",
              "    .dataframe tbody tr th {\n",
              "        vertical-align: top;\n",
              "    }\n",
              "</style>\n",
              "<table border=\"1\" class=\"dataframe\">\n",
              "  <thead>\n",
              "    <tr style=\"text-align: right;\">\n",
              "      <th></th>\n",
              "      <th>floor</th>\n",
              "      <th>age</th>\n",
              "      <th>size</th>\n",
              "      <th>hk</th>\n",
              "      <th>kowloon</th>\n",
              "      <th>price</th>\n",
              "      <th>expensive</th>\n",
              "    </tr>\n",
              "  </thead>\n",
              "  <tbody>\n",
              "    <tr>\n",
              "      <th>0</th>\n",
              "      <td>3</td>\n",
              "      <td>39</td>\n",
              "      <td>453</td>\n",
              "      <td>1</td>\n",
              "      <td>0</td>\n",
              "      <td>870</td>\n",
              "      <td>1</td>\n",
              "    </tr>\n",
              "    <tr>\n",
              "      <th>1</th>\n",
              "      <td>7</td>\n",
              "      <td>52</td>\n",
              "      <td>497</td>\n",
              "      <td>1</td>\n",
              "      <td>0</td>\n",
              "      <td>440</td>\n",
              "      <td>0</td>\n",
              "    </tr>\n",
              "    <tr>\n",
              "      <th>2</th>\n",
              "      <td>20</td>\n",
              "      <td>31</td>\n",
              "      <td>1507</td>\n",
              "      <td>1</td>\n",
              "      <td>0</td>\n",
              "      <td>4550</td>\n",
              "      <td>1</td>\n",
              "    </tr>\n",
              "    <tr>\n",
              "      <th>3</th>\n",
              "      <td>3</td>\n",
              "      <td>41</td>\n",
              "      <td>357</td>\n",
              "      <td>1</td>\n",
              "      <td>0</td>\n",
              "      <td>418</td>\n",
              "      <td>0</td>\n",
              "    </tr>\n",
              "    <tr>\n",
              "      <th>4</th>\n",
              "      <td>3</td>\n",
              "      <td>54</td>\n",
              "      <td>1041</td>\n",
              "      <td>0</td>\n",
              "      <td>1</td>\n",
              "      <td>1270</td>\n",
              "      <td>1</td>\n",
              "    </tr>\n",
              "    <tr>\n",
              "      <th>5</th>\n",
              "      <td>20</td>\n",
              "      <td>21</td>\n",
              "      <td>437</td>\n",
              "      <td>0</td>\n",
              "      <td>1</td>\n",
              "      <td>586</td>\n",
              "      <td>0</td>\n",
              "    </tr>\n",
              "    <tr>\n",
              "      <th>6</th>\n",
              "      <td>1</td>\n",
              "      <td>20</td>\n",
              "      <td>240</td>\n",
              "      <td>0</td>\n",
              "      <td>1</td>\n",
              "      <td>330</td>\n",
              "      <td>0</td>\n",
              "    </tr>\n",
              "    <tr>\n",
              "      <th>7</th>\n",
              "      <td>4</td>\n",
              "      <td>34</td>\n",
              "      <td>211</td>\n",
              "      <td>0</td>\n",
              "      <td>1</td>\n",
              "      <td>260</td>\n",
              "      <td>0</td>\n",
              "    </tr>\n",
              "    <tr>\n",
              "      <th>8</th>\n",
              "      <td>5</td>\n",
              "      <td>20</td>\n",
              "      <td>1500</td>\n",
              "      <td>1</td>\n",
              "      <td>0</td>\n",
              "      <td>?</td>\n",
              "      <td>?</td>\n",
              "    </tr>\n",
              "    <tr>\n",
              "      <th>9</th>\n",
              "      <td>6</td>\n",
              "      <td>30</td>\n",
              "      <td>300</td>\n",
              "      <td>0</td>\n",
              "      <td>1</td>\n",
              "      <td>?</td>\n",
              "      <td>?</td>\n",
              "    </tr>\n",
              "  </tbody>\n",
              "</table>\n",
              "</div>"
            ],
            "text/plain": [
              "   floor  age  size  hk  kowloon price expensive\n",
              "0      3   39   453   1        0   870         1\n",
              "1      7   52   497   1        0   440         0\n",
              "2     20   31  1507   1        0  4550         1\n",
              "3      3   41   357   1        0   418         0\n",
              "4      3   54  1041   0        1  1270         1\n",
              "5     20   21   437   0        1   586         0\n",
              "6      1   20   240   0        1   330         0\n",
              "7      4   34   211   0        1   260         0\n",
              "8      5   20  1500   1        0     ?         ?\n",
              "9      6   30   300   0        1     ?         ?"
            ]
          },
          "metadata": {
            "tags": []
          },
          "execution_count": 29
        }
      ]
    },
    {
      "cell_type": "markdown",
      "metadata": {
        "id": "_OzglU4qO_41",
        "colab_type": "text"
      },
      "source": [
        "We can divide the data set to 2 parts. The \"training data\" (i.e the flat  we already know the price), and also the \"unknown data\" (i.e the flat we don't know the price)"
      ]
    },
    {
      "cell_type": "code",
      "metadata": {
        "id": "jjpkwQxcO_42",
        "colab_type": "code",
        "colab": {}
      },
      "source": [
        "train_df = df[df.price!='?'].copy()\n",
        "unknown_df = df[df.price=='?'].copy()"
      ],
      "execution_count": 0,
      "outputs": []
    },
    {
      "cell_type": "code",
      "metadata": {
        "scrolled": true,
        "id": "seT7RC4uO_45",
        "colab_type": "code",
        "outputId": "b157130b-4e4e-4c9f-a019-b8373450f531",
        "colab": {}
      },
      "source": [
        "train_df"
      ],
      "execution_count": 0,
      "outputs": [
        {
          "output_type": "execute_result",
          "data": {
            "text/html": [
              "<div>\n",
              "<style>\n",
              "    .dataframe thead tr:only-child th {\n",
              "        text-align: right;\n",
              "    }\n",
              "\n",
              "    .dataframe thead th {\n",
              "        text-align: left;\n",
              "    }\n",
              "\n",
              "    .dataframe tbody tr th {\n",
              "        vertical-align: top;\n",
              "    }\n",
              "</style>\n",
              "<table border=\"1\" class=\"dataframe\">\n",
              "  <thead>\n",
              "    <tr style=\"text-align: right;\">\n",
              "      <th></th>\n",
              "      <th>floor</th>\n",
              "      <th>age</th>\n",
              "      <th>size</th>\n",
              "      <th>hk</th>\n",
              "      <th>kowloon</th>\n",
              "      <th>price</th>\n",
              "      <th>expensive</th>\n",
              "    </tr>\n",
              "  </thead>\n",
              "  <tbody>\n",
              "    <tr>\n",
              "      <th>0</th>\n",
              "      <td>3</td>\n",
              "      <td>39</td>\n",
              "      <td>453</td>\n",
              "      <td>1</td>\n",
              "      <td>0</td>\n",
              "      <td>870</td>\n",
              "      <td>1</td>\n",
              "    </tr>\n",
              "    <tr>\n",
              "      <th>1</th>\n",
              "      <td>7</td>\n",
              "      <td>52</td>\n",
              "      <td>497</td>\n",
              "      <td>1</td>\n",
              "      <td>0</td>\n",
              "      <td>440</td>\n",
              "      <td>0</td>\n",
              "    </tr>\n",
              "    <tr>\n",
              "      <th>2</th>\n",
              "      <td>20</td>\n",
              "      <td>31</td>\n",
              "      <td>1507</td>\n",
              "      <td>1</td>\n",
              "      <td>0</td>\n",
              "      <td>4550</td>\n",
              "      <td>1</td>\n",
              "    </tr>\n",
              "    <tr>\n",
              "      <th>3</th>\n",
              "      <td>3</td>\n",
              "      <td>41</td>\n",
              "      <td>357</td>\n",
              "      <td>1</td>\n",
              "      <td>0</td>\n",
              "      <td>418</td>\n",
              "      <td>0</td>\n",
              "    </tr>\n",
              "    <tr>\n",
              "      <th>4</th>\n",
              "      <td>3</td>\n",
              "      <td>54</td>\n",
              "      <td>1041</td>\n",
              "      <td>0</td>\n",
              "      <td>1</td>\n",
              "      <td>1270</td>\n",
              "      <td>1</td>\n",
              "    </tr>\n",
              "    <tr>\n",
              "      <th>5</th>\n",
              "      <td>20</td>\n",
              "      <td>21</td>\n",
              "      <td>437</td>\n",
              "      <td>0</td>\n",
              "      <td>1</td>\n",
              "      <td>586</td>\n",
              "      <td>0</td>\n",
              "    </tr>\n",
              "    <tr>\n",
              "      <th>6</th>\n",
              "      <td>1</td>\n",
              "      <td>20</td>\n",
              "      <td>240</td>\n",
              "      <td>0</td>\n",
              "      <td>1</td>\n",
              "      <td>330</td>\n",
              "      <td>0</td>\n",
              "    </tr>\n",
              "    <tr>\n",
              "      <th>7</th>\n",
              "      <td>4</td>\n",
              "      <td>34</td>\n",
              "      <td>211</td>\n",
              "      <td>0</td>\n",
              "      <td>1</td>\n",
              "      <td>260</td>\n",
              "      <td>0</td>\n",
              "    </tr>\n",
              "  </tbody>\n",
              "</table>\n",
              "</div>"
            ],
            "text/plain": [
              "   floor  age  size  hk  kowloon price expensive\n",
              "0      3   39   453   1        0   870         1\n",
              "1      7   52   497   1        0   440         0\n",
              "2     20   31  1507   1        0  4550         1\n",
              "3      3   41   357   1        0   418         0\n",
              "4      3   54  1041   0        1  1270         1\n",
              "5     20   21   437   0        1   586         0\n",
              "6      1   20   240   0        1   330         0\n",
              "7      4   34   211   0        1   260         0"
            ]
          },
          "metadata": {
            "tags": []
          },
          "execution_count": 31
        }
      ]
    },
    {
      "cell_type": "code",
      "metadata": {
        "scrolled": true,
        "id": "lr934XbXO_47",
        "colab_type": "code",
        "outputId": "45eee0a1-38c4-46e7-feef-229f911bfcfb",
        "colab": {}
      },
      "source": [
        "unknown_df"
      ],
      "execution_count": 0,
      "outputs": [
        {
          "output_type": "execute_result",
          "data": {
            "text/html": [
              "<div>\n",
              "<style>\n",
              "    .dataframe thead tr:only-child th {\n",
              "        text-align: right;\n",
              "    }\n",
              "\n",
              "    .dataframe thead th {\n",
              "        text-align: left;\n",
              "    }\n",
              "\n",
              "    .dataframe tbody tr th {\n",
              "        vertical-align: top;\n",
              "    }\n",
              "</style>\n",
              "<table border=\"1\" class=\"dataframe\">\n",
              "  <thead>\n",
              "    <tr style=\"text-align: right;\">\n",
              "      <th></th>\n",
              "      <th>floor</th>\n",
              "      <th>age</th>\n",
              "      <th>size</th>\n",
              "      <th>hk</th>\n",
              "      <th>kowloon</th>\n",
              "      <th>price</th>\n",
              "      <th>expensive</th>\n",
              "    </tr>\n",
              "  </thead>\n",
              "  <tbody>\n",
              "    <tr>\n",
              "      <th>8</th>\n",
              "      <td>5</td>\n",
              "      <td>20</td>\n",
              "      <td>1500</td>\n",
              "      <td>1</td>\n",
              "      <td>0</td>\n",
              "      <td>?</td>\n",
              "      <td>?</td>\n",
              "    </tr>\n",
              "    <tr>\n",
              "      <th>9</th>\n",
              "      <td>6</td>\n",
              "      <td>30</td>\n",
              "      <td>300</td>\n",
              "      <td>0</td>\n",
              "      <td>1</td>\n",
              "      <td>?</td>\n",
              "      <td>?</td>\n",
              "    </tr>\n",
              "  </tbody>\n",
              "</table>\n",
              "</div>"
            ],
            "text/plain": [
              "   floor  age  size  hk  kowloon price expensive\n",
              "8      5   20  1500   1        0     ?         ?\n",
              "9      6   30   300   0        1     ?         ?"
            ]
          },
          "metadata": {
            "tags": []
          },
          "execution_count": 32
        }
      ]
    },
    {
      "cell_type": "markdown",
      "metadata": {
        "id": "NncEC6ywO_5A",
        "colab_type": "text"
      },
      "source": [
        "## 6.2.0 Supervised Learning vs Unsupervised Learning"
      ]
    },
    {
      "cell_type": "markdown",
      "metadata": {
        "id": "Z3zMs47_O_5B",
        "colab_type": "text"
      },
      "source": [
        "![Image of Yaktocat](https://storage.googleapis.com/bwdb/acceleratehk_DSML/class_7/image2/8.png)"
      ]
    },
    {
      "cell_type": "markdown",
      "metadata": {
        "id": "L5H3j_B9O_5C",
        "colab_type": "text"
      },
      "source": [
        "## 6.2.1 What is supervised learning?"
      ]
    },
    {
      "cell_type": "markdown",
      "metadata": {
        "id": "bknScZK2O_5D",
        "colab_type": "text"
      },
      "source": [
        "Supervised learning is the machine learning task of inferring a function from labeled training data"
      ]
    },
    {
      "cell_type": "markdown",
      "metadata": {
        "id": "-38jmjp9O_5E",
        "colab_type": "text"
      },
      "source": [
        "\n",
        "![Image of Yaktocat](https://storage.googleapis.com/bwdb/acceleratehk_DSML/class_7/image2/9.png)"
      ]
    },
    {
      "cell_type": "markdown",
      "metadata": {
        "id": "cn7--0S3O_5F",
        "colab_type": "text"
      },
      "source": [
        "\n",
        "![Image of Yaktocat](https://storage.googleapis.com/bwdb/acceleratehk_DSML/class_7/image2/9.png)"
      ]
    },
    {
      "cell_type": "markdown",
      "metadata": {
        "id": "ILc1Sg2JO_5F",
        "colab_type": "text"
      },
      "source": [
        "![image.png](attachment:image.png)"
      ]
    },
    {
      "cell_type": "markdown",
      "metadata": {
        "id": "ukJpZy-eO_5G",
        "colab_type": "text"
      },
      "source": [
        "\n",
        "![Image of Yaktocat](https://storage.googleapis.com/bwdb/acceleratehk_DSML/class_7/image2/10.png)"
      ]
    },
    {
      "cell_type": "markdown",
      "metadata": {
        "id": "XmfDM2h3O_5G",
        "colab_type": "text"
      },
      "source": [
        "\n",
        "![Image of Yaktocat](https://storage.googleapis.com/bwdb/acceleratehk_DSML/class_7/image2/11.png)"
      ]
    },
    {
      "cell_type": "markdown",
      "metadata": {
        "id": "zx1s-B6WO_5H",
        "colab_type": "text"
      },
      "source": [
        "\n",
        "![Image of Yaktocat](https://storage.googleapis.com/bwdb/acceleratehk_DSML/class_7/image2/12.png)"
      ]
    },
    {
      "cell_type": "markdown",
      "metadata": {
        "id": "6bZiUUTOO_5I",
        "colab_type": "text"
      },
      "source": [
        "\n",
        "![Image of Yaktocat](https://storage.googleapis.com/bwdb/acceleratehk_DSML/class_7/image2/13.png)"
      ]
    },
    {
      "cell_type": "markdown",
      "metadata": {
        "id": "tsT0vy78O_5J",
        "colab_type": "text"
      },
      "source": [
        "\n",
        "![Image of Yaktocat](https://storage.googleapis.com/bwdb/acceleratehk_DSML/class_7/image2/14.png)"
      ]
    },
    {
      "cell_type": "markdown",
      "metadata": {
        "id": "u4XW6RbEO_5J",
        "colab_type": "text"
      },
      "source": [
        "\n",
        "![Image of Yaktocat](https://storage.googleapis.com/bwdb/acceleratehk_DSML/class_7/image2/15.png)"
      ]
    },
    {
      "cell_type": "markdown",
      "metadata": {
        "id": "OMZUPeutO_5K",
        "colab_type": "text"
      },
      "source": [
        "\n",
        "![Image of Yaktocat](https://storage.googleapis.com/bwdb/acceleratehk_DSML/class_7/image2/16.png)"
      ]
    },
    {
      "cell_type": "markdown",
      "metadata": {
        "id": "Ndp1I20IO_5L",
        "colab_type": "text"
      },
      "source": [
        "\n",
        "![Image of Yaktocat](https://storage.googleapis.com/bwdb/acceleratehk_DSML/class_7/image2/17.png)"
      ]
    },
    {
      "cell_type": "code",
      "metadata": {
        "id": "I_kxQ-7CO_5L",
        "colab_type": "code",
        "outputId": "d77e3e70-8344-401a-a8c4-f70af604f035",
        "colab": {}
      },
      "source": [
        "from sklearn import tree\n",
        "train_X = (train_df[['floor','age','size','hk','kowloon']]).astype(int)\n",
        "train_Y = (train_df['expensive']).astype(int)\n",
        "\n",
        "unknown_X = (unknown_df[['floor','age','size','hk','kowloon']]).astype(int)\n",
        "\n",
        "clf = tree.DecisionTreeClassifier()\n",
        "clf = clf.fit(train_X, train_Y)\n",
        "\n",
        "prediction  = clf.predict(unknown_X)\n",
        "unknown_df['prediction'] = prediction\n",
        "unknown_df\n"
      ],
      "execution_count": 0,
      "outputs": [
        {
          "output_type": "execute_result",
          "data": {
            "text/html": [
              "<div>\n",
              "<style>\n",
              "    .dataframe thead tr:only-child th {\n",
              "        text-align: right;\n",
              "    }\n",
              "\n",
              "    .dataframe thead th {\n",
              "        text-align: left;\n",
              "    }\n",
              "\n",
              "    .dataframe tbody tr th {\n",
              "        vertical-align: top;\n",
              "    }\n",
              "</style>\n",
              "<table border=\"1\" class=\"dataframe\">\n",
              "  <thead>\n",
              "    <tr style=\"text-align: right;\">\n",
              "      <th></th>\n",
              "      <th>floor</th>\n",
              "      <th>age</th>\n",
              "      <th>size</th>\n",
              "      <th>hk</th>\n",
              "      <th>kowloon</th>\n",
              "      <th>price</th>\n",
              "      <th>expensive</th>\n",
              "      <th>prediction</th>\n",
              "    </tr>\n",
              "  </thead>\n",
              "  <tbody>\n",
              "    <tr>\n",
              "      <th>8</th>\n",
              "      <td>5</td>\n",
              "      <td>20</td>\n",
              "      <td>1500</td>\n",
              "      <td>1</td>\n",
              "      <td>0</td>\n",
              "      <td>?</td>\n",
              "      <td>?</td>\n",
              "      <td>1</td>\n",
              "    </tr>\n",
              "    <tr>\n",
              "      <th>9</th>\n",
              "      <td>6</td>\n",
              "      <td>30</td>\n",
              "      <td>300</td>\n",
              "      <td>0</td>\n",
              "      <td>1</td>\n",
              "      <td>?</td>\n",
              "      <td>?</td>\n",
              "      <td>0</td>\n",
              "    </tr>\n",
              "  </tbody>\n",
              "</table>\n",
              "</div>"
            ],
            "text/plain": [
              "   floor  age  size  hk  kowloon price expensive  prediction\n",
              "8      5   20  1500   1        0     ?         ?           1\n",
              "9      6   30   300   0        1     ?         ?           0"
            ]
          },
          "metadata": {
            "tags": []
          },
          "execution_count": 34
        }
      ]
    },
    {
      "cell_type": "markdown",
      "metadata": {
        "id": "rFY5VB-yO_5O",
        "colab_type": "text"
      },
      "source": [
        "## 6.2.2 What is unsupervised learning?\n",
        "http://blog.learningtree.com/assumptions-ruin-k-means-clusters/"
      ]
    },
    {
      "cell_type": "markdown",
      "metadata": {
        "id": "umWCF9lrO_5O",
        "colab_type": "text"
      },
      "source": [
        "\n",
        "![Image of Yaktocat](https://storage.googleapis.com/bwdb/acceleratehk_DSML/class_7/image2/18.png)"
      ]
    },
    {
      "cell_type": "markdown",
      "metadata": {
        "id": "OAHJyVJ7O_5P",
        "colab_type": "text"
      },
      "source": [
        "\n",
        "![Image of Yaktocat](https://storage.googleapis.com/bwdb/acceleratehk_DSML/class_7/image2/19.png)"
      ]
    },
    {
      "cell_type": "markdown",
      "metadata": {
        "id": "HnNBBQmGO_5Q",
        "colab_type": "text"
      },
      "source": [
        "\n",
        "![Image of Yaktocat](https://storage.googleapis.com/bwdb/acceleratehk_DSML/class_7/image2/20.png)"
      ]
    },
    {
      "cell_type": "markdown",
      "metadata": {
        "id": "z-wWV8i2O_5Q",
        "colab_type": "text"
      },
      "source": [
        "\n",
        "![Image of Yaktocat](https://storage.googleapis.com/bwdb/acceleratehk_DSML/class_7/image2/21.png)"
      ]
    },
    {
      "cell_type": "markdown",
      "metadata": {
        "id": "fj62fep0O_5R",
        "colab_type": "text"
      },
      "source": [
        "\n",
        "![Image of Yaktocat](https://storage.googleapis.com/bwdb/acceleratehk_DSML/class_7/image2/22.png)"
      ]
    },
    {
      "cell_type": "markdown",
      "metadata": {
        "id": "PiHxKGoAO_5R",
        "colab_type": "text"
      },
      "source": [
        "\n",
        "![Image of Yaktocat](https://storage.googleapis.com/bwdb/acceleratehk_DSML/class_7/image2/23.png)"
      ]
    },
    {
      "cell_type": "markdown",
      "metadata": {
        "id": "rzlNuBSxO_5T",
        "colab_type": "text"
      },
      "source": [
        "\n",
        "![Image of Yaktocat](https://storage.googleapis.com/bwdb/acceleratehk_DSML/class_7/image2/24.png)"
      ]
    },
    {
      "cell_type": "markdown",
      "metadata": {
        "id": "Oq440a8jO_5U",
        "colab_type": "text"
      },
      "source": [
        "\n",
        "![Image of Yaktocat](https://storage.googleapis.com/bwdb/acceleratehk_DSML/class_7/image2/25.png)"
      ]
    },
    {
      "cell_type": "code",
      "metadata": {
        "id": "HyWigQ9PO_5V",
        "colab_type": "code",
        "outputId": "d060c85c-3aac-488c-eb5e-f4bca9ed0214",
        "colab": {}
      },
      "source": [
        "from sklearn import tree\n",
        "from sklearn.cluster import KMeans\n",
        "import numpy as np\n",
        "\n",
        "train_X = (train_df[['floor','age','size','hk','kowloon']]).astype(int)\n",
        "kmeans = KMeans(n_clusters=2, random_state=1).fit(train_X)\n",
        "cluster_df = train_df.copy()\n",
        "cluster_df['cluster'] = kmeans.labels_\n",
        "cluster_df"
      ],
      "execution_count": 0,
      "outputs": [
        {
          "output_type": "execute_result",
          "data": {
            "text/html": [
              "<div>\n",
              "<style>\n",
              "    .dataframe thead tr:only-child th {\n",
              "        text-align: right;\n",
              "    }\n",
              "\n",
              "    .dataframe thead th {\n",
              "        text-align: left;\n",
              "    }\n",
              "\n",
              "    .dataframe tbody tr th {\n",
              "        vertical-align: top;\n",
              "    }\n",
              "</style>\n",
              "<table border=\"1\" class=\"dataframe\">\n",
              "  <thead>\n",
              "    <tr style=\"text-align: right;\">\n",
              "      <th></th>\n",
              "      <th>floor</th>\n",
              "      <th>age</th>\n",
              "      <th>size</th>\n",
              "      <th>hk</th>\n",
              "      <th>kowloon</th>\n",
              "      <th>price</th>\n",
              "      <th>expensive</th>\n",
              "      <th>cluster</th>\n",
              "    </tr>\n",
              "  </thead>\n",
              "  <tbody>\n",
              "    <tr>\n",
              "      <th>0</th>\n",
              "      <td>3</td>\n",
              "      <td>39</td>\n",
              "      <td>453</td>\n",
              "      <td>1</td>\n",
              "      <td>0</td>\n",
              "      <td>870</td>\n",
              "      <td>1</td>\n",
              "      <td>0</td>\n",
              "    </tr>\n",
              "    <tr>\n",
              "      <th>1</th>\n",
              "      <td>7</td>\n",
              "      <td>52</td>\n",
              "      <td>497</td>\n",
              "      <td>1</td>\n",
              "      <td>0</td>\n",
              "      <td>440</td>\n",
              "      <td>0</td>\n",
              "      <td>0</td>\n",
              "    </tr>\n",
              "    <tr>\n",
              "      <th>2</th>\n",
              "      <td>20</td>\n",
              "      <td>31</td>\n",
              "      <td>1507</td>\n",
              "      <td>1</td>\n",
              "      <td>0</td>\n",
              "      <td>4550</td>\n",
              "      <td>1</td>\n",
              "      <td>1</td>\n",
              "    </tr>\n",
              "    <tr>\n",
              "      <th>3</th>\n",
              "      <td>3</td>\n",
              "      <td>41</td>\n",
              "      <td>357</td>\n",
              "      <td>1</td>\n",
              "      <td>0</td>\n",
              "      <td>418</td>\n",
              "      <td>0</td>\n",
              "      <td>0</td>\n",
              "    </tr>\n",
              "    <tr>\n",
              "      <th>4</th>\n",
              "      <td>3</td>\n",
              "      <td>54</td>\n",
              "      <td>1041</td>\n",
              "      <td>0</td>\n",
              "      <td>1</td>\n",
              "      <td>1270</td>\n",
              "      <td>1</td>\n",
              "      <td>1</td>\n",
              "    </tr>\n",
              "    <tr>\n",
              "      <th>5</th>\n",
              "      <td>20</td>\n",
              "      <td>21</td>\n",
              "      <td>437</td>\n",
              "      <td>0</td>\n",
              "      <td>1</td>\n",
              "      <td>586</td>\n",
              "      <td>0</td>\n",
              "      <td>0</td>\n",
              "    </tr>\n",
              "    <tr>\n",
              "      <th>6</th>\n",
              "      <td>1</td>\n",
              "      <td>20</td>\n",
              "      <td>240</td>\n",
              "      <td>0</td>\n",
              "      <td>1</td>\n",
              "      <td>330</td>\n",
              "      <td>0</td>\n",
              "      <td>0</td>\n",
              "    </tr>\n",
              "    <tr>\n",
              "      <th>7</th>\n",
              "      <td>4</td>\n",
              "      <td>34</td>\n",
              "      <td>211</td>\n",
              "      <td>0</td>\n",
              "      <td>1</td>\n",
              "      <td>260</td>\n",
              "      <td>0</td>\n",
              "      <td>0</td>\n",
              "    </tr>\n",
              "  </tbody>\n",
              "</table>\n",
              "</div>"
            ],
            "text/plain": [
              "   floor  age  size  hk  kowloon price expensive  cluster\n",
              "0      3   39   453   1        0   870         1        0\n",
              "1      7   52   497   1        0   440         0        0\n",
              "2     20   31  1507   1        0  4550         1        1\n",
              "3      3   41   357   1        0   418         0        0\n",
              "4      3   54  1041   0        1  1270         1        1\n",
              "5     20   21   437   0        1   586         0        0\n",
              "6      1   20   240   0        1   330         0        0\n",
              "7      4   34   211   0        1   260         0        0"
            ]
          },
          "metadata": {
            "tags": []
          },
          "execution_count": 38
        }
      ]
    },
    {
      "cell_type": "markdown",
      "metadata": {
        "id": "9ah5K3BZO_5X",
        "colab_type": "text"
      },
      "source": [
        "## 6.3.0 Classification vs Regression vs Clustering"
      ]
    },
    {
      "cell_type": "markdown",
      "metadata": {
        "id": "ymZr9qtrO_5Y",
        "colab_type": "text"
      },
      "source": [
        "\n",
        "![Image of Yaktocat](https://storage.googleapis.com/bwdb/acceleratehk_DSML/class_7/image2/26.png)"
      ]
    },
    {
      "cell_type": "markdown",
      "metadata": {
        "id": "1wvew2vuO_5Y",
        "colab_type": "text"
      },
      "source": [
        "## 6.3.1 Quick overview: What is a regression?"
      ]
    },
    {
      "cell_type": "markdown",
      "metadata": {
        "id": "2XJypvdqO_5Z",
        "colab_type": "text"
      },
      "source": [
        "[Linear Regression demo](https://www.geogebra.org/m/FUe3HfRf)"
      ]
    },
    {
      "cell_type": "markdown",
      "metadata": {
        "id": "W7o4HymnO_5a",
        "colab_type": "text"
      },
      "source": [
        "\n",
        "![Image of Yaktocat](https://storage.googleapis.com/bwdb/acceleratehk_DSML/class_7/image2/27.png)"
      ]
    },
    {
      "cell_type": "markdown",
      "metadata": {
        "id": "KtcP_lX0O_5b",
        "colab_type": "text"
      },
      "source": [
        "\n",
        "![Image of Yaktocat](https://storage.googleapis.com/bwdb/acceleratehk_DSML/class_7/image2/28.png)"
      ]
    },
    {
      "cell_type": "markdown",
      "metadata": {
        "id": "tecletWHO_5c",
        "colab_type": "text"
      },
      "source": [
        "\n",
        "![Image of Yaktocat](https://storage.googleapis.com/bwdb/acceleratehk_DSML/class_7/image2/29.png)"
      ]
    },
    {
      "cell_type": "markdown",
      "metadata": {
        "id": "SoiaqWyyO_5d",
        "colab_type": "text"
      },
      "source": [
        "\n",
        "![Image of Yaktocat](https://storage.googleapis.com/bwdb/acceleratehk_DSML/class_7/image2/30.png)"
      ]
    },
    {
      "cell_type": "markdown",
      "metadata": {
        "id": "Fie_JdVmO_5e",
        "colab_type": "text"
      },
      "source": [
        "\n",
        "![Image of Yaktocat](https://storage.googleapis.com/bwdb/acceleratehk_DSML/class_7/image2/31.png)"
      ]
    },
    {
      "cell_type": "markdown",
      "metadata": {
        "id": "xnljZp9uO_5e",
        "colab_type": "text"
      },
      "source": [
        "\n",
        "![Image of Yaktocat](https://storage.googleapis.com/bwdb/acceleratehk_DSML/class_7/image2/32.png)"
      ]
    },
    {
      "cell_type": "markdown",
      "metadata": {
        "id": "pCixs5R_O_5f",
        "colab_type": "text"
      },
      "source": [
        "\n",
        "![Image of Yaktocat](https://storage.googleapis.com/bwdb/acceleratehk_DSML/class_7/image2/33.png)"
      ]
    },
    {
      "cell_type": "markdown",
      "metadata": {
        "id": "xMMDc5qRO_5g",
        "colab_type": "text"
      },
      "source": [
        "\n",
        "![Image of Yaktocat](https://storage.googleapis.com/bwdb/acceleratehk_DSML/class_7/image2/34.png)"
      ]
    },
    {
      "cell_type": "markdown",
      "metadata": {
        "id": "FwYdYsNbO_5h",
        "colab_type": "text"
      },
      "source": [
        "\n",
        "![Image of Yaktocat](https://storage.googleapis.com/bwdb/acceleratehk_DSML/class_7/image2/35.png)"
      ]
    },
    {
      "cell_type": "markdown",
      "metadata": {
        "id": "vIA7SUu8O_5i",
        "colab_type": "text"
      },
      "source": [
        "\n",
        "![Image of Yaktocat](https://storage.googleapis.com/bwdb/acceleratehk_DSML/class_7/image2/36.png)"
      ]
    },
    {
      "cell_type": "markdown",
      "metadata": {
        "id": "ZoPLRyBLO_5j",
        "colab_type": "text"
      },
      "source": [
        "\n",
        "![Image of Yaktocat](https://storage.googleapis.com/bwdb/acceleratehk_DSML/class_7/image2/37.png)"
      ]
    },
    {
      "cell_type": "markdown",
      "metadata": {
        "id": "Fg7HzafKO_5j",
        "colab_type": "text"
      },
      "source": [
        "## 6.3.2 Quick overview: What is a decision tree?"
      ]
    },
    {
      "cell_type": "markdown",
      "metadata": {
        "id": "_g-qhu47O_5k",
        "colab_type": "text"
      },
      "source": [
        "decision tree demo\n",
        "http://www.r2d3.us/visual-intro-to-machine-learning-part-1/"
      ]
    },
    {
      "cell_type": "markdown",
      "metadata": {
        "id": "SnpvJh65O_5l",
        "colab_type": "text"
      },
      "source": [
        "\n",
        "![Image of Yaktocat](https://storage.googleapis.com/bwdb/acceleratehk_DSML/class_7/image2/38.png)"
      ]
    },
    {
      "cell_type": "markdown",
      "metadata": {
        "id": "X69bH1syO_5l",
        "colab_type": "text"
      },
      "source": [
        "\n",
        "![Image of Yaktocat](https://storage.googleapis.com/bwdb/acceleratehk_DSML/class_7/image2/39.png)"
      ]
    },
    {
      "cell_type": "markdown",
      "metadata": {
        "id": "Em_4_c-MO_5m",
        "colab_type": "text"
      },
      "source": [
        "## 6.3.3 Quick overview: What is a clustering? (kmeans)"
      ]
    },
    {
      "cell_type": "markdown",
      "metadata": {
        "id": "y3BHh8GBO_5m",
        "colab_type": "text"
      },
      "source": [
        "Demo of kmeans\n",
        "http://syskall.com/kmeans.js/"
      ]
    },
    {
      "cell_type": "markdown",
      "metadata": {
        "id": "3gJyV_KNO_5n",
        "colab_type": "text"
      },
      "source": [
        "\n",
        "![Image of Yaktocat](https://storage.googleapis.com/bwdb/acceleratehk_DSML/class_7/image2/40.png)"
      ]
    },
    {
      "cell_type": "markdown",
      "metadata": {
        "id": "YWlaNop9O_5o",
        "colab_type": "text"
      },
      "source": [
        "\n",
        "![Image of Yaktocat](https://storage.googleapis.com/bwdb/acceleratehk_DSML/class_7/image2/41.png)"
      ]
    },
    {
      "cell_type": "markdown",
      "metadata": {
        "id": "0WzQwglmO_5o",
        "colab_type": "text"
      },
      "source": [
        "\n",
        "![Image of Yaktocat](https://storage.googleapis.com/bwdb/acceleratehk_DSML/class_7/image2/42.png)"
      ]
    },
    {
      "cell_type": "markdown",
      "metadata": {
        "id": "IPkIhzu-O_5p",
        "colab_type": "text"
      },
      "source": [
        "\n",
        "![Image of Yaktocat](https://storage.googleapis.com/bwdb/acceleratehk_DSML/class_7/image2/43.png)"
      ]
    },
    {
      "cell_type": "markdown",
      "metadata": {
        "id": "6QY4gWVzO_5p",
        "colab_type": "text"
      },
      "source": [
        "\n",
        "![Image of Yaktocat](https://storage.googleapis.com/bwdb/acceleratehk_DSML/class_7/image2/44.png)"
      ]
    },
    {
      "cell_type": "markdown",
      "metadata": {
        "id": "LijsqHS2O_5q",
        "colab_type": "text"
      },
      "source": [
        "\n",
        "![Image of Yaktocat](https://storage.googleapis.com/bwdb/acceleratehk_DSML/class_7/image2/45.png)"
      ]
    },
    {
      "cell_type": "markdown",
      "metadata": {
        "id": "shBVDZHUO_5r",
        "colab_type": "text"
      },
      "source": [
        "## 6.3.4 An overview of model decision\n",
        "\n",
        "\n",
        "![Image of Yaktocat](https://storage.googleapis.com/bwdb/acceleratehk_DSML/class_7/image2/46.png)"
      ]
    },
    {
      "cell_type": "markdown",
      "metadata": {
        "id": "_mQDV0mwO_5r",
        "colab_type": "text"
      },
      "source": [
        "\n",
        "![Image of Yaktocat](https://storage.googleapis.com/bwdb/acceleratehk_DSML/class_7/image2/47.png)"
      ]
    },
    {
      "cell_type": "markdown",
      "metadata": {
        "id": "p-G2EribO_5s",
        "colab_type": "text"
      },
      "source": [
        "## 6.3.5 An overview of model mertrics"
      ]
    },
    {
      "cell_type": "markdown",
      "metadata": {
        "id": "ruIQ9jKFO_5t",
        "colab_type": "text"
      },
      "source": [
        "How to decide whether a model is a good model?"
      ]
    },
    {
      "cell_type": "markdown",
      "metadata": {
        "id": "yeO9Ov1aO_5u",
        "colab_type": "text"
      },
      "source": [
        "# 7.1.0 Linear Regression\n",
        "\n",
        "http://guessthecorrelation.com/\n",
        "\n",
        "Linear regression is a predictive modeling technique for predicting a numeric response variable based on one or more explanatory variables. The term \"regression\" in predictive modeling generally refers to any modeling task that involves predicting a real number (as opposed classification, which involves predicting a category or class.). The term \"linear\" in the name linear regression refers to the fact that the method models data with linear combination of the explanatory variables. A linear combination is an expression where one or more variables are scaled by a constant factor and added together. In the case of linear regression with a single explanatory variable, the linear combination used in linear regression can be expressed as:\n",
        "\n",
        "####             response = intercept + constant ∗ explanatory\n",
        "\n",
        "The right side if the equation defines a line with a certain y-intercept and slope times the explanatory variable. In other words, linear regression in its most basic form fits a straight line to the response variable. The model is designed to fit a line that minimizes the squared differences (also called errors or residuals.). We won't go into all the math behind how the model actually minimizes the squared errors, but the end result is a line intended to give the \"best fit\" to the data. Since linear regression fits data with a line, it is most effective in cases where the response and explanatory variable have a linear relationship."
      ]
    },
    {
      "cell_type": "markdown",
      "metadata": {
        "id": "pcUK0qMYO_5v",
        "colab_type": "text"
      },
      "source": [
        "Let's revisit the mtcars data set and use linear regression to predict vehicle gas mileage based on vehicle weight. First, let's load some libraries and look at a scatterplot of weight and mpg to get a sense of the shape of the data:"
      ]
    },
    {
      "cell_type": "code",
      "metadata": {
        "id": "sWbKlvG4O_5w",
        "colab_type": "code",
        "outputId": "b1f1e713-8fc8-4d22-e433-cb226a76196e",
        "colab": {}
      },
      "source": [
        "import numpy as np\n",
        "import pandas as pd\n",
        "from ggplot import mtcars\n",
        "import matplotlib\n",
        "import matplotlib.pyplot as plt\n",
        "import scipy.stats as stats\n",
        "matplotlib.style.use('ggplot')\n",
        "%matplotlib inline\n"
      ],
      "execution_count": 0,
      "outputs": [
        {
          "output_type": "stream",
          "text": [
            "C:\\Anaconda2\\lib\\site-packages\\ggplot\\utils.py:81: FutureWarning: pandas.tslib is deprecated and will be removed in a future version.\n",
            "You can access Timestamp as pandas.Timestamp\n",
            "  pd.tslib.Timestamp,\n",
            "C:\\Anaconda2\\lib\\site-packages\\ggplot\\stats\\smoothers.py:4: FutureWarning: The pandas.lib module is deprecated and will be removed in a future version. These are private functions and can be accessed from pandas._libs.lib instead\n",
            "  from pandas.lib import Timestamp\n",
            "C:\\Anaconda2\\lib\\site-packages\\statsmodels\\compat\\pandas.py:56: FutureWarning: The pandas.core.datetools module is deprecated and will be removed in a future version. Please use the pandas.tseries module instead.\n",
            "  from pandas.core import datetools\n"
          ],
          "name": "stderr"
        }
      ]
    },
    {
      "cell_type": "code",
      "metadata": {
        "id": "QsckJ0CeO_5z",
        "colab_type": "code",
        "outputId": "1d9bde18-88e2-44d6-c9ee-608ee9ba3ec7",
        "colab": {}
      },
      "source": [
        "mtcars"
      ],
      "execution_count": 0,
      "outputs": [
        {
          "output_type": "execute_result",
          "data": {
            "text/html": [
              "<div>\n",
              "<style>\n",
              "    .dataframe thead tr:only-child th {\n",
              "        text-align: right;\n",
              "    }\n",
              "\n",
              "    .dataframe thead th {\n",
              "        text-align: left;\n",
              "    }\n",
              "\n",
              "    .dataframe tbody tr th {\n",
              "        vertical-align: top;\n",
              "    }\n",
              "</style>\n",
              "<table border=\"1\" class=\"dataframe\">\n",
              "  <thead>\n",
              "    <tr style=\"text-align: right;\">\n",
              "      <th></th>\n",
              "      <th>name</th>\n",
              "      <th>mpg</th>\n",
              "      <th>cyl</th>\n",
              "      <th>disp</th>\n",
              "      <th>hp</th>\n",
              "      <th>drat</th>\n",
              "      <th>wt</th>\n",
              "      <th>qsec</th>\n",
              "      <th>vs</th>\n",
              "      <th>am</th>\n",
              "      <th>gear</th>\n",
              "      <th>carb</th>\n",
              "    </tr>\n",
              "  </thead>\n",
              "  <tbody>\n",
              "    <tr>\n",
              "      <th>0</th>\n",
              "      <td>Mazda RX4</td>\n",
              "      <td>21.0</td>\n",
              "      <td>6</td>\n",
              "      <td>160.0</td>\n",
              "      <td>110</td>\n",
              "      <td>3.90</td>\n",
              "      <td>2.620</td>\n",
              "      <td>16.46</td>\n",
              "      <td>0</td>\n",
              "      <td>1</td>\n",
              "      <td>4</td>\n",
              "      <td>4</td>\n",
              "    </tr>\n",
              "    <tr>\n",
              "      <th>1</th>\n",
              "      <td>Mazda RX4 Wag</td>\n",
              "      <td>21.0</td>\n",
              "      <td>6</td>\n",
              "      <td>160.0</td>\n",
              "      <td>110</td>\n",
              "      <td>3.90</td>\n",
              "      <td>2.875</td>\n",
              "      <td>17.02</td>\n",
              "      <td>0</td>\n",
              "      <td>1</td>\n",
              "      <td>4</td>\n",
              "      <td>4</td>\n",
              "    </tr>\n",
              "    <tr>\n",
              "      <th>2</th>\n",
              "      <td>Datsun 710</td>\n",
              "      <td>22.8</td>\n",
              "      <td>4</td>\n",
              "      <td>108.0</td>\n",
              "      <td>93</td>\n",
              "      <td>3.85</td>\n",
              "      <td>2.320</td>\n",
              "      <td>18.61</td>\n",
              "      <td>1</td>\n",
              "      <td>1</td>\n",
              "      <td>4</td>\n",
              "      <td>1</td>\n",
              "    </tr>\n",
              "    <tr>\n",
              "      <th>3</th>\n",
              "      <td>Hornet 4 Drive</td>\n",
              "      <td>21.4</td>\n",
              "      <td>6</td>\n",
              "      <td>258.0</td>\n",
              "      <td>110</td>\n",
              "      <td>3.08</td>\n",
              "      <td>3.215</td>\n",
              "      <td>19.44</td>\n",
              "      <td>1</td>\n",
              "      <td>0</td>\n",
              "      <td>3</td>\n",
              "      <td>1</td>\n",
              "    </tr>\n",
              "    <tr>\n",
              "      <th>4</th>\n",
              "      <td>Hornet Sportabout</td>\n",
              "      <td>18.7</td>\n",
              "      <td>8</td>\n",
              "      <td>360.0</td>\n",
              "      <td>175</td>\n",
              "      <td>3.15</td>\n",
              "      <td>3.440</td>\n",
              "      <td>17.02</td>\n",
              "      <td>0</td>\n",
              "      <td>0</td>\n",
              "      <td>3</td>\n",
              "      <td>2</td>\n",
              "    </tr>\n",
              "    <tr>\n",
              "      <th>5</th>\n",
              "      <td>Valiant</td>\n",
              "      <td>18.1</td>\n",
              "      <td>6</td>\n",
              "      <td>225.0</td>\n",
              "      <td>105</td>\n",
              "      <td>2.76</td>\n",
              "      <td>3.460</td>\n",
              "      <td>20.22</td>\n",
              "      <td>1</td>\n",
              "      <td>0</td>\n",
              "      <td>3</td>\n",
              "      <td>1</td>\n",
              "    </tr>\n",
              "    <tr>\n",
              "      <th>6</th>\n",
              "      <td>Duster 360</td>\n",
              "      <td>14.3</td>\n",
              "      <td>8</td>\n",
              "      <td>360.0</td>\n",
              "      <td>245</td>\n",
              "      <td>3.21</td>\n",
              "      <td>3.570</td>\n",
              "      <td>15.84</td>\n",
              "      <td>0</td>\n",
              "      <td>0</td>\n",
              "      <td>3</td>\n",
              "      <td>4</td>\n",
              "    </tr>\n",
              "    <tr>\n",
              "      <th>7</th>\n",
              "      <td>Merc 240D</td>\n",
              "      <td>24.4</td>\n",
              "      <td>4</td>\n",
              "      <td>146.7</td>\n",
              "      <td>62</td>\n",
              "      <td>3.69</td>\n",
              "      <td>3.190</td>\n",
              "      <td>20.00</td>\n",
              "      <td>1</td>\n",
              "      <td>0</td>\n",
              "      <td>4</td>\n",
              "      <td>2</td>\n",
              "    </tr>\n",
              "    <tr>\n",
              "      <th>8</th>\n",
              "      <td>Merc 230</td>\n",
              "      <td>22.8</td>\n",
              "      <td>4</td>\n",
              "      <td>140.8</td>\n",
              "      <td>95</td>\n",
              "      <td>3.92</td>\n",
              "      <td>3.150</td>\n",
              "      <td>22.90</td>\n",
              "      <td>1</td>\n",
              "      <td>0</td>\n",
              "      <td>4</td>\n",
              "      <td>2</td>\n",
              "    </tr>\n",
              "    <tr>\n",
              "      <th>9</th>\n",
              "      <td>Merc 280</td>\n",
              "      <td>19.2</td>\n",
              "      <td>6</td>\n",
              "      <td>167.6</td>\n",
              "      <td>123</td>\n",
              "      <td>3.92</td>\n",
              "      <td>3.440</td>\n",
              "      <td>18.30</td>\n",
              "      <td>1</td>\n",
              "      <td>0</td>\n",
              "      <td>4</td>\n",
              "      <td>4</td>\n",
              "    </tr>\n",
              "    <tr>\n",
              "      <th>10</th>\n",
              "      <td>Merc 280C</td>\n",
              "      <td>17.8</td>\n",
              "      <td>6</td>\n",
              "      <td>167.6</td>\n",
              "      <td>123</td>\n",
              "      <td>3.92</td>\n",
              "      <td>3.440</td>\n",
              "      <td>18.90</td>\n",
              "      <td>1</td>\n",
              "      <td>0</td>\n",
              "      <td>4</td>\n",
              "      <td>4</td>\n",
              "    </tr>\n",
              "    <tr>\n",
              "      <th>11</th>\n",
              "      <td>Merc 450SE</td>\n",
              "      <td>16.4</td>\n",
              "      <td>8</td>\n",
              "      <td>275.8</td>\n",
              "      <td>180</td>\n",
              "      <td>3.07</td>\n",
              "      <td>4.070</td>\n",
              "      <td>17.40</td>\n",
              "      <td>0</td>\n",
              "      <td>0</td>\n",
              "      <td>3</td>\n",
              "      <td>3</td>\n",
              "    </tr>\n",
              "    <tr>\n",
              "      <th>12</th>\n",
              "      <td>Merc 450SL</td>\n",
              "      <td>17.3</td>\n",
              "      <td>8</td>\n",
              "      <td>275.8</td>\n",
              "      <td>180</td>\n",
              "      <td>3.07</td>\n",
              "      <td>3.730</td>\n",
              "      <td>17.60</td>\n",
              "      <td>0</td>\n",
              "      <td>0</td>\n",
              "      <td>3</td>\n",
              "      <td>3</td>\n",
              "    </tr>\n",
              "    <tr>\n",
              "      <th>13</th>\n",
              "      <td>Merc 450SLC</td>\n",
              "      <td>15.2</td>\n",
              "      <td>8</td>\n",
              "      <td>275.8</td>\n",
              "      <td>180</td>\n",
              "      <td>3.07</td>\n",
              "      <td>3.780</td>\n",
              "      <td>18.00</td>\n",
              "      <td>0</td>\n",
              "      <td>0</td>\n",
              "      <td>3</td>\n",
              "      <td>3</td>\n",
              "    </tr>\n",
              "    <tr>\n",
              "      <th>14</th>\n",
              "      <td>Cadillac Fleetwood</td>\n",
              "      <td>10.4</td>\n",
              "      <td>8</td>\n",
              "      <td>472.0</td>\n",
              "      <td>205</td>\n",
              "      <td>2.93</td>\n",
              "      <td>5.250</td>\n",
              "      <td>17.98</td>\n",
              "      <td>0</td>\n",
              "      <td>0</td>\n",
              "      <td>3</td>\n",
              "      <td>4</td>\n",
              "    </tr>\n",
              "    <tr>\n",
              "      <th>15</th>\n",
              "      <td>Lincoln Continental</td>\n",
              "      <td>10.4</td>\n",
              "      <td>8</td>\n",
              "      <td>460.0</td>\n",
              "      <td>215</td>\n",
              "      <td>3.00</td>\n",
              "      <td>5.424</td>\n",
              "      <td>17.82</td>\n",
              "      <td>0</td>\n",
              "      <td>0</td>\n",
              "      <td>3</td>\n",
              "      <td>4</td>\n",
              "    </tr>\n",
              "    <tr>\n",
              "      <th>16</th>\n",
              "      <td>Chrysler Imperial</td>\n",
              "      <td>14.7</td>\n",
              "      <td>8</td>\n",
              "      <td>440.0</td>\n",
              "      <td>230</td>\n",
              "      <td>3.23</td>\n",
              "      <td>5.345</td>\n",
              "      <td>17.42</td>\n",
              "      <td>0</td>\n",
              "      <td>0</td>\n",
              "      <td>3</td>\n",
              "      <td>4</td>\n",
              "    </tr>\n",
              "    <tr>\n",
              "      <th>17</th>\n",
              "      <td>Fiat 128</td>\n",
              "      <td>32.4</td>\n",
              "      <td>4</td>\n",
              "      <td>78.7</td>\n",
              "      <td>66</td>\n",
              "      <td>4.08</td>\n",
              "      <td>2.200</td>\n",
              "      <td>19.47</td>\n",
              "      <td>1</td>\n",
              "      <td>1</td>\n",
              "      <td>4</td>\n",
              "      <td>1</td>\n",
              "    </tr>\n",
              "    <tr>\n",
              "      <th>18</th>\n",
              "      <td>Honda Civic</td>\n",
              "      <td>30.4</td>\n",
              "      <td>4</td>\n",
              "      <td>75.7</td>\n",
              "      <td>52</td>\n",
              "      <td>4.93</td>\n",
              "      <td>1.615</td>\n",
              "      <td>18.52</td>\n",
              "      <td>1</td>\n",
              "      <td>1</td>\n",
              "      <td>4</td>\n",
              "      <td>2</td>\n",
              "    </tr>\n",
              "    <tr>\n",
              "      <th>19</th>\n",
              "      <td>Toyota Corolla</td>\n",
              "      <td>33.9</td>\n",
              "      <td>4</td>\n",
              "      <td>71.1</td>\n",
              "      <td>65</td>\n",
              "      <td>4.22</td>\n",
              "      <td>1.835</td>\n",
              "      <td>19.90</td>\n",
              "      <td>1</td>\n",
              "      <td>1</td>\n",
              "      <td>4</td>\n",
              "      <td>1</td>\n",
              "    </tr>\n",
              "    <tr>\n",
              "      <th>20</th>\n",
              "      <td>Toyota Corona</td>\n",
              "      <td>21.5</td>\n",
              "      <td>4</td>\n",
              "      <td>120.1</td>\n",
              "      <td>97</td>\n",
              "      <td>3.70</td>\n",
              "      <td>2.465</td>\n",
              "      <td>20.01</td>\n",
              "      <td>1</td>\n",
              "      <td>0</td>\n",
              "      <td>3</td>\n",
              "      <td>1</td>\n",
              "    </tr>\n",
              "    <tr>\n",
              "      <th>21</th>\n",
              "      <td>Dodge Challenger</td>\n",
              "      <td>15.5</td>\n",
              "      <td>8</td>\n",
              "      <td>318.0</td>\n",
              "      <td>150</td>\n",
              "      <td>2.76</td>\n",
              "      <td>3.520</td>\n",
              "      <td>16.87</td>\n",
              "      <td>0</td>\n",
              "      <td>0</td>\n",
              "      <td>3</td>\n",
              "      <td>2</td>\n",
              "    </tr>\n",
              "    <tr>\n",
              "      <th>22</th>\n",
              "      <td>AMC Javelin</td>\n",
              "      <td>15.2</td>\n",
              "      <td>8</td>\n",
              "      <td>304.0</td>\n",
              "      <td>150</td>\n",
              "      <td>3.15</td>\n",
              "      <td>3.435</td>\n",
              "      <td>17.30</td>\n",
              "      <td>0</td>\n",
              "      <td>0</td>\n",
              "      <td>3</td>\n",
              "      <td>2</td>\n",
              "    </tr>\n",
              "    <tr>\n",
              "      <th>23</th>\n",
              "      <td>Camaro Z28</td>\n",
              "      <td>13.3</td>\n",
              "      <td>8</td>\n",
              "      <td>350.0</td>\n",
              "      <td>245</td>\n",
              "      <td>3.73</td>\n",
              "      <td>3.840</td>\n",
              "      <td>15.41</td>\n",
              "      <td>0</td>\n",
              "      <td>0</td>\n",
              "      <td>3</td>\n",
              "      <td>4</td>\n",
              "    </tr>\n",
              "    <tr>\n",
              "      <th>24</th>\n",
              "      <td>Pontiac Firebird</td>\n",
              "      <td>19.2</td>\n",
              "      <td>8</td>\n",
              "      <td>400.0</td>\n",
              "      <td>175</td>\n",
              "      <td>3.08</td>\n",
              "      <td>3.845</td>\n",
              "      <td>17.05</td>\n",
              "      <td>0</td>\n",
              "      <td>0</td>\n",
              "      <td>3</td>\n",
              "      <td>2</td>\n",
              "    </tr>\n",
              "    <tr>\n",
              "      <th>25</th>\n",
              "      <td>Fiat X1-9</td>\n",
              "      <td>27.3</td>\n",
              "      <td>4</td>\n",
              "      <td>79.0</td>\n",
              "      <td>66</td>\n",
              "      <td>4.08</td>\n",
              "      <td>1.935</td>\n",
              "      <td>18.90</td>\n",
              "      <td>1</td>\n",
              "      <td>1</td>\n",
              "      <td>4</td>\n",
              "      <td>1</td>\n",
              "    </tr>\n",
              "    <tr>\n",
              "      <th>26</th>\n",
              "      <td>Porsche 914-2</td>\n",
              "      <td>26.0</td>\n",
              "      <td>4</td>\n",
              "      <td>120.3</td>\n",
              "      <td>91</td>\n",
              "      <td>4.43</td>\n",
              "      <td>2.140</td>\n",
              "      <td>16.70</td>\n",
              "      <td>0</td>\n",
              "      <td>1</td>\n",
              "      <td>5</td>\n",
              "      <td>2</td>\n",
              "    </tr>\n",
              "    <tr>\n",
              "      <th>27</th>\n",
              "      <td>Lotus Europa</td>\n",
              "      <td>30.4</td>\n",
              "      <td>4</td>\n",
              "      <td>95.1</td>\n",
              "      <td>113</td>\n",
              "      <td>3.77</td>\n",
              "      <td>1.513</td>\n",
              "      <td>16.90</td>\n",
              "      <td>1</td>\n",
              "      <td>1</td>\n",
              "      <td>5</td>\n",
              "      <td>2</td>\n",
              "    </tr>\n",
              "    <tr>\n",
              "      <th>28</th>\n",
              "      <td>Ford Pantera L</td>\n",
              "      <td>15.8</td>\n",
              "      <td>8</td>\n",
              "      <td>351.0</td>\n",
              "      <td>264</td>\n",
              "      <td>4.22</td>\n",
              "      <td>3.170</td>\n",
              "      <td>14.50</td>\n",
              "      <td>0</td>\n",
              "      <td>1</td>\n",
              "      <td>5</td>\n",
              "      <td>4</td>\n",
              "    </tr>\n",
              "    <tr>\n",
              "      <th>29</th>\n",
              "      <td>Ferrari Dino</td>\n",
              "      <td>19.7</td>\n",
              "      <td>6</td>\n",
              "      <td>145.0</td>\n",
              "      <td>175</td>\n",
              "      <td>3.62</td>\n",
              "      <td>2.770</td>\n",
              "      <td>15.50</td>\n",
              "      <td>0</td>\n",
              "      <td>1</td>\n",
              "      <td>5</td>\n",
              "      <td>6</td>\n",
              "    </tr>\n",
              "    <tr>\n",
              "      <th>30</th>\n",
              "      <td>Maserati Bora</td>\n",
              "      <td>15.0</td>\n",
              "      <td>8</td>\n",
              "      <td>301.0</td>\n",
              "      <td>335</td>\n",
              "      <td>3.54</td>\n",
              "      <td>3.570</td>\n",
              "      <td>14.60</td>\n",
              "      <td>0</td>\n",
              "      <td>1</td>\n",
              "      <td>5</td>\n",
              "      <td>8</td>\n",
              "    </tr>\n",
              "    <tr>\n",
              "      <th>31</th>\n",
              "      <td>Volvo 142E</td>\n",
              "      <td>21.4</td>\n",
              "      <td>4</td>\n",
              "      <td>121.0</td>\n",
              "      <td>109</td>\n",
              "      <td>4.11</td>\n",
              "      <td>2.780</td>\n",
              "      <td>18.60</td>\n",
              "      <td>1</td>\n",
              "      <td>1</td>\n",
              "      <td>4</td>\n",
              "      <td>2</td>\n",
              "    </tr>\n",
              "  </tbody>\n",
              "</table>\n",
              "</div>"
            ],
            "text/plain": [
              "                   name   mpg  cyl   disp   hp  drat     wt   qsec  vs  am  \\\n",
              "0             Mazda RX4  21.0    6  160.0  110  3.90  2.620  16.46   0   1   \n",
              "1         Mazda RX4 Wag  21.0    6  160.0  110  3.90  2.875  17.02   0   1   \n",
              "2            Datsun 710  22.8    4  108.0   93  3.85  2.320  18.61   1   1   \n",
              "3        Hornet 4 Drive  21.4    6  258.0  110  3.08  3.215  19.44   1   0   \n",
              "4     Hornet Sportabout  18.7    8  360.0  175  3.15  3.440  17.02   0   0   \n",
              "5               Valiant  18.1    6  225.0  105  2.76  3.460  20.22   1   0   \n",
              "6            Duster 360  14.3    8  360.0  245  3.21  3.570  15.84   0   0   \n",
              "7             Merc 240D  24.4    4  146.7   62  3.69  3.190  20.00   1   0   \n",
              "8              Merc 230  22.8    4  140.8   95  3.92  3.150  22.90   1   0   \n",
              "9              Merc 280  19.2    6  167.6  123  3.92  3.440  18.30   1   0   \n",
              "10            Merc 280C  17.8    6  167.6  123  3.92  3.440  18.90   1   0   \n",
              "11           Merc 450SE  16.4    8  275.8  180  3.07  4.070  17.40   0   0   \n",
              "12           Merc 450SL  17.3    8  275.8  180  3.07  3.730  17.60   0   0   \n",
              "13          Merc 450SLC  15.2    8  275.8  180  3.07  3.780  18.00   0   0   \n",
              "14   Cadillac Fleetwood  10.4    8  472.0  205  2.93  5.250  17.98   0   0   \n",
              "15  Lincoln Continental  10.4    8  460.0  215  3.00  5.424  17.82   0   0   \n",
              "16    Chrysler Imperial  14.7    8  440.0  230  3.23  5.345  17.42   0   0   \n",
              "17             Fiat 128  32.4    4   78.7   66  4.08  2.200  19.47   1   1   \n",
              "18          Honda Civic  30.4    4   75.7   52  4.93  1.615  18.52   1   1   \n",
              "19       Toyota Corolla  33.9    4   71.1   65  4.22  1.835  19.90   1   1   \n",
              "20        Toyota Corona  21.5    4  120.1   97  3.70  2.465  20.01   1   0   \n",
              "21     Dodge Challenger  15.5    8  318.0  150  2.76  3.520  16.87   0   0   \n",
              "22          AMC Javelin  15.2    8  304.0  150  3.15  3.435  17.30   0   0   \n",
              "23           Camaro Z28  13.3    8  350.0  245  3.73  3.840  15.41   0   0   \n",
              "24     Pontiac Firebird  19.2    8  400.0  175  3.08  3.845  17.05   0   0   \n",
              "25            Fiat X1-9  27.3    4   79.0   66  4.08  1.935  18.90   1   1   \n",
              "26        Porsche 914-2  26.0    4  120.3   91  4.43  2.140  16.70   0   1   \n",
              "27         Lotus Europa  30.4    4   95.1  113  3.77  1.513  16.90   1   1   \n",
              "28       Ford Pantera L  15.8    8  351.0  264  4.22  3.170  14.50   0   1   \n",
              "29         Ferrari Dino  19.7    6  145.0  175  3.62  2.770  15.50   0   1   \n",
              "30        Maserati Bora  15.0    8  301.0  335  3.54  3.570  14.60   0   1   \n",
              "31           Volvo 142E  21.4    4  121.0  109  4.11  2.780  18.60   1   1   \n",
              "\n",
              "    gear  carb  \n",
              "0      4     4  \n",
              "1      4     4  \n",
              "2      4     1  \n",
              "3      3     1  \n",
              "4      3     2  \n",
              "5      3     1  \n",
              "6      3     4  \n",
              "7      4     2  \n",
              "8      4     2  \n",
              "9      4     4  \n",
              "10     4     4  \n",
              "11     3     3  \n",
              "12     3     3  \n",
              "13     3     3  \n",
              "14     3     4  \n",
              "15     3     4  \n",
              "16     3     4  \n",
              "17     4     1  \n",
              "18     4     2  \n",
              "19     4     1  \n",
              "20     3     1  \n",
              "21     3     2  \n",
              "22     3     2  \n",
              "23     3     4  \n",
              "24     3     2  \n",
              "25     4     1  \n",
              "26     5     2  \n",
              "27     5     2  \n",
              "28     5     4  \n",
              "29     5     6  \n",
              "30     5     8  \n",
              "31     4     2  "
            ]
          },
          "metadata": {
            "tags": []
          },
          "execution_count": 2
        }
      ]
    },
    {
      "cell_type": "code",
      "metadata": {
        "id": "Uq3CD4nVO_51",
        "colab_type": "code",
        "outputId": "fd8d8edb-ef11-4b1a-aa24-73ca76bb1227",
        "colab": {}
      },
      "source": [
        "mtcars.plot(kind=\"scatter\",\n",
        "           x=\"wt\",\n",
        "           y=\"mpg\",\n",
        "           figsize=(9,9),\n",
        "           color=\"black\")"
      ],
      "execution_count": 0,
      "outputs": [
        {
          "output_type": "execute_result",
          "data": {
            "text/plain": [
              "<matplotlib.axes._subplots.AxesSubplot at 0xd9fadd8>"
            ]
          },
          "metadata": {
            "tags": []
          },
          "execution_count": 3
        },
        {
          "output_type": "display_data",
          "data": {
            "image/png": "[encoded data removed]",
            "text/plain": [
              "<matplotlib.figure.Figure at 0xd9fa278>"
            ]
          },
          "metadata": {
            "tags": []
          }
        }
      ]
    },
    {
      "cell_type": "markdown",
      "metadata": {
        "id": "Gus9E2toO_54",
        "colab_type": "text"
      },
      "source": [
        "The scatterplot shows a roughly linear relationship between weight and mpg, suggesting a linear regression model might work well."
      ]
    },
    {
      "cell_type": "markdown",
      "metadata": {
        "id": "M5F_dt2eO_54",
        "colab_type": "text"
      },
      "source": [
        "Python's scikit-learn library contains a wide range of functions for predictive modeling. Let's load its linear regression training function and fit a line to the mtcars data:"
      ]
    },
    {
      "cell_type": "code",
      "metadata": {
        "id": "LvtsDLcSO_55",
        "colab_type": "code",
        "colab": {}
      },
      "source": [
        "from sklearn import linear_model"
      ],
      "execution_count": 0,
      "outputs": []
    },
    {
      "cell_type": "code",
      "metadata": {
        "id": "M35O5XoUO_56",
        "colab_type": "code",
        "outputId": "09786cc1-a9e2-4978-d647-4af4c2f23d63",
        "colab": {}
      },
      "source": [
        "# Initialize model\n",
        "regression_model = linear_model.LinearRegression()\n",
        "\n",
        "# Train the model using the mtcars data\n",
        "regression_model.fit(X = pd.DataFrame(mtcars[\"wt\"]), \n",
        "                     y = mtcars[\"mpg\"])\n",
        "\n",
        "# Check trained model y-intercept\n",
        "print(regression_model.intercept_)\n",
        "\n",
        "# Check trained model coefficients\n",
        "print(regression_model.coef_)"
      ],
      "execution_count": 0,
      "outputs": [
        {
          "output_type": "stream",
          "text": [
            "37.2851261673\n",
            "[-5.34447157]\n"
          ],
          "name": "stdout"
        }
      ]
    },
    {
      "cell_type": "markdown",
      "metadata": {
        "id": "8UpRyDrKO_58",
        "colab_type": "text"
      },
      "source": [
        "\n",
        "The output above shows the model intercept and coefficients used to create the best fit line. In this case the y-intercept term is set to 37.2851 and the coefficient for the weight variable is -5.3445. In other words, the model fit the line mpg = 37.2851 - 5.3445*wt."
      ]
    },
    {
      "cell_type": "markdown",
      "metadata": {
        "id": "GN66T93-O_59",
        "colab_type": "text"
      },
      "source": [
        "We can get a sense of how much of the variance in the response variable is explained by the model using the model.score() function:"
      ]
    },
    {
      "cell_type": "code",
      "metadata": {
        "id": "l6CKKsicO_5-",
        "colab_type": "code",
        "outputId": "3838fa1d-f3f0-4e97-d214-b6679f10566b",
        "colab": {}
      },
      "source": [
        "regression_model.score(X = pd.DataFrame(mtcars[\"wt\"]), \n",
        "                       y = mtcars[\"mpg\"])"
      ],
      "execution_count": 0,
      "outputs": [
        {
          "output_type": "execute_result",
          "data": {
            "text/plain": [
              "0.75283279365826461"
            ]
          },
          "metadata": {
            "tags": []
          },
          "execution_count": 6
        }
      ]
    },
    {
      "cell_type": "markdown",
      "metadata": {
        "id": "kLCcvlMmO_6A",
        "colab_type": "text"
      },
      "source": [
        "Now that we have a linear model, let's plot the line it fits on our scatterplot to get a sense of how well it fits the data:"
      ]
    },
    {
      "cell_type": "code",
      "metadata": {
        "id": "KX7hTXniO_6B",
        "colab_type": "code",
        "outputId": "41bbdfe0-4346-49a7-bf6e-8232b7fd4fdc",
        "colab": {}
      },
      "source": [
        "train_prediction = regression_model.predict(X = pd.DataFrame(mtcars[\"wt\"]))\n",
        "\n",
        "mtcars.plot(kind=\"scatter\",\n",
        "           x=\"wt\",\n",
        "           y=\"mpg\",\n",
        "           figsize=(9,9),\n",
        "           color=\"black\",\n",
        "           xlim = (0,7))\n",
        "\n",
        "# Plot regression line\n",
        "plt.plot(mtcars[\"wt\"],      # Explanitory variable\n",
        "         train_prediction,  # Predicted values\n",
        "         color=\"blue\")\n",
        "\n"
      ],
      "execution_count": 0,
      "outputs": [
        {
          "output_type": "execute_result",
          "data": {
            "text/plain": [
              "[<matplotlib.lines.Line2D at 0xdb8cb70>]"
            ]
          },
          "metadata": {
            "tags": []
          },
          "execution_count": 7
        },
        {
          "output_type": "display_data",
          "data": {
            "image/png": "[encoded data removed]",
            "text/plain": [
              "<matplotlib.figure.Figure at 0x104aa630>"
            ]
          },
          "metadata": {
            "tags": []
          }
        }
      ]
    },
    {
      "cell_type": "markdown",
      "metadata": {
        "id": "mxQigzvsO_6C",
        "colab_type": "text"
      },
      "source": [
        "\n",
        "The regression line looks like a reasonable fit and it follows our intuition: as car weight increases we would expect fuel economy to decline."
      ]
    },
    {
      "cell_type": "markdown",
      "metadata": {
        "id": "J9gs4_crO_6D",
        "colab_type": "text"
      },
      "source": [
        "Outliers can have a large influence on linear regression models: since regression deals with minimizing squared residuals, large residuals have a disproportionately large influence on the model. Plotting the result helps us detect influential outliers. In this case there does not appear to be any influential outliers. Let's add an outlier--a super heavy fuel efficient car--and plot a new regression model:"
      ]
    },
    {
      "cell_type": "code",
      "metadata": {
        "id": "dLPw6I8qO_6E",
        "colab_type": "code",
        "outputId": "4f8b96f2-9c9f-4c31-c1e1-99ab6e7e1c72",
        "colab": {}
      },
      "source": [
        "mtcars_subset = mtcars[[\"mpg\",\"wt\"]]\n",
        "\n",
        "super_car = pd.DataFrame({\"mpg\":50,\"wt\":10}, index=[\"super\"])\n",
        "\n",
        "new_cars = mtcars_subset.append(super_car)\n",
        "\n",
        "# Initialize model\n",
        "regression_model = linear_model.LinearRegression()\n",
        "\n",
        "# Train the model using the new_cars data\n",
        "regression_model.fit(X = pd.DataFrame(new_cars[\"wt\"]), \n",
        "                     y = new_cars[\"mpg\"])\n",
        "\n",
        "train_prediction2 = regression_model.predict(X = pd.DataFrame(new_cars[\"wt\"]))\n",
        "\n",
        "# Plot the new model\n",
        "new_cars.plot(kind=\"scatter\",\n",
        "           x=\"wt\",\n",
        "           y=\"mpg\",\n",
        "           figsize=(9,9),\n",
        "           color=\"black\", xlim=(1,11), ylim=(10,52))\n",
        "\n",
        "# Plot regression line\n",
        "plt.plot(new_cars[\"wt\"],     # Explanatory variable\n",
        "         train_prediction2,  # Predicted values\n",
        "         color=\"blue\")\n",
        "\n"
      ],
      "execution_count": 0,
      "outputs": [
        {
          "output_type": "execute_result",
          "data": {
            "text/plain": [
              "[<matplotlib.lines.Line2D at 0xdacec88>]"
            ]
          },
          "metadata": {
            "tags": []
          },
          "execution_count": 8
        },
        {
          "output_type": "display_data",
          "data": {
            "image/png": "[encoded data removed]",
            "text/plain": [
              "<matplotlib.figure.Figure at 0xdc0fdd8>"
            ]
          },
          "metadata": {
            "tags": []
          }
        }
      ]
    },
    {
      "cell_type": "markdown",
      "metadata": {
        "id": "rFs76rFIO_6F",
        "colab_type": "text"
      },
      "source": [
        "\n",
        "Although this is an extreme, contrived case, the plot above illustrates how much influence a single outlier can have on a linear regression model."
      ]
    },
    {
      "cell_type": "markdown",
      "metadata": {
        "id": "glFP6NVxO_6H",
        "colab_type": "text"
      },
      "source": [
        "### Interesting example project for Stock Market using Linear Regression\n",
        "A popular use with regression is to predict stock prices. This is done because we are considering the fluidity of price over time, and attempting to forecast the next fluid price in the future using a continuous dataset."
      ]
    },
    {
      "cell_type": "markdown",
      "metadata": {
        "id": "55ja9eE0O_6H",
        "colab_type": "text"
      },
      "source": [
        "Supervised learning consists in learning the link between two datasets: the observed data X and an external variable y that we are trying to predict, usually called “target” or “labels”. Most often, y is a 1D array of length n_samples."
      ]
    },
    {
      "cell_type": "markdown",
      "metadata": {
        "id": "o88Z5fWwO_6I",
        "colab_type": "text"
      },
      "source": [
        "https://pythonprogramming.net/regression-introduction-machine-learning-tutorial/"
      ]
    },
    {
      "cell_type": "markdown",
      "metadata": {
        "id": "rlbgTlFaO_6I",
        "colab_type": "text"
      },
      "source": [
        "## 6.1.2\n",
        "\n",
        "### Scipy\n",
        "#### Iris flowers example as  DataFrame\n",
        "Scipy is a python analysis ecosystem that encapsulates a few different libraries such as numpy and matplotlib. Here I’ve picked out two approaches you could use: linregress and polyfit"
      ]
    },
    {
      "cell_type": "markdown",
      "metadata": {
        "id": "0O8tbq2_O_6J",
        "colab_type": "text"
      },
      "source": [
        "![Image of Yaktocat](https://i.ytimg.com/vi/RSKhj2BZQBg/maxresdefault.jpg)"
      ]
    },
    {
      "cell_type": "code",
      "metadata": {
        "id": "aUffpuB1O_6K",
        "colab_type": "code",
        "outputId": "d853ea26-05d2-4477-b4f2-4964991ef5ba",
        "colab": {}
      },
      "source": [
        "# load iris sample dataset\n",
        "import seaborn.apionly as sns\n",
        "iris = sns.load_dataset('iris')\n",
        "\n",
        "iris"
      ],
      "execution_count": 0,
      "outputs": [
        {
          "output_type": "execute_result",
          "data": {
            "text/html": [
              "<div>\n",
              "<style>\n",
              "    .dataframe thead tr:only-child th {\n",
              "        text-align: right;\n",
              "    }\n",
              "\n",
              "    .dataframe thead th {\n",
              "        text-align: left;\n",
              "    }\n",
              "\n",
              "    .dataframe tbody tr th {\n",
              "        vertical-align: top;\n",
              "    }\n",
              "</style>\n",
              "<table border=\"1\" class=\"dataframe\">\n",
              "  <thead>\n",
              "    <tr style=\"text-align: right;\">\n",
              "      <th></th>\n",
              "      <th>sepal_length</th>\n",
              "      <th>sepal_width</th>\n",
              "      <th>petal_length</th>\n",
              "      <th>petal_width</th>\n",
              "      <th>species</th>\n",
              "    </tr>\n",
              "  </thead>\n",
              "  <tbody>\n",
              "    <tr>\n",
              "      <th>0</th>\n",
              "      <td>5.1</td>\n",
              "      <td>3.5</td>\n",
              "      <td>1.4</td>\n",
              "      <td>0.2</td>\n",
              "      <td>setosa</td>\n",
              "    </tr>\n",
              "    <tr>\n",
              "      <th>1</th>\n",
              "      <td>4.9</td>\n",
              "      <td>3.0</td>\n",
              "      <td>1.4</td>\n",
              "      <td>0.2</td>\n",
              "      <td>setosa</td>\n",
              "    </tr>\n",
              "    <tr>\n",
              "      <th>2</th>\n",
              "      <td>4.7</td>\n",
              "      <td>3.2</td>\n",
              "      <td>1.3</td>\n",
              "      <td>0.2</td>\n",
              "      <td>setosa</td>\n",
              "    </tr>\n",
              "    <tr>\n",
              "      <th>3</th>\n",
              "      <td>4.6</td>\n",
              "      <td>3.1</td>\n",
              "      <td>1.5</td>\n",
              "      <td>0.2</td>\n",
              "      <td>setosa</td>\n",
              "    </tr>\n",
              "    <tr>\n",
              "      <th>4</th>\n",
              "      <td>5.0</td>\n",
              "      <td>3.6</td>\n",
              "      <td>1.4</td>\n",
              "      <td>0.2</td>\n",
              "      <td>setosa</td>\n",
              "    </tr>\n",
              "    <tr>\n",
              "      <th>5</th>\n",
              "      <td>5.4</td>\n",
              "      <td>3.9</td>\n",
              "      <td>1.7</td>\n",
              "      <td>0.4</td>\n",
              "      <td>setosa</td>\n",
              "    </tr>\n",
              "    <tr>\n",
              "      <th>6</th>\n",
              "      <td>4.6</td>\n",
              "      <td>3.4</td>\n",
              "      <td>1.4</td>\n",
              "      <td>0.3</td>\n",
              "      <td>setosa</td>\n",
              "    </tr>\n",
              "    <tr>\n",
              "      <th>7</th>\n",
              "      <td>5.0</td>\n",
              "      <td>3.4</td>\n",
              "      <td>1.5</td>\n",
              "      <td>0.2</td>\n",
              "      <td>setosa</td>\n",
              "    </tr>\n",
              "    <tr>\n",
              "      <th>8</th>\n",
              "      <td>4.4</td>\n",
              "      <td>2.9</td>\n",
              "      <td>1.4</td>\n",
              "      <td>0.2</td>\n",
              "      <td>setosa</td>\n",
              "    </tr>\n",
              "    <tr>\n",
              "      <th>9</th>\n",
              "      <td>4.9</td>\n",
              "      <td>3.1</td>\n",
              "      <td>1.5</td>\n",
              "      <td>0.1</td>\n",
              "      <td>setosa</td>\n",
              "    </tr>\n",
              "    <tr>\n",
              "      <th>10</th>\n",
              "      <td>5.4</td>\n",
              "      <td>3.7</td>\n",
              "      <td>1.5</td>\n",
              "      <td>0.2</td>\n",
              "      <td>setosa</td>\n",
              "    </tr>\n",
              "    <tr>\n",
              "      <th>11</th>\n",
              "      <td>4.8</td>\n",
              "      <td>3.4</td>\n",
              "      <td>1.6</td>\n",
              "      <td>0.2</td>\n",
              "      <td>setosa</td>\n",
              "    </tr>\n",
              "    <tr>\n",
              "      <th>12</th>\n",
              "      <td>4.8</td>\n",
              "      <td>3.0</td>\n",
              "      <td>1.4</td>\n",
              "      <td>0.1</td>\n",
              "      <td>setosa</td>\n",
              "    </tr>\n",
              "    <tr>\n",
              "      <th>13</th>\n",
              "      <td>4.3</td>\n",
              "      <td>3.0</td>\n",
              "      <td>1.1</td>\n",
              "      <td>0.1</td>\n",
              "      <td>setosa</td>\n",
              "    </tr>\n",
              "    <tr>\n",
              "      <th>14</th>\n",
              "      <td>5.8</td>\n",
              "      <td>4.0</td>\n",
              "      <td>1.2</td>\n",
              "      <td>0.2</td>\n",
              "      <td>setosa</td>\n",
              "    </tr>\n",
              "    <tr>\n",
              "      <th>15</th>\n",
              "      <td>5.7</td>\n",
              "      <td>4.4</td>\n",
              "      <td>1.5</td>\n",
              "      <td>0.4</td>\n",
              "      <td>setosa</td>\n",
              "    </tr>\n",
              "    <tr>\n",
              "      <th>16</th>\n",
              "      <td>5.4</td>\n",
              "      <td>3.9</td>\n",
              "      <td>1.3</td>\n",
              "      <td>0.4</td>\n",
              "      <td>setosa</td>\n",
              "    </tr>\n",
              "    <tr>\n",
              "      <th>17</th>\n",
              "      <td>5.1</td>\n",
              "      <td>3.5</td>\n",
              "      <td>1.4</td>\n",
              "      <td>0.3</td>\n",
              "      <td>setosa</td>\n",
              "    </tr>\n",
              "    <tr>\n",
              "      <th>18</th>\n",
              "      <td>5.7</td>\n",
              "      <td>3.8</td>\n",
              "      <td>1.7</td>\n",
              "      <td>0.3</td>\n",
              "      <td>setosa</td>\n",
              "    </tr>\n",
              "    <tr>\n",
              "      <th>19</th>\n",
              "      <td>5.1</td>\n",
              "      <td>3.8</td>\n",
              "      <td>1.5</td>\n",
              "      <td>0.3</td>\n",
              "      <td>setosa</td>\n",
              "    </tr>\n",
              "    <tr>\n",
              "      <th>20</th>\n",
              "      <td>5.4</td>\n",
              "      <td>3.4</td>\n",
              "      <td>1.7</td>\n",
              "      <td>0.2</td>\n",
              "      <td>setosa</td>\n",
              "    </tr>\n",
              "    <tr>\n",
              "      <th>21</th>\n",
              "      <td>5.1</td>\n",
              "      <td>3.7</td>\n",
              "      <td>1.5</td>\n",
              "      <td>0.4</td>\n",
              "      <td>setosa</td>\n",
              "    </tr>\n",
              "    <tr>\n",
              "      <th>22</th>\n",
              "      <td>4.6</td>\n",
              "      <td>3.6</td>\n",
              "      <td>1.0</td>\n",
              "      <td>0.2</td>\n",
              "      <td>setosa</td>\n",
              "    </tr>\n",
              "    <tr>\n",
              "      <th>23</th>\n",
              "      <td>5.1</td>\n",
              "      <td>3.3</td>\n",
              "      <td>1.7</td>\n",
              "      <td>0.5</td>\n",
              "      <td>setosa</td>\n",
              "    </tr>\n",
              "    <tr>\n",
              "      <th>24</th>\n",
              "      <td>4.8</td>\n",
              "      <td>3.4</td>\n",
              "      <td>1.9</td>\n",
              "      <td>0.2</td>\n",
              "      <td>setosa</td>\n",
              "    </tr>\n",
              "    <tr>\n",
              "      <th>25</th>\n",
              "      <td>5.0</td>\n",
              "      <td>3.0</td>\n",
              "      <td>1.6</td>\n",
              "      <td>0.2</td>\n",
              "      <td>setosa</td>\n",
              "    </tr>\n",
              "    <tr>\n",
              "      <th>26</th>\n",
              "      <td>5.0</td>\n",
              "      <td>3.4</td>\n",
              "      <td>1.6</td>\n",
              "      <td>0.4</td>\n",
              "      <td>setosa</td>\n",
              "    </tr>\n",
              "    <tr>\n",
              "      <th>27</th>\n",
              "      <td>5.2</td>\n",
              "      <td>3.5</td>\n",
              "      <td>1.5</td>\n",
              "      <td>0.2</td>\n",
              "      <td>setosa</td>\n",
              "    </tr>\n",
              "    <tr>\n",
              "      <th>28</th>\n",
              "      <td>5.2</td>\n",
              "      <td>3.4</td>\n",
              "      <td>1.4</td>\n",
              "      <td>0.2</td>\n",
              "      <td>setosa</td>\n",
              "    </tr>\n",
              "    <tr>\n",
              "      <th>29</th>\n",
              "      <td>4.7</td>\n",
              "      <td>3.2</td>\n",
              "      <td>1.6</td>\n",
              "      <td>0.2</td>\n",
              "      <td>setosa</td>\n",
              "    </tr>\n",
              "    <tr>\n",
              "      <th>...</th>\n",
              "      <td>...</td>\n",
              "      <td>...</td>\n",
              "      <td>...</td>\n",
              "      <td>...</td>\n",
              "      <td>...</td>\n",
              "    </tr>\n",
              "    <tr>\n",
              "      <th>120</th>\n",
              "      <td>6.9</td>\n",
              "      <td>3.2</td>\n",
              "      <td>5.7</td>\n",
              "      <td>2.3</td>\n",
              "      <td>virginica</td>\n",
              "    </tr>\n",
              "    <tr>\n",
              "      <th>121</th>\n",
              "      <td>5.6</td>\n",
              "      <td>2.8</td>\n",
              "      <td>4.9</td>\n",
              "      <td>2.0</td>\n",
              "      <td>virginica</td>\n",
              "    </tr>\n",
              "    <tr>\n",
              "      <th>122</th>\n",
              "      <td>7.7</td>\n",
              "      <td>2.8</td>\n",
              "      <td>6.7</td>\n",
              "      <td>2.0</td>\n",
              "      <td>virginica</td>\n",
              "    </tr>\n",
              "    <tr>\n",
              "      <th>123</th>\n",
              "      <td>6.3</td>\n",
              "      <td>2.7</td>\n",
              "      <td>4.9</td>\n",
              "      <td>1.8</td>\n",
              "      <td>virginica</td>\n",
              "    </tr>\n",
              "    <tr>\n",
              "      <th>124</th>\n",
              "      <td>6.7</td>\n",
              "      <td>3.3</td>\n",
              "      <td>5.7</td>\n",
              "      <td>2.1</td>\n",
              "      <td>virginica</td>\n",
              "    </tr>\n",
              "    <tr>\n",
              "      <th>125</th>\n",
              "      <td>7.2</td>\n",
              "      <td>3.2</td>\n",
              "      <td>6.0</td>\n",
              "      <td>1.8</td>\n",
              "      <td>virginica</td>\n",
              "    </tr>\n",
              "    <tr>\n",
              "      <th>126</th>\n",
              "      <td>6.2</td>\n",
              "      <td>2.8</td>\n",
              "      <td>4.8</td>\n",
              "      <td>1.8</td>\n",
              "      <td>virginica</td>\n",
              "    </tr>\n",
              "    <tr>\n",
              "      <th>127</th>\n",
              "      <td>6.1</td>\n",
              "      <td>3.0</td>\n",
              "      <td>4.9</td>\n",
              "      <td>1.8</td>\n",
              "      <td>virginica</td>\n",
              "    </tr>\n",
              "    <tr>\n",
              "      <th>128</th>\n",
              "      <td>6.4</td>\n",
              "      <td>2.8</td>\n",
              "      <td>5.6</td>\n",
              "      <td>2.1</td>\n",
              "      <td>virginica</td>\n",
              "    </tr>\n",
              "    <tr>\n",
              "      <th>129</th>\n",
              "      <td>7.2</td>\n",
              "      <td>3.0</td>\n",
              "      <td>5.8</td>\n",
              "      <td>1.6</td>\n",
              "      <td>virginica</td>\n",
              "    </tr>\n",
              "    <tr>\n",
              "      <th>130</th>\n",
              "      <td>7.4</td>\n",
              "      <td>2.8</td>\n",
              "      <td>6.1</td>\n",
              "      <td>1.9</td>\n",
              "      <td>virginica</td>\n",
              "    </tr>\n",
              "    <tr>\n",
              "      <th>131</th>\n",
              "      <td>7.9</td>\n",
              "      <td>3.8</td>\n",
              "      <td>6.4</td>\n",
              "      <td>2.0</td>\n",
              "      <td>virginica</td>\n",
              "    </tr>\n",
              "    <tr>\n",
              "      <th>132</th>\n",
              "      <td>6.4</td>\n",
              "      <td>2.8</td>\n",
              "      <td>5.6</td>\n",
              "      <td>2.2</td>\n",
              "      <td>virginica</td>\n",
              "    </tr>\n",
              "    <tr>\n",
              "      <th>133</th>\n",
              "      <td>6.3</td>\n",
              "      <td>2.8</td>\n",
              "      <td>5.1</td>\n",
              "      <td>1.5</td>\n",
              "      <td>virginica</td>\n",
              "    </tr>\n",
              "    <tr>\n",
              "      <th>134</th>\n",
              "      <td>6.1</td>\n",
              "      <td>2.6</td>\n",
              "      <td>5.6</td>\n",
              "      <td>1.4</td>\n",
              "      <td>virginica</td>\n",
              "    </tr>\n",
              "    <tr>\n",
              "      <th>135</th>\n",
              "      <td>7.7</td>\n",
              "      <td>3.0</td>\n",
              "      <td>6.1</td>\n",
              "      <td>2.3</td>\n",
              "      <td>virginica</td>\n",
              "    </tr>\n",
              "    <tr>\n",
              "      <th>136</th>\n",
              "      <td>6.3</td>\n",
              "      <td>3.4</td>\n",
              "      <td>5.6</td>\n",
              "      <td>2.4</td>\n",
              "      <td>virginica</td>\n",
              "    </tr>\n",
              "    <tr>\n",
              "      <th>137</th>\n",
              "      <td>6.4</td>\n",
              "      <td>3.1</td>\n",
              "      <td>5.5</td>\n",
              "      <td>1.8</td>\n",
              "      <td>virginica</td>\n",
              "    </tr>\n",
              "    <tr>\n",
              "      <th>138</th>\n",
              "      <td>6.0</td>\n",
              "      <td>3.0</td>\n",
              "      <td>4.8</td>\n",
              "      <td>1.8</td>\n",
              "      <td>virginica</td>\n",
              "    </tr>\n",
              "    <tr>\n",
              "      <th>139</th>\n",
              "      <td>6.9</td>\n",
              "      <td>3.1</td>\n",
              "      <td>5.4</td>\n",
              "      <td>2.1</td>\n",
              "      <td>virginica</td>\n",
              "    </tr>\n",
              "    <tr>\n",
              "      <th>140</th>\n",
              "      <td>6.7</td>\n",
              "      <td>3.1</td>\n",
              "      <td>5.6</td>\n",
              "      <td>2.4</td>\n",
              "      <td>virginica</td>\n",
              "    </tr>\n",
              "    <tr>\n",
              "      <th>141</th>\n",
              "      <td>6.9</td>\n",
              "      <td>3.1</td>\n",
              "      <td>5.1</td>\n",
              "      <td>2.3</td>\n",
              "      <td>virginica</td>\n",
              "    </tr>\n",
              "    <tr>\n",
              "      <th>142</th>\n",
              "      <td>5.8</td>\n",
              "      <td>2.7</td>\n",
              "      <td>5.1</td>\n",
              "      <td>1.9</td>\n",
              "      <td>virginica</td>\n",
              "    </tr>\n",
              "    <tr>\n",
              "      <th>143</th>\n",
              "      <td>6.8</td>\n",
              "      <td>3.2</td>\n",
              "      <td>5.9</td>\n",
              "      <td>2.3</td>\n",
              "      <td>virginica</td>\n",
              "    </tr>\n",
              "    <tr>\n",
              "      <th>144</th>\n",
              "      <td>6.7</td>\n",
              "      <td>3.3</td>\n",
              "      <td>5.7</td>\n",
              "      <td>2.5</td>\n",
              "      <td>virginica</td>\n",
              "    </tr>\n",
              "    <tr>\n",
              "      <th>145</th>\n",
              "      <td>6.7</td>\n",
              "      <td>3.0</td>\n",
              "      <td>5.2</td>\n",
              "      <td>2.3</td>\n",
              "      <td>virginica</td>\n",
              "    </tr>\n",
              "    <tr>\n",
              "      <th>146</th>\n",
              "      <td>6.3</td>\n",
              "      <td>2.5</td>\n",
              "      <td>5.0</td>\n",
              "      <td>1.9</td>\n",
              "      <td>virginica</td>\n",
              "    </tr>\n",
              "    <tr>\n",
              "      <th>147</th>\n",
              "      <td>6.5</td>\n",
              "      <td>3.0</td>\n",
              "      <td>5.2</td>\n",
              "      <td>2.0</td>\n",
              "      <td>virginica</td>\n",
              "    </tr>\n",
              "    <tr>\n",
              "      <th>148</th>\n",
              "      <td>6.2</td>\n",
              "      <td>3.4</td>\n",
              "      <td>5.4</td>\n",
              "      <td>2.3</td>\n",
              "      <td>virginica</td>\n",
              "    </tr>\n",
              "    <tr>\n",
              "      <th>149</th>\n",
              "      <td>5.9</td>\n",
              "      <td>3.0</td>\n",
              "      <td>5.1</td>\n",
              "      <td>1.8</td>\n",
              "      <td>virginica</td>\n",
              "    </tr>\n",
              "  </tbody>\n",
              "</table>\n",
              "<p>150 rows × 5 columns</p>\n",
              "</div>"
            ],
            "text/plain": [
              "     sepal_length  sepal_width  petal_length  petal_width    species\n",
              "0             5.1          3.5           1.4          0.2     setosa\n",
              "1             4.9          3.0           1.4          0.2     setosa\n",
              "2             4.7          3.2           1.3          0.2     setosa\n",
              "3             4.6          3.1           1.5          0.2     setosa\n",
              "4             5.0          3.6           1.4          0.2     setosa\n",
              "5             5.4          3.9           1.7          0.4     setosa\n",
              "6             4.6          3.4           1.4          0.3     setosa\n",
              "7             5.0          3.4           1.5          0.2     setosa\n",
              "8             4.4          2.9           1.4          0.2     setosa\n",
              "9             4.9          3.1           1.5          0.1     setosa\n",
              "10            5.4          3.7           1.5          0.2     setosa\n",
              "11            4.8          3.4           1.6          0.2     setosa\n",
              "12            4.8          3.0           1.4          0.1     setosa\n",
              "13            4.3          3.0           1.1          0.1     setosa\n",
              "14            5.8          4.0           1.2          0.2     setosa\n",
              "15            5.7          4.4           1.5          0.4     setosa\n",
              "16            5.4          3.9           1.3          0.4     setosa\n",
              "17            5.1          3.5           1.4          0.3     setosa\n",
              "18            5.7          3.8           1.7          0.3     setosa\n",
              "19            5.1          3.8           1.5          0.3     setosa\n",
              "20            5.4          3.4           1.7          0.2     setosa\n",
              "21            5.1          3.7           1.5          0.4     setosa\n",
              "22            4.6          3.6           1.0          0.2     setosa\n",
              "23            5.1          3.3           1.7          0.5     setosa\n",
              "24            4.8          3.4           1.9          0.2     setosa\n",
              "25            5.0          3.0           1.6          0.2     setosa\n",
              "26            5.0          3.4           1.6          0.4     setosa\n",
              "27            5.2          3.5           1.5          0.2     setosa\n",
              "28            5.2          3.4           1.4          0.2     setosa\n",
              "29            4.7          3.2           1.6          0.2     setosa\n",
              "..            ...          ...           ...          ...        ...\n",
              "120           6.9          3.2           5.7          2.3  virginica\n",
              "121           5.6          2.8           4.9          2.0  virginica\n",
              "122           7.7          2.8           6.7          2.0  virginica\n",
              "123           6.3          2.7           4.9          1.8  virginica\n",
              "124           6.7          3.3           5.7          2.1  virginica\n",
              "125           7.2          3.2           6.0          1.8  virginica\n",
              "126           6.2          2.8           4.8          1.8  virginica\n",
              "127           6.1          3.0           4.9          1.8  virginica\n",
              "128           6.4          2.8           5.6          2.1  virginica\n",
              "129           7.2          3.0           5.8          1.6  virginica\n",
              "130           7.4          2.8           6.1          1.9  virginica\n",
              "131           7.9          3.8           6.4          2.0  virginica\n",
              "132           6.4          2.8           5.6          2.2  virginica\n",
              "133           6.3          2.8           5.1          1.5  virginica\n",
              "134           6.1          2.6           5.6          1.4  virginica\n",
              "135           7.7          3.0           6.1          2.3  virginica\n",
              "136           6.3          3.4           5.6          2.4  virginica\n",
              "137           6.4          3.1           5.5          1.8  virginica\n",
              "138           6.0          3.0           4.8          1.8  virginica\n",
              "139           6.9          3.1           5.4          2.1  virginica\n",
              "140           6.7          3.1           5.6          2.4  virginica\n",
              "141           6.9          3.1           5.1          2.3  virginica\n",
              "142           5.8          2.7           5.1          1.9  virginica\n",
              "143           6.8          3.2           5.9          2.3  virginica\n",
              "144           6.7          3.3           5.7          2.5  virginica\n",
              "145           6.7          3.0           5.2          2.3  virginica\n",
              "146           6.3          2.5           5.0          1.9  virginica\n",
              "147           6.5          3.0           5.2          2.0  virginica\n",
              "148           6.2          3.4           5.4          2.3  virginica\n",
              "149           5.9          3.0           5.1          1.8  virginica\n",
              "\n",
              "[150 rows x 5 columns]"
            ]
          },
          "metadata": {
            "tags": []
          },
          "execution_count": 24
        }
      ]
    },
    {
      "cell_type": "code",
      "metadata": {
        "id": "CY0SFNmbO_6M",
        "colab_type": "code",
        "outputId": "f4510f05-e62b-460b-8c2e-7c680b8b55b1",
        "colab": {}
      },
      "source": [
        "# import scipy\n",
        "from scipy import polyval, stats\n",
        " \n",
        "fit_output = stats.linregress(iris[\"petal_length\"], iris[\"petal_width\"])\n",
        "slope, intercept, r_value, p_value, slope_std_error = fit_output\n",
        "print(slope, intercept) "
      ],
      "execution_count": 0,
      "outputs": [
        {
          "output_type": "stream",
          "text": [
            "(0.41575541635241114, -0.36307552131902776)\n"
          ],
          "name": "stdout"
        }
      ]
    },
    {
      "cell_type": "code",
      "metadata": {
        "id": "tVcZEAfQO_6N",
        "colab_type": "code",
        "colab": {}
      },
      "source": [
        "# use scipy polyval to create y-values from x_data and the \n",
        "# linregress fit parameters\n",
        "scipy_fitted_y_vals = polyval([slope,intercept],iris[\"petal_length\"]) "
      ],
      "execution_count": 0,
      "outputs": []
    },
    {
      "cell_type": "code",
      "metadata": {
        "id": "zhU9z4ahO_6Q",
        "colab_type": "code",
        "outputId": "90f9f90a-ca0e-4c31-e480-b6aea30d8743",
        "colab": {}
      },
      "source": [
        "import matplotlib.pyplot as plt\n",
        "axes = iris.plot(x=\"petal_length\", y=\"petal_width\", kind=\"scatter\", color=\"red\")\n",
        "plt.plot(iris[\"petal_length\"], scipy_fitted_y_vals, color='black', linewidth=3)\n",
        "plt.show()"
      ],
      "execution_count": 0,
      "outputs": [
        {
          "output_type": "display_data",
          "data": {
            "image/png": "[encoded data removed]",
            "text/plain": [
              "<matplotlib.figure.Figure at 0x12d791d0>"
            ]
          },
          "metadata": {
            "tags": []
          }
        }
      ]
    },
    {
      "cell_type": "markdown",
      "metadata": {
        "id": "IhvQFb-DO_6S",
        "colab_type": "text"
      },
      "source": [
        "## 6.1.3\n",
        "\n",
        "### scikit-learn\n",
        "\n",
        "This final examples use scikit-learn, a python library which implements a range of machine learning tools for data analysis – including linear regression.\n",
        "\n",
        "scikit-learn (sklearn) is built around numpy arrays rather than pandas dataframes. To get around this we can reshape the ‘.values’ outputs from the dataframe columns. Once the data is reshaped, the regression is done in much the same way to my other examples."
      ]
    },
    {
      "cell_type": "code",
      "metadata": {
        "id": "bzx_NQ8RO_6S",
        "colab_type": "code",
        "outputId": "c62c9c9e-f9a6-443b-cd6c-1a9c79235f4c",
        "colab": {}
      },
      "source": [
        "from sklearn import datasets, linear_model\n",
        "import pandas as pd\n",
        "import matplotlib.pyplot as plt\n",
        " \n",
        "# Reshape dataframe values for sklearn\n",
        "fit_data = iris[[\"petal_length\", \"petal_width\"]].values\n",
        "x_data = fit_data[:,0].reshape(-1,1)\n",
        "y_data = fit_data[:,1].reshape(-1,1)\n",
        " \n",
        "# Create linear regression object\n",
        "regr = linear_model.LinearRegression()\n",
        "# once the data is reshaped, running the fit is simple\n",
        "regr.fit(x_data, y_data)\n",
        " \n",
        "# we can then plot the data and out fit\n",
        "axes = iris.plot(x=\"petal_length\", y=\"petal_width\", kind=\"scatter\")\n",
        "plt.plot(x_data, regr.predict(x_data), color='black', linewidth=3)\n",
        "plt.show()"
      ],
      "execution_count": 0,
      "outputs": [
        {
          "output_type": "display_data",
          "data": {
            "image/png": "[encoded data removed]",
            "text/plain": [
              "<matplotlib.figure.Figure at 0x132f3358>"
            ]
          },
          "metadata": {
            "tags": []
          }
        }
      ]
    },
    {
      "cell_type": "code",
      "metadata": {
        "id": "IeNeiXwTO_6U",
        "colab_type": "code",
        "outputId": "1ce6b74d-23e3-4342-d02d-cef4cac4603b",
        "colab": {}
      },
      "source": [
        "x_data"
      ],
      "execution_count": 0,
      "outputs": [
        {
          "output_type": "execute_result",
          "data": {
            "text/plain": [
              "array([[ 1.4],\n",
              "       [ 1.4],\n",
              "       [ 1.3],\n",
              "       [ 1.5],\n",
              "       [ 1.4],\n",
              "       [ 1.7],\n",
              "       [ 1.4],\n",
              "       [ 1.5],\n",
              "       [ 1.4],\n",
              "       [ 1.5],\n",
              "       [ 1.5],\n",
              "       [ 1.6],\n",
              "       [ 1.4],\n",
              "       [ 1.1],\n",
              "       [ 1.2],\n",
              "       [ 1.5],\n",
              "       [ 1.3],\n",
              "       [ 1.4],\n",
              "       [ 1.7],\n",
              "       [ 1.5],\n",
              "       [ 1.7],\n",
              "       [ 1.5],\n",
              "       [ 1. ],\n",
              "       [ 1.7],\n",
              "       [ 1.9],\n",
              "       [ 1.6],\n",
              "       [ 1.6],\n",
              "       [ 1.5],\n",
              "       [ 1.4],\n",
              "       [ 1.6],\n",
              "       [ 1.6],\n",
              "       [ 1.5],\n",
              "       [ 1.5],\n",
              "       [ 1.4],\n",
              "       [ 1.5],\n",
              "       [ 1.2],\n",
              "       [ 1.3],\n",
              "       [ 1.4],\n",
              "       [ 1.3],\n",
              "       [ 1.5],\n",
              "       [ 1.3],\n",
              "       [ 1.3],\n",
              "       [ 1.3],\n",
              "       [ 1.6],\n",
              "       [ 1.9],\n",
              "       [ 1.4],\n",
              "       [ 1.6],\n",
              "       [ 1.4],\n",
              "       [ 1.5],\n",
              "       [ 1.4],\n",
              "       [ 4.7],\n",
              "       [ 4.5],\n",
              "       [ 4.9],\n",
              "       [ 4. ],\n",
              "       [ 4.6],\n",
              "       [ 4.5],\n",
              "       [ 4.7],\n",
              "       [ 3.3],\n",
              "       [ 4.6],\n",
              "       [ 3.9],\n",
              "       [ 3.5],\n",
              "       [ 4.2],\n",
              "       [ 4. ],\n",
              "       [ 4.7],\n",
              "       [ 3.6],\n",
              "       [ 4.4],\n",
              "       [ 4.5],\n",
              "       [ 4.1],\n",
              "       [ 4.5],\n",
              "       [ 3.9],\n",
              "       [ 4.8],\n",
              "       [ 4. ],\n",
              "       [ 4.9],\n",
              "       [ 4.7],\n",
              "       [ 4.3],\n",
              "       [ 4.4],\n",
              "       [ 4.8],\n",
              "       [ 5. ],\n",
              "       [ 4.5],\n",
              "       [ 3.5],\n",
              "       [ 3.8],\n",
              "       [ 3.7],\n",
              "       [ 3.9],\n",
              "       [ 5.1],\n",
              "       [ 4.5],\n",
              "       [ 4.5],\n",
              "       [ 4.7],\n",
              "       [ 4.4],\n",
              "       [ 4.1],\n",
              "       [ 4. ],\n",
              "       [ 4.4],\n",
              "       [ 4.6],\n",
              "       [ 4. ],\n",
              "       [ 3.3],\n",
              "       [ 4.2],\n",
              "       [ 4.2],\n",
              "       [ 4.2],\n",
              "       [ 4.3],\n",
              "       [ 3. ],\n",
              "       [ 4.1],\n",
              "       [ 6. ],\n",
              "       [ 5.1],\n",
              "       [ 5.9],\n",
              "       [ 5.6],\n",
              "       [ 5.8],\n",
              "       [ 6.6],\n",
              "       [ 4.5],\n",
              "       [ 6.3],\n",
              "       [ 5.8],\n",
              "       [ 6.1],\n",
              "       [ 5.1],\n",
              "       [ 5.3],\n",
              "       [ 5.5],\n",
              "       [ 5. ],\n",
              "       [ 5.1],\n",
              "       [ 5.3],\n",
              "       [ 5.5],\n",
              "       [ 6.7],\n",
              "       [ 6.9],\n",
              "       [ 5. ],\n",
              "       [ 5.7],\n",
              "       [ 4.9],\n",
              "       [ 6.7],\n",
              "       [ 4.9],\n",
              "       [ 5.7],\n",
              "       [ 6. ],\n",
              "       [ 4.8],\n",
              "       [ 4.9],\n",
              "       [ 5.6],\n",
              "       [ 5.8],\n",
              "       [ 6.1],\n",
              "       [ 6.4],\n",
              "       [ 5.6],\n",
              "       [ 5.1],\n",
              "       [ 5.6],\n",
              "       [ 6.1],\n",
              "       [ 5.6],\n",
              "       [ 5.5],\n",
              "       [ 4.8],\n",
              "       [ 5.4],\n",
              "       [ 5.6],\n",
              "       [ 5.1],\n",
              "       [ 5.1],\n",
              "       [ 5.9],\n",
              "       [ 5.7],\n",
              "       [ 5.2],\n",
              "       [ 5. ],\n",
              "       [ 5.2],\n",
              "       [ 5.4],\n",
              "       [ 5.1]])"
            ]
          },
          "metadata": {
            "tags": []
          },
          "execution_count": 30
        }
      ]
    },
    {
      "cell_type": "markdown",
      "metadata": {
        "id": "9hBCSEF_O_6X",
        "colab_type": "text"
      },
      "source": [
        "## 6.1.4\n",
        "\n",
        "### Linear Regression Example\n",
        "\n",
        "This example uses only the first feature of the diabetes dataset, in order to illustrate a two-dimensional plot of this regression technique. The straight line can be seen in the plot, showing how linear regression attempts to draw a straight line that will best minimize the residual sum of squares between the observed responses in the dataset, and the responses predicted by the linear approximation.\n",
        "\n",
        "The coefficients, the residual sum of squares and the variance score are also calculated."
      ]
    },
    {
      "cell_type": "code",
      "metadata": {
        "id": "y2TF5GspO_6X",
        "colab_type": "code",
        "colab": {}
      },
      "source": [
        "\n",
        "import matplotlib.pyplot as plt\n",
        "import numpy as np\n",
        "from sklearn import datasets, linear_model\n",
        "from sklearn.metrics import mean_squared_error, r2_score\n",
        "\n",
        "# Load the diabetes dataset\n",
        "diabetes = datasets.load_diabetes()\n",
        "\n",
        "\n",
        "# Use only one feature\n",
        "diabetes_X = diabetes.data[:, np.newaxis, 2]\n",
        "\n",
        "# Split the data into training/testing sets\n",
        "diabetes_X_train = diabetes_X[:-20]\n",
        "diabetes_X_test = diabetes_X[-20:]\n",
        "\n",
        "# Split the targets into training/testing sets\n",
        "diabetes_y_train = diabetes.target[:-20]\n",
        "diabetes_y_test = diabetes.target[-20:]\n",
        "\n"
      ],
      "execution_count": 0,
      "outputs": []
    },
    {
      "cell_type": "code",
      "metadata": {
        "id": "ppZUOY6-O_6Z",
        "colab_type": "code",
        "outputId": "c4122bfd-422c-4313-9e3b-31ba43081da5",
        "colab": {}
      },
      "source": [
        "diabetes # a dictionary with two keys: data, target"
      ],
      "execution_count": 0,
      "outputs": [
        {
          "output_type": "execute_result",
          "data": {
            "text/plain": [
              "{'data': array([[ 0.03807591,  0.05068012,  0.06169621, ..., -0.00259226,\n",
              "          0.01990842, -0.01764613],\n",
              "        [-0.00188202, -0.04464164, -0.05147406, ..., -0.03949338,\n",
              "         -0.06832974, -0.09220405],\n",
              "        [ 0.08529891,  0.05068012,  0.04445121, ..., -0.00259226,\n",
              "          0.00286377, -0.02593034],\n",
              "        ..., \n",
              "        [ 0.04170844,  0.05068012, -0.01590626, ..., -0.01107952,\n",
              "         -0.04687948,  0.01549073],\n",
              "        [-0.04547248, -0.04464164,  0.03906215, ...,  0.02655962,\n",
              "          0.04452837, -0.02593034],\n",
              "        [-0.04547248, -0.04464164, -0.0730303 , ..., -0.03949338,\n",
              "         -0.00421986,  0.00306441]]),\n",
              " 'target': array([ 151.,   75.,  141.,  206.,  135.,   97.,  138.,   63.,  110.,\n",
              "         310.,  101.,   69.,  179.,  185.,  118.,  171.,  166.,  144.,\n",
              "          97.,  168.,   68.,   49.,   68.,  245.,  184.,  202.,  137.,\n",
              "          85.,  131.,  283.,  129.,   59.,  341.,   87.,   65.,  102.,\n",
              "         265.,  276.,  252.,   90.,  100.,   55.,   61.,   92.,  259.,\n",
              "          53.,  190.,  142.,   75.,  142.,  155.,  225.,   59.,  104.,\n",
              "         182.,  128.,   52.,   37.,  170.,  170.,   61.,  144.,   52.,\n",
              "         128.,   71.,  163.,  150.,   97.,  160.,  178.,   48.,  270.,\n",
              "         202.,  111.,   85.,   42.,  170.,  200.,  252.,  113.,  143.,\n",
              "          51.,   52.,  210.,   65.,  141.,   55.,  134.,   42.,  111.,\n",
              "          98.,  164.,   48.,   96.,   90.,  162.,  150.,  279.,   92.,\n",
              "          83.,  128.,  102.,  302.,  198.,   95.,   53.,  134.,  144.,\n",
              "         232.,   81.,  104.,   59.,  246.,  297.,  258.,  229.,  275.,\n",
              "         281.,  179.,  200.,  200.,  173.,  180.,   84.,  121.,  161.,\n",
              "          99.,  109.,  115.,  268.,  274.,  158.,  107.,   83.,  103.,\n",
              "         272.,   85.,  280.,  336.,  281.,  118.,  317.,  235.,   60.,\n",
              "         174.,  259.,  178.,  128.,   96.,  126.,  288.,   88.,  292.,\n",
              "          71.,  197.,  186.,   25.,   84.,   96.,  195.,   53.,  217.,\n",
              "         172.,  131.,  214.,   59.,   70.,  220.,  268.,  152.,   47.,\n",
              "          74.,  295.,  101.,  151.,  127.,  237.,  225.,   81.,  151.,\n",
              "         107.,   64.,  138.,  185.,  265.,  101.,  137.,  143.,  141.,\n",
              "          79.,  292.,  178.,   91.,  116.,   86.,  122.,   72.,  129.,\n",
              "         142.,   90.,  158.,   39.,  196.,  222.,  277.,   99.,  196.,\n",
              "         202.,  155.,   77.,  191.,   70.,   73.,   49.,   65.,  263.,\n",
              "         248.,  296.,  214.,  185.,   78.,   93.,  252.,  150.,   77.,\n",
              "         208.,   77.,  108.,  160.,   53.,  220.,  154.,  259.,   90.,\n",
              "         246.,  124.,   67.,   72.,  257.,  262.,  275.,  177.,   71.,\n",
              "          47.,  187.,  125.,   78.,   51.,  258.,  215.,  303.,  243.,\n",
              "          91.,  150.,  310.,  153.,  346.,   63.,   89.,   50.,   39.,\n",
              "         103.,  308.,  116.,  145.,   74.,   45.,  115.,  264.,   87.,\n",
              "         202.,  127.,  182.,  241.,   66.,   94.,  283.,   64.,  102.,\n",
              "         200.,  265.,   94.,  230.,  181.,  156.,  233.,   60.,  219.,\n",
              "          80.,   68.,  332.,  248.,   84.,  200.,   55.,   85.,   89.,\n",
              "          31.,  129.,   83.,  275.,   65.,  198.,  236.,  253.,  124.,\n",
              "          44.,  172.,  114.,  142.,  109.,  180.,  144.,  163.,  147.,\n",
              "          97.,  220.,  190.,  109.,  191.,  122.,  230.,  242.,  248.,\n",
              "         249.,  192.,  131.,  237.,   78.,  135.,  244.,  199.,  270.,\n",
              "         164.,   72.,   96.,  306.,   91.,  214.,   95.,  216.,  263.,\n",
              "         178.,  113.,  200.,  139.,  139.,   88.,  148.,   88.,  243.,\n",
              "          71.,   77.,  109.,  272.,   60.,   54.,  221.,   90.,  311.,\n",
              "         281.,  182.,  321.,   58.,  262.,  206.,  233.,  242.,  123.,\n",
              "         167.,   63.,  197.,   71.,  168.,  140.,  217.,  121.,  235.,\n",
              "         245.,   40.,   52.,  104.,  132.,   88.,   69.,  219.,   72.,\n",
              "         201.,  110.,   51.,  277.,   63.,  118.,   69.,  273.,  258.,\n",
              "          43.,  198.,  242.,  232.,  175.,   93.,  168.,  275.,  293.,\n",
              "         281.,   72.,  140.,  189.,  181.,  209.,  136.,  261.,  113.,\n",
              "         131.,  174.,  257.,   55.,   84.,   42.,  146.,  212.,  233.,\n",
              "          91.,  111.,  152.,  120.,   67.,  310.,   94.,  183.,   66.,\n",
              "         173.,   72.,   49.,   64.,   48.,  178.,  104.,  132.,  220.,   57.])}"
            ]
          },
          "metadata": {
            "tags": []
          },
          "execution_count": 34
        }
      ]
    },
    {
      "cell_type": "code",
      "metadata": {
        "id": "pu-NddxPO_6b",
        "colab_type": "code",
        "outputId": "4c3dfa26-5219-4c3d-a6ef-08677becd808",
        "colab": {}
      },
      "source": [
        "diabetes['data']"
      ],
      "execution_count": 0,
      "outputs": [
        {
          "output_type": "execute_result",
          "data": {
            "text/plain": [
              "array([[ 0.03807591,  0.05068012,  0.06169621, ..., -0.00259226,\n",
              "         0.01990842, -0.01764613],\n",
              "       [-0.00188202, -0.04464164, -0.05147406, ..., -0.03949338,\n",
              "        -0.06832974, -0.09220405],\n",
              "       [ 0.08529891,  0.05068012,  0.04445121, ..., -0.00259226,\n",
              "         0.00286377, -0.02593034],\n",
              "       ..., \n",
              "       [ 0.04170844,  0.05068012, -0.01590626, ..., -0.01107952,\n",
              "        -0.04687948,  0.01549073],\n",
              "       [-0.04547248, -0.04464164,  0.03906215, ...,  0.02655962,\n",
              "         0.04452837, -0.02593034],\n",
              "       [-0.04547248, -0.04464164, -0.0730303 , ..., -0.03949338,\n",
              "        -0.00421986,  0.00306441]])"
            ]
          },
          "metadata": {
            "tags": []
          },
          "execution_count": 35
        }
      ]
    },
    {
      "cell_type": "code",
      "metadata": {
        "id": "Tkwe7z5YO_6c",
        "colab_type": "code",
        "outputId": "a9207140-134a-4694-82af-c32b96e4339a",
        "colab": {}
      },
      "source": [
        "diabetes['target']"
      ],
      "execution_count": 0,
      "outputs": [
        {
          "output_type": "execute_result",
          "data": {
            "text/plain": [
              "array([ 151.,   75.,  141.,  206.,  135.,   97.,  138.,   63.,  110.,\n",
              "        310.,  101.,   69.,  179.,  185.,  118.,  171.,  166.,  144.,\n",
              "         97.,  168.,   68.,   49.,   68.,  245.,  184.,  202.,  137.,\n",
              "         85.,  131.,  283.,  129.,   59.,  341.,   87.,   65.,  102.,\n",
              "        265.,  276.,  252.,   90.,  100.,   55.,   61.,   92.,  259.,\n",
              "         53.,  190.,  142.,   75.,  142.,  155.,  225.,   59.,  104.,\n",
              "        182.,  128.,   52.,   37.,  170.,  170.,   61.,  144.,   52.,\n",
              "        128.,   71.,  163.,  150.,   97.,  160.,  178.,   48.,  270.,\n",
              "        202.,  111.,   85.,   42.,  170.,  200.,  252.,  113.,  143.,\n",
              "         51.,   52.,  210.,   65.,  141.,   55.,  134.,   42.,  111.,\n",
              "         98.,  164.,   48.,   96.,   90.,  162.,  150.,  279.,   92.,\n",
              "         83.,  128.,  102.,  302.,  198.,   95.,   53.,  134.,  144.,\n",
              "        232.,   81.,  104.,   59.,  246.,  297.,  258.,  229.,  275.,\n",
              "        281.,  179.,  200.,  200.,  173.,  180.,   84.,  121.,  161.,\n",
              "         99.,  109.,  115.,  268.,  274.,  158.,  107.,   83.,  103.,\n",
              "        272.,   85.,  280.,  336.,  281.,  118.,  317.,  235.,   60.,\n",
              "        174.,  259.,  178.,  128.,   96.,  126.,  288.,   88.,  292.,\n",
              "         71.,  197.,  186.,   25.,   84.,   96.,  195.,   53.,  217.,\n",
              "        172.,  131.,  214.,   59.,   70.,  220.,  268.,  152.,   47.,\n",
              "         74.,  295.,  101.,  151.,  127.,  237.,  225.,   81.,  151.,\n",
              "        107.,   64.,  138.,  185.,  265.,  101.,  137.,  143.,  141.,\n",
              "         79.,  292.,  178.,   91.,  116.,   86.,  122.,   72.,  129.,\n",
              "        142.,   90.,  158.,   39.,  196.,  222.,  277.,   99.,  196.,\n",
              "        202.,  155.,   77.,  191.,   70.,   73.,   49.,   65.,  263.,\n",
              "        248.,  296.,  214.,  185.,   78.,   93.,  252.,  150.,   77.,\n",
              "        208.,   77.,  108.,  160.,   53.,  220.,  154.,  259.,   90.,\n",
              "        246.,  124.,   67.,   72.,  257.,  262.,  275.,  177.,   71.,\n",
              "         47.,  187.,  125.,   78.,   51.,  258.,  215.,  303.,  243.,\n",
              "         91.,  150.,  310.,  153.,  346.,   63.,   89.,   50.,   39.,\n",
              "        103.,  308.,  116.,  145.,   74.,   45.,  115.,  264.,   87.,\n",
              "        202.,  127.,  182.,  241.,   66.,   94.,  283.,   64.,  102.,\n",
              "        200.,  265.,   94.,  230.,  181.,  156.,  233.,   60.,  219.,\n",
              "         80.,   68.,  332.,  248.,   84.,  200.,   55.,   85.,   89.,\n",
              "         31.,  129.,   83.,  275.,   65.,  198.,  236.,  253.,  124.,\n",
              "         44.,  172.,  114.,  142.,  109.,  180.,  144.,  163.,  147.,\n",
              "         97.,  220.,  190.,  109.,  191.,  122.,  230.,  242.,  248.,\n",
              "        249.,  192.,  131.,  237.,   78.,  135.,  244.,  199.,  270.,\n",
              "        164.,   72.,   96.,  306.,   91.,  214.,   95.,  216.,  263.,\n",
              "        178.,  113.,  200.,  139.,  139.,   88.,  148.,   88.,  243.,\n",
              "         71.,   77.,  109.,  272.,   60.,   54.,  221.,   90.,  311.,\n",
              "        281.,  182.,  321.,   58.,  262.,  206.,  233.,  242.,  123.,\n",
              "        167.,   63.,  197.,   71.,  168.,  140.,  217.,  121.,  235.,\n",
              "        245.,   40.,   52.,  104.,  132.,   88.,   69.,  219.,   72.,\n",
              "        201.,  110.,   51.,  277.,   63.,  118.,   69.,  273.,  258.,\n",
              "         43.,  198.,  242.,  232.,  175.,   93.,  168.,  275.,  293.,\n",
              "        281.,   72.,  140.,  189.,  181.,  209.,  136.,  261.,  113.,\n",
              "        131.,  174.,  257.,   55.,   84.,   42.,  146.,  212.,  233.,\n",
              "         91.,  111.,  152.,  120.,   67.,  310.,   94.,  183.,   66.,\n",
              "        173.,   72.,   49.,   64.,   48.,  178.,  104.,  132.,  220.,   57.])"
            ]
          },
          "metadata": {
            "tags": []
          },
          "execution_count": 36
        }
      ]
    },
    {
      "cell_type": "code",
      "metadata": {
        "id": "8ZdoJj7eO_6e",
        "colab_type": "code",
        "outputId": "133866c6-d0d1-4694-a3bf-518e12f50044",
        "colab": {}
      },
      "source": [
        "# Create linear regression object\n",
        "regr = linear_model.LinearRegression()\n",
        "\n",
        "# Train the model using the training sets\n",
        "regr.fit(diabetes_X_train, diabetes_y_train)\n",
        "\n",
        "# Make predictions using the testing set\n",
        "diabetes_y_pred = regr.predict(diabetes_X_test)\n",
        "\n",
        "diabetes_y_pred"
      ],
      "execution_count": 0,
      "outputs": [
        {
          "output_type": "execute_result",
          "data": {
            "text/plain": [
              "array([ 225.9732401 ,  115.74763374,  163.27610621,  114.73638965,\n",
              "        120.80385422,  158.21988574,  236.08568105,  121.81509832,\n",
              "         99.56772822,  123.83758651,  204.73711411,   96.53399594,\n",
              "        154.17490936,  130.91629517,   83.3878227 ,  171.36605897,\n",
              "        137.99500384,  137.99500384,  189.56845268,   84.3990668 ])"
            ]
          },
          "metadata": {
            "tags": []
          },
          "execution_count": 39
        }
      ]
    },
    {
      "cell_type": "code",
      "metadata": {
        "id": "pQaI-1zhO_6f",
        "colab_type": "code",
        "outputId": "4b016dcc-d0c4-4d16-8fd5-f5ec318c9375",
        "colab": {}
      },
      "source": [
        "\n",
        "# The coefficients\n",
        "print('Coefficients: \\n', regr.coef_)\n",
        "# The mean squared error\n",
        "print(\"Mean squared error: %.2f\"\n",
        "      % mean_squared_error(diabetes_y_test, diabetes_y_pred))\n",
        "# Explained variance score: 1 is perfect prediction\n",
        "print('Variance score: %.2f' % r2_score(diabetes_y_test, diabetes_y_pred))\n",
        "\n"
      ],
      "execution_count": 0,
      "outputs": [
        {
          "output_type": "stream",
          "text": [
            "('Coefficients: \\n', array([ 938.23786125]))\n",
            "Mean squared error: 2548.07\n",
            "Variance score: 0.47\n"
          ],
          "name": "stdout"
        }
      ]
    },
    {
      "cell_type": "code",
      "metadata": {
        "id": "jg3dPCS7O_6j",
        "colab_type": "code",
        "outputId": "9234db09-7eb5-41c7-9aa6-7bb8ca2c94d5",
        "colab": {}
      },
      "source": [
        "# Plot outputs\n",
        "plt.scatter(diabetes_X_test, diabetes_y_test,  color='black')\n",
        "plt.plot(diabetes_X_test, diabetes_y_pred, color='blue', linewidth=3)\n",
        "\n",
        "# plt.xticks(())\n",
        "# plt.yticks(())\n",
        "\n",
        "plt.show()"
      ],
      "execution_count": 0,
      "outputs": [
        {
          "output_type": "display_data",
          "data": {
            "image/png": "[encoded data removed]",
            "text/plain": [
              "<matplotlib.figure.Figure at 0x134a19e8>"
            ]
          },
          "metadata": {
            "tags": []
          }
        }
      ]
    },
    {
      "cell_type": "markdown",
      "metadata": {
        "id": "nrlr-yFxO_6k",
        "colab_type": "text"
      },
      "source": [
        "## 6.1.5\n",
        "\n",
        "### Another Iris flowers example with seaborn"
      ]
    },
    {
      "cell_type": "code",
      "metadata": {
        "id": "wUj21buqO_6k",
        "colab_type": "code",
        "colab": {}
      },
      "source": [
        "\n",
        "%matplotlib inline\n",
        "import pandas as pd\n",
        "import matplotlib.pyplot as plt\n",
        "import numpy as np\n",
        "from scipy import stats\n",
        "import seaborn as sns\n",
        "import statsmodels.api as sm\n",
        "from sklearn import linear_model\n",
        "\n"
      ],
      "execution_count": 0,
      "outputs": []
    },
    {
      "cell_type": "markdown",
      "metadata": {
        "id": "YfENp1tnO_6m",
        "colab_type": "text"
      },
      "source": [
        "\n",
        "\n",
        "For the first few examples we'll use the famous Iris dataset. Seaborn provides a few data sets including this one. Let's load the data and take a quick look using Seaborn's pairplot.\n"
      ]
    },
    {
      "cell_type": "code",
      "metadata": {
        "id": "TnHTsMYUO_6m",
        "colab_type": "code",
        "outputId": "561486bc-0c9b-4509-f2b3-43c4d3669cd2",
        "colab": {}
      },
      "source": [
        "# Load the data into a pandas dataframe\n",
        "iris = sns.load_dataset(\"iris\")\n",
        "iris.head()"
      ],
      "execution_count": 0,
      "outputs": [
        {
          "output_type": "execute_result",
          "data": {
            "text/html": [
              "<div>\n",
              "<style>\n",
              "    .dataframe thead tr:only-child th {\n",
              "        text-align: right;\n",
              "    }\n",
              "\n",
              "    .dataframe thead th {\n",
              "        text-align: left;\n",
              "    }\n",
              "\n",
              "    .dataframe tbody tr th {\n",
              "        vertical-align: top;\n",
              "    }\n",
              "</style>\n",
              "<table border=\"1\" class=\"dataframe\">\n",
              "  <thead>\n",
              "    <tr style=\"text-align: right;\">\n",
              "      <th></th>\n",
              "      <th>sepal_length</th>\n",
              "      <th>sepal_width</th>\n",
              "      <th>petal_length</th>\n",
              "      <th>petal_width</th>\n",
              "      <th>species</th>\n",
              "    </tr>\n",
              "  </thead>\n",
              "  <tbody>\n",
              "    <tr>\n",
              "      <th>0</th>\n",
              "      <td>5.1</td>\n",
              "      <td>3.5</td>\n",
              "      <td>1.4</td>\n",
              "      <td>0.2</td>\n",
              "      <td>setosa</td>\n",
              "    </tr>\n",
              "    <tr>\n",
              "      <th>1</th>\n",
              "      <td>4.9</td>\n",
              "      <td>3.0</td>\n",
              "      <td>1.4</td>\n",
              "      <td>0.2</td>\n",
              "      <td>setosa</td>\n",
              "    </tr>\n",
              "    <tr>\n",
              "      <th>2</th>\n",
              "      <td>4.7</td>\n",
              "      <td>3.2</td>\n",
              "      <td>1.3</td>\n",
              "      <td>0.2</td>\n",
              "      <td>setosa</td>\n",
              "    </tr>\n",
              "    <tr>\n",
              "      <th>3</th>\n",
              "      <td>4.6</td>\n",
              "      <td>3.1</td>\n",
              "      <td>1.5</td>\n",
              "      <td>0.2</td>\n",
              "      <td>setosa</td>\n",
              "    </tr>\n",
              "    <tr>\n",
              "      <th>4</th>\n",
              "      <td>5.0</td>\n",
              "      <td>3.6</td>\n",
              "      <td>1.4</td>\n",
              "      <td>0.2</td>\n",
              "      <td>setosa</td>\n",
              "    </tr>\n",
              "  </tbody>\n",
              "</table>\n",
              "</div>"
            ],
            "text/plain": [
              "   sepal_length  sepal_width  petal_length  petal_width species\n",
              "0           5.1          3.5           1.4          0.2  setosa\n",
              "1           4.9          3.0           1.4          0.2  setosa\n",
              "2           4.7          3.2           1.3          0.2  setosa\n",
              "3           4.6          3.1           1.5          0.2  setosa\n",
              "4           5.0          3.6           1.4          0.2  setosa"
            ]
          },
          "metadata": {
            "tags": []
          },
          "execution_count": 19
        }
      ]
    },
    {
      "cell_type": "code",
      "metadata": {
        "id": "Pxp7wtdSO_6o",
        "colab_type": "code",
        "outputId": "b916994b-c9cf-4b12-c930-e16be4a163ac",
        "colab": {}
      },
      "source": [
        "# Quick plot of the data using seaborn\n",
        "sns.pairplot(iris, hue=\"species\")\n",
        "sns.plt.show()"
      ],
      "execution_count": 0,
      "outputs": [
        {
          "output_type": "display_data",
          "data": {
            "image/png": "[encoded data removed]",
            "text/plain": [
              "<matplotlib.figure.Figure at 0x106dac50>"
            ]
          },
          "metadata": {
            "tags": []
          }
        }
      ]
    },
    {
      "cell_type": "markdown",
      "metadata": {
        "id": "K3jFuSoQO_6p",
        "colab_type": "text"
      },
      "source": [
        "You can see a pretty strong linear relationship between petal_length and petal_width. Let's fit a linear regression. Seaborn can plot the data with a regression line so let's do that first (but it doesn't give us much in the way of statistics)."
      ]
    },
    {
      "cell_type": "code",
      "metadata": {
        "id": "6O6j_Y--O_6p",
        "colab_type": "code",
        "outputId": "3cd20415-b0f5-4d9a-b467-1629a9484840",
        "colab": {}
      },
      "source": [
        "sns.lmplot(x=\"petal_length\", y=\"petal_width\", data=iris)\n",
        "sns.plt.show()"
      ],
      "execution_count": 0,
      "outputs": [
        {
          "output_type": "display_data",
          "data": {
            "image/png": "[encoded data removed]",
            "text/plain": [
              "<matplotlib.figure.Figure at 0x129ca400>"
            ]
          },
          "metadata": {
            "tags": []
          }
        }
      ]
    },
    {
      "cell_type": "markdown",
      "metadata": {
        "id": "YNLAZvz9O_6r",
        "colab_type": "text"
      },
      "source": [
        "Now let's use scikit-learn to find the best fit line."
      ]
    },
    {
      "cell_type": "code",
      "metadata": {
        "id": "RZSQ0TziO_6r",
        "colab_type": "code",
        "outputId": "d55a266d-5049-448b-a3e1-dfb2a3f0cc2a",
        "colab": {}
      },
      "source": [
        "# from sklearn import linear_model\n",
        "\n",
        "X = iris[[\"petal_length\"]]\n",
        "y = iris[\"petal_width\"]\n",
        "\n",
        "# Fit the linear model\n",
        "model = linear_model.LinearRegression()\n",
        "results = model.fit(X, y)\n",
        "\n",
        "# Print the coefficients\n",
        "print results.intercept_, results.coef_"
      ],
      "execution_count": 0,
      "outputs": [
        {
          "output_type": "stream",
          "text": [
            "-0.363075521319 [ 0.41575542]\n"
          ],
          "name": "stdout"
        }
      ]
    },
    {
      "cell_type": "markdown",
      "metadata": {
        "id": "Ui8dfDaNO_6t",
        "colab_type": "text"
      },
      "source": [
        "This means that our best fit line is:\n",
        "### y = a + bx\n",
        "where a=−0.363075521319 and b=0.41575542\n"
      ]
    },
    {
      "cell_type": "markdown",
      "metadata": {
        "id": "gik5jTdcO_6t",
        "colab_type": "text"
      },
      "source": [
        "## Cool Example\n",
        "### How to score an accuracy 0.8134 in Titanic Kaggle Challenge\n",
        "http://ahmedbesbes.com/how-to-score-08134-in-titanic-kaggle-challenge.html"
      ]
    },
    {
      "cell_type": "code",
      "metadata": {
        "collapsed": true,
        "id": "NECmHX1UO_6v",
        "colab_type": "code",
        "colab": {}
      },
      "source": [
        ""
      ],
      "execution_count": 0,
      "outputs": []
    }
  ]
}