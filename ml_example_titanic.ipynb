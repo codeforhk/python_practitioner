{
  "nbformat": 4,
  "nbformat_minor": 0,
  "metadata": {
    "_change_revision": 0,
    "_is_fork": false,
    "kernelspec": {
      "display_name": "Python 3",
      "language": "python",
      "name": "python3"
    },
    "language_info": {
      "codemirror_mode": {
        "name": "ipython",
        "version": 3
      },
      "file_extension": ".py",
      "mimetype": "text/x-python",
      "name": "python",
      "nbconvert_exporter": "python",
      "pygments_lexer": "ipython3",
      "version": "3.6.0"
    },
    "colab": {
      "name": "ml_example_titanic.ipynb",
      "provenance": [],
      "include_colab_link": true
    }
  },
  "cells": [
    {
      "cell_type": "markdown",
      "metadata": {
        "id": "view-in-github",
        "colab_type": "text"
      },
      "source": [
        "<a href=\"https://colab.research.google.com/github/codeforhk/python_practitioner/blob/master/ml_example_titanic.ipynb\" target=\"_parent\"><img src=\"https://colab.research.google.com/assets/colab-badge.svg\" alt=\"Open In Colab\"/></a>"
      ]
    },
    {
      "cell_type": "markdown",
      "metadata": {
        "id": "CGxybqgIinvY",
        "colab_type": "text"
      },
      "source": [
        "<img src=\"https://i.ytimg.com/vi/cMVi953awHQ/maxresdefault.jpg\">"
      ]
    },
    {
      "cell_type": "markdown",
      "metadata": {
        "_cell_guid": "5b825984-72f9-589b-f4a1-d3fbad1d9598",
        "_uuid": "14d9fd300ac9e5893e30a2e49fcf76ca8ecb8abb",
        "id": "_UgIvmpGinvb",
        "colab_type": "text"
      },
      "source": [
        "# **An Interactive Data Science Tutorial**\n",
        "\n",
        "\n",
        "*[Based on the Titanic competition on Kaggle](https://www.kaggle.com/c/titanic)*\n",
        "\n",
        "*by Helge Bjorland & Stian Eide*\n",
        "\n",
        "*January 2017*\n",
        "\n",
        "---\n",
        "\n",
        "## Content\n",
        "\n",
        "\n",
        " 1. Business Understanding (5 min)\n",
        "     * Objective\n",
        "     * Description\n",
        " 2. Data Understanding (15 min)\n",
        "    * Import Libraries\n",
        "    * Load data\n",
        "    * Statistical summaries and visualisations\n",
        "    * Excersises\n",
        " 3. Data Preparation (5 min)\n",
        "    * Missing values imputation\n",
        "    * Feature Engineering\n",
        " 4. Modeling (5 min)\n",
        "     * Build the model\n",
        " 5. Evaluation (25 min)\n",
        "     * Model performance\n",
        "     * Feature importance\n",
        "     * Who gets the best performing model?\n",
        " 6. Deployment  (5 min)\n",
        "     * Submit result to Kaggle leaderboard     \n",
        "\n",
        "[*Adopted from Cross Industry Standard Process for Data Mining (CRISP-DM)*](http://www.sv-europe.com/crisp-dm-methodology/)\n",
        "\n",
        "![CripsDM](https://upload.wikimedia.org/wikipedia/commons/thumb/b/b9/CRISP-DM_Process_Diagram.png/220px-CRISP-DM_Process_Diagram.png \"Process diagram showing the relationship between the different phases of CRISP-DM\")"
      ]
    },
    {
      "cell_type": "markdown",
      "metadata": {
        "_cell_guid": "6f9380bf-1835-9f4f-b728-48bdb84e7cab",
        "_uuid": "e3f672e66ea4b27c828372cb791a726baf0e86e3",
        "id": "3YiDSX0Einvc",
        "colab_type": "text"
      },
      "source": [
        "# 1. Business Understanding\n",
        "\n",
        "## 1.1 Objective\n",
        "Predict survival on the Titanic\n",
        "\n",
        "## 1.2 Description\n",
        "The sinking of the RMS Titanic is one of the most infamous shipwrecks in history.  On April 15, 1912, during her maiden voyage, the Titanic sank after colliding with an iceberg, killing 1502 out of 2224 passengers and crew. This sensational tragedy shocked the international community and led to better safety regulations for ships.\n",
        "\n",
        "One of the reasons that the shipwreck led to such loss of life was that there were not enough lifeboats for the passengers and crew. Although there was some element of luck involved in surviving the sinking, some groups of people were more likely to survive than others, such as women, children, and the upper-class.\n",
        "\n",
        "In this challenge, we ask you to complete the analysis of what sorts of people were likely to survive. In particular, we ask you to apply the tools of machine learning to predict which passengers survived the tragedy.\n",
        "\n",
        "**Before going further, what do you think is the most important reasons passangers survived the Titanic sinking?**\n",
        "\n",
        "[Description from Kaggle](https://www.kaggle.com/c/titanic)"
      ]
    },
    {
      "cell_type": "markdown",
      "metadata": {
        "id": "L1usn4vJinvd",
        "colab_type": "text"
      },
      "source": [
        "<img src=\"https://typeset-beta.imgix.net/2017/1/31/cd2dd3d6-bf72-4a05-93b5-d952c499f335.jpg\">\n",
        "<img src=\"https://i.imgflip.com/r89z2.jpg?a418296\">\n",
        "<img src=\"https://i.ytimg.com/vi/Ho1x0c86RrU/hqdefault.jpg\">"
      ]
    },
    {
      "cell_type": "markdown",
      "metadata": {
        "_cell_guid": "af225757-e074-9b64-ba8f-137252ea90e0",
        "_uuid": "d43060bd3aaeeb39f5da0221bad8ee9d59e10c04",
        "id": "cPAgEPnPinvd",
        "colab_type": "text"
      },
      "source": [
        "# 2. Data Understanding\n",
        "\n",
        "## 2.1 Exercise: Import Libraries \n",
        "First of some preparation. We need to import python libraries containing the necessary functionality we will need. "
      ]
    },
    {
      "cell_type": "markdown",
      "metadata": {
        "id": "NVAf_U97inve",
        "colab_type": "text"
      },
      "source": [
        "*Question 1: import the numpy and pandas library (10 seconds)*\n",
        "\n",
        "*Question 2: import sklearn library for KNN, Random Forest & Gradient Boosting ? The decision tree library is imported for you (60 seconds)* \n",
        "<br>hints: http://scikit-learn.org/stable/modules/classes.html#module-sklearn.tree\n",
        "\n",
        "*Question 3: import the visualization library pyplot, seaborn & pylab? Seaborn is imported for you (30 seconds)*\n",
        "\n",
        "*Question 4: import sklearn helper function train_test_split?* (60 seconds) \n",
        "<br>hints:http://scikit-learn.org/stable/modules/cross_validation.html"
      ]
    },
    {
      "cell_type": "code",
      "metadata": {
        "id": "0xQRjl6tinvf",
        "colab_type": "code",
        "colab": {}
      },
      "source": [
        "#Q1\n",
        "#hints: import the pandas library as pd?\n",
        "\n",
        "#Q2\n",
        "#hints: http://scikit-learn.org/stable/modules/classes.html#module-sklearn.tree\n",
        "from sklearn.tree import DecisionTreeClassifier\n",
        "\n",
        "#Q3\n",
        "import seaborn as sns\n",
        "\n",
        "#Q4\n",
        "#http://scikit-learn.org/stable/modules/cross_validation.html\n",
        "from sklearn.preprocessing import Imputer , Normalizer , scale"
      ],
      "execution_count": 0,
      "outputs": []
    },
    {
      "cell_type": "markdown",
      "metadata": {
        "_cell_guid": "cb44cb03-a5be-653d-34bf-f1e7eba133a4",
        "_uuid": "beae98a4c2218f5870f15c36d8fa3d8f023bdda2",
        "id": "H9ec77HDinvj",
        "colab_type": "text"
      },
      "source": [
        "## 2.2 Setup helper Functions\n",
        "There is no need to understand this code. Just run it to simplify the code later in the tutorial.\n",
        "\n",
        "*Simply run the cell below by selecting it and pressing the play button.*"
      ]
    },
    {
      "cell_type": "code",
      "metadata": {
        "_cell_guid": "0bb8cf49-d080-46a7-2c66-fa967ad4db97",
        "_uuid": "93ee5967d52eda0d7abd0a0ddec8e6b571d3d31a",
        "id": "LHdnBtp1invk",
        "colab_type": "code",
        "colab": {}
      },
      "source": [
        "def plot_histograms( df , variables , n_rows , n_cols ):\n",
        "    fig = plt.figure( figsize = ( 16 , 12 ) )\n",
        "    for i, var_name in enumerate( variables ):\n",
        "        ax=fig.add_subplot( n_rows , n_cols , i+1 )\n",
        "        df[ var_name ].hist( bins=10 , ax=ax )\n",
        "        ax.set_title( 'Skew: ' + str( round( float( df[ var_name ].skew() ) , ) ) ) # + ' ' + var_name ) #var_name+\" Distribution\")\n",
        "        ax.set_xticklabels( [] , visible=False )\n",
        "        ax.set_yticklabels( [] , visible=False )\n",
        "    fig.tight_layout()  # Improves appearance a bit.\n",
        "    plt.show()\n",
        "\n",
        "def plot_distribution( df , var , target , **kwargs ):\n",
        "    row = kwargs.get( 'row' , None )\n",
        "    col = kwargs.get( 'col' , None )\n",
        "    facet = sns.FacetGrid( df , hue=target , aspect=4 , row = row , col = col )\n",
        "    facet.map( sns.kdeplot , var , shade= True )\n",
        "    facet.set( xlim=( 0 , df[ var ].max() ) )\n",
        "    facet.add_legend()\n",
        "\n",
        "def plot_categories( df , cat , target , **kwargs ):\n",
        "    row = kwargs.get( 'row' , None )\n",
        "    col = kwargs.get( 'col' , None )\n",
        "    facet = sns.FacetGrid( df , row = row , col = col )\n",
        "    facet.map( sns.barplot , cat , target )\n",
        "    facet.add_legend()\n",
        "\n",
        "def plot_correlation_map( df ):\n",
        "    corr = titanic.corr()\n",
        "    _ , ax = plt.subplots( figsize =( 12 , 10 ) )\n",
        "    cmap = sns.diverging_palette( 220 , 10 , as_cmap = True )\n",
        "    _ = sns.heatmap(\n",
        "        corr, \n",
        "        cmap = cmap,\n",
        "        square=True, \n",
        "        cbar_kws={ 'shrink' : .9 }, \n",
        "        ax=ax, \n",
        "        annot = True, \n",
        "        annot_kws = { 'fontsize' : 12 }\n",
        "    )\n",
        "\n",
        "def describe_more( df ):\n",
        "    var = [] ; l = [] ; t = []\n",
        "    for x in df:\n",
        "        var.append( x )\n",
        "        l.append( len( pd.value_counts( df[ x ] ) ) )\n",
        "        t.append( df[ x ].dtypes )\n",
        "    levels = pd.DataFrame( { 'Variable' : var , 'Levels' : l , 'Datatype' : t } )\n",
        "    levels.sort_values( by = 'Levels' , inplace = True )\n",
        "    return levels\n",
        "\n",
        "def plot_variable_importance( X , y ):\n",
        "    tree = DecisionTreeClassifier( random_state = 99 )\n",
        "    tree.fit( X , y )\n",
        "    plot_model_var_imp( tree , X , y )\n",
        "    \n",
        "def plot_model_var_imp( model , X , y ):\n",
        "    imp = pd.DataFrame( \n",
        "        model.feature_importances_  , \n",
        "        columns = [ 'Importance' ] , \n",
        "        index = X.columns \n",
        "    )\n",
        "    imp = imp.sort_values( [ 'Importance' ] , ascending = True )\n",
        "    imp[ : 10 ].plot( kind = 'barh' )\n",
        "    print (model.score( X , y ))\n",
        "    "
      ],
      "execution_count": 0,
      "outputs": []
    },
    {
      "cell_type": "markdown",
      "metadata": {
        "_cell_guid": "ea8b0e99-e512-f1f5-ed3d-e7df876b9bed",
        "_uuid": "3a325527552a8d5c7b3454d7da96d9aba08a6e3e",
        "id": "ia-CiO56invm",
        "colab_type": "text"
      },
      "source": [
        "## 2.3 Exercise: Load data\n",
        "Now that our packages are loaded, let's read in and take a peek at the data.\n",
        "\n",
        "*Question 5a: Read the train & test csv & define them as variable $train$ & $test$.* (1 min)\n",
        "<br>\n",
        "train csv: https://storage.googleapis.com/bwdb/acceleratehk/10%20-%20kaggle%20class/train.csv\n",
        "<br>\n",
        "test csv: https://storage.googleapis.com/bwdb/acceleratehk/10%20-%20kaggle%20class/test.csv\n",
        "\n",
        "*Question 5b: Append/concatenate the 2 csv as a variable $full$.* (5 mins)\n",
        "\n",
        "*Question 5c: Then select the first 891 row of full and define a new variable called $titanic$* (1 min)\n",
        "\n",
        "*Question 5d: Describe the variables using the \"shape\" function (1 min)*"
      ]
    },
    {
      "cell_type": "code",
      "metadata": {
        "_cell_guid": "ee2677e2-b78b-250b-a908-816109e3ab91",
        "_uuid": "3b605c4089bc59f59891c01972bbf93a9f4733bb",
        "id": "GVciKfDSinvn",
        "colab_type": "code",
        "colab": {}
      },
      "source": [
        "# get titanic & test csv files as a DataFrame\n",
        "# train csv: https://storage.googleapis.com/bwdb/acceleratehk/10%20-%20kaggle%20class/train.csv\n",
        "# test csv: https://storage.googleapis.com/bwdb/acceleratehk/10%20-%20kaggle%20class/test.csv\n",
        "\n"
      ],
      "execution_count": 0,
      "outputs": []
    },
    {
      "cell_type": "markdown",
      "metadata": {
        "id": "UENnPzYYinvq",
        "colab_type": "text"
      },
      "source": [
        "*Silly question: Check if Jack and Rose are on Titanic. They are too real to be a fiction character. How would you do it? List comprehension. Hints: Try 'Rose' in \"Rose DeWitt Bukater\". It shows true. How would you check if there are \"Rose\" in the \"Name\" column in dataframe \"full\"?* (5 mins)"
      ]
    },
    {
      "cell_type": "code",
      "metadata": {
        "id": "tTK2mthpinvr",
        "colab_type": "code",
        "colab": {}
      },
      "source": [
        "Most_important_people_on_titanic = ['Jack Dawson',  \"Rose DeWitt Bukater\"]\n",
        "#Let's check if they are on Titanic?\n",
        "\n"
      ],
      "execution_count": 0,
      "outputs": []
    },
    {
      "cell_type": "markdown",
      "metadata": {
        "_cell_guid": "76852c59-23bf-55b6-5b6d-f672c97114ae",
        "_uuid": "1649b6e46089e86efd01fa32f38f6b3de103fd07",
        "id": "_0ksVJk7invu",
        "colab_type": "text"
      },
      "source": [
        "## 2.4 Exercise: Statistical summaries and visualisations\n",
        "\n",
        "To understand the data we are now going to consider some key facts about various variables including their relationship with the target variable, i.e. survival.\n",
        "\n",
        "\n",
        "\n",
        "*Question 6: We start by looking at a few lines of the data. How do you do it? (10 seconds)*"
      ]
    },
    {
      "cell_type": "code",
      "metadata": {
        "_cell_guid": "60d5efad-7649-c1e8-3cae-59bf562e8457",
        "_uuid": "437d245ee85944ca0f526ced3d6541e2a2ad79d7",
        "id": "_31a0Kr3invv",
        "colab_type": "code",
        "colab": {}
      },
      "source": [
        "#Q6\n"
      ],
      "execution_count": 0,
      "outputs": []
    },
    {
      "cell_type": "markdown",
      "metadata": {
        "_cell_guid": "1f3708e1-b5ca-7540-39fc-da7453d0fb80",
        "_uuid": "357237da24e98dcd61e598560da38a991cef9690",
        "id": "6THrPhv_invx",
        "colab_type": "text"
      },
      "source": [
        "**VARIABLE DESCRIPTIONS:**\n",
        "\n",
        "We've got a sense of our variables, their class type, and the first few observations of each. We know we're working with 1309 observations of 12 variables. To make things a bit more explicit since a couple of the variable names aren't 100% illuminating, here's what we've got to deal with:\n",
        "\n",
        "\n",
        "**Variable Description**\n",
        "\n",
        " - Survived: Survived (1) or died (0)\n",
        " - Pclass: Passenger's class\n",
        " - Name: Passenger's name\n",
        " - Sex: Passenger's sex\n",
        " - Age: Passenger's age\n",
        " - SibSp: Number of siblings/spouses aboard\n",
        " - Parch: Number of parents/children aboard\n",
        " - Ticket: Ticket number\n",
        " - Fare: Fare\n",
        " - Cabin: Cabin\n",
        " - Embarked: Port of embarkation\n",
        "\n",
        "[More information on the Kaggle site](https://www.kaggle.com/c/titanic/data)"
      ]
    },
    {
      "cell_type": "markdown",
      "metadata": {
        "_cell_guid": "bcc371f8-8fbb-a582-5944-8537c152c6c9",
        "_uuid": "bd29101b69f2a2f98c3717e3cf0a9f78f2ff0a02",
        "id": "-8nVMbjyinvy",
        "colab_type": "text"
      },
      "source": [
        "### 2.4.1 Exercise: Look at some key information about the variables\n",
        "An numeric variable is one with values of integers or real numbers while a categorical variable is a variable that can take on one of a limited, and usually fixed, number of possible values, such as blood type.\n",
        "\n",
        "Notice especially what type of variable each is, how many observations there are and some of the variable values.\n",
        "\n",
        "An interesting observation could for example be the minimum age 0.42, do you know why this is?\n",
        "\n",
        "*Select the cell below and run it by pressing the play button.*"
      ]
    },
    {
      "cell_type": "markdown",
      "metadata": {
        "id": "jsJRuiYainvz",
        "colab_type": "text"
      },
      "source": [
        "*Question 7: How to quickly describe the dataframe? What does it mean? Try to explain every row to yourself* (1 mins)"
      ]
    },
    {
      "cell_type": "code",
      "metadata": {
        "_cell_guid": "88c8b958-0973-d27e-d463-58fada41900e",
        "_uuid": "2072af7de9fb3c13125510e409cf56c703c77698",
        "collapsed": true,
        "id": "9l-ZagJfinvz",
        "colab_type": "code",
        "colab": {}
      },
      "source": [
        "#Q7\n"
      ],
      "execution_count": 0,
      "outputs": []
    },
    {
      "cell_type": "markdown",
      "metadata": {
        "_cell_guid": "c006f42b-cba3-7109-92fb-79676f726afb",
        "_uuid": "5c653b7ff54cfc33edd354a388903cedadd19b99",
        "id": "A7LbqzKVinv2",
        "colab_type": "text"
      },
      "source": [
        "### 2.4.2 Exercise: A heat map of correlation may give us a understanding of which variables are important\n",
        "*Qusestion 8: Find the correlation matrix of titanic. (5 mins)*\n",
        "\n",
        "hints: Check the helper's function. Alternatively, check https://stackoverflow.com/questions/29432629/correlation-matrix-using-pandas"
      ]
    },
    {
      "cell_type": "code",
      "metadata": {
        "_cell_guid": "84418f3e-32ab-7a6c-a60e-6d45760ee666",
        "_uuid": "7e2da9cf5c5aad85aac30b62df307ce95b7cbebf",
        "collapsed": true,
        "scrolled": true,
        "id": "Aa9sa_eRinv3",
        "colab_type": "code",
        "colab": {}
      },
      "source": [
        "#Q8\n"
      ],
      "execution_count": 0,
      "outputs": []
    },
    {
      "cell_type": "markdown",
      "metadata": {
        "_cell_guid": "952846c2-63a9-1923-2501-d3036056855b",
        "_uuid": "c4d8c534e64ca48cbbad772048525439063548d7",
        "id": "fe76fIF2inv5",
        "colab_type": "text"
      },
      "source": [
        "### 2.4.3 Let's further explore the relationship between the features and survival of passengers \n",
        "*Question 9 : Can yoy plot the the relationship between age and survival? Try use the helper's function?*"
      ]
    },
    {
      "cell_type": "code",
      "metadata": {
        "_cell_guid": "617703c7-4ab2-186c-f4b1-40d5ffa37850",
        "_uuid": "aa5092ca9f0d167f6c8511b47aab51981e7375ec",
        "collapsed": true,
        "id": "1s4q8WTYinv7",
        "colab_type": "code",
        "colab": {}
      },
      "source": [
        "#Q9 Plot distributions of Age of passangers who survived or did not survive\n"
      ],
      "execution_count": 0,
      "outputs": []
    },
    {
      "cell_type": "markdown",
      "metadata": {
        "_cell_guid": "834c62d5-23e7-7e0c-d2d4-bc960d09a409",
        "_uuid": "1c9f4c7d0302838cd672fc045ce02de55d12a2ac",
        "id": "t8eI53ocinv9",
        "colab_type": "text"
      },
      "source": [
        "Consider the graphs above. Differences between survival for different values is what will be used to separate the target variable (survival in this case) in the model. If the two lines had been about the same, then it would not have been a good variable for our predictive model. \n",
        "\n",
        "Consider some key questions such as; what age does males/females have a higher or lower probability of survival? "
      ]
    },
    {
      "cell_type": "markdown",
      "metadata": {
        "_cell_guid": "f8d077bf-e70c-29df-253e-5bd22ff3f06e",
        "_uuid": "689e5cc6f78b5991bd6104d2a004c2cbbb613b4c",
        "id": "t6LAE6qkinv9",
        "colab_type": "text"
      },
      "source": [
        "### 2.4.3 Excersise : Investigating numeric variables\n",
        "It's time to get your hands dirty and do some coding! \n",
        "\n",
        "*Question Try to plot the distributions of Fare of passangers who survived or did not survive. Then consider if this could be a good predictive variable.*\n",
        "\n",
        "*Hint: use the code from the previous cell as a starting point.*"
      ]
    },
    {
      "cell_type": "code",
      "metadata": {
        "_cell_guid": "6fcddc9f-19be-c474-a639-79c6b2d2a41a",
        "_uuid": "206fd2250bc01b765e040188ba659394f2e7b6ec",
        "collapsed": true,
        "id": "cFZ8axcjinv-",
        "colab_type": "code",
        "colab": {}
      },
      "source": [
        "#Q10 Plot distributions of Fare of passangers who survived or did not survive\n",
        "\n",
        "\n"
      ],
      "execution_count": 0,
      "outputs": []
    },
    {
      "cell_type": "markdown",
      "metadata": {
        "_cell_guid": "e9dffe91-ee29-9cca-2860-29a32a44e2af",
        "_uuid": "fa32ec338c71ec16a592a2ca5bd626b57191f88a",
        "id": "8nRO0SofinwA",
        "colab_type": "text"
      },
      "source": [
        "### 2.4.4 Embarked\n",
        "We can also look at categorical variables like Embarked and their relationship with survival.\n",
        "\n",
        "- C = Cherbourg  \n",
        "- Q = Queenstown\n",
        "- S = Southampton"
      ]
    },
    {
      "cell_type": "code",
      "metadata": {
        "_cell_guid": "b5beadda-fe40-d017-9bf8-29d372401c10",
        "_uuid": "fb6d2a3453eb88211d16decb81a57cfb715895b8",
        "collapsed": true,
        "id": "0nohmtrainwB",
        "colab_type": "code",
        "colab": {}
      },
      "source": [
        "#Q11 Plot survival rate by Embarked. Hint: Look into the helper function?\n",
        "\n",
        "\n"
      ],
      "execution_count": 0,
      "outputs": []
    },
    {
      "cell_type": "markdown",
      "metadata": {
        "_cell_guid": "33e7d091-af47-9a77-c907-81e710200c5f",
        "_uuid": "5e64b850e43080a88c42b7743c60d0bc78db70eb",
        "id": "KiUiphYdinwD",
        "colab_type": "text"
      },
      "source": [
        "### 2.4.4 question 12 - 15: Investigating categorical variables\n",
        "Even more coding practice! Try to plot the survival rate of Sex, Pclass, SibSp and Parch below. \n",
        "\n",
        "*Hint: use the code from the previous cell as a starting point.*\n",
        "\n",
        "After considering these graphs, which variables do you expect to be good predictors of survival? "
      ]
    },
    {
      "cell_type": "code",
      "metadata": {
        "_cell_guid": "25022b4c-a631-45fa-ec2b-e7bd7ed11987",
        "_uuid": "9db6bbac71e22d722a3d6b7e67702569369f7742",
        "collapsed": true,
        "id": "myThVsnbinwE",
        "colab_type": "code",
        "colab": {}
      },
      "source": [
        "# Q12\n",
        "# Plot survival rate by Sex\n"
      ],
      "execution_count": 0,
      "outputs": []
    },
    {
      "cell_type": "code",
      "metadata": {
        "_cell_guid": "8c7af046-677c-07a7-d4bf-b28d10092f73",
        "_uuid": "bffd2de541aafd8a5de95a30cb7a2647edb19eea",
        "collapsed": true,
        "id": "tt9JGLsSinwG",
        "colab_type": "code",
        "colab": {}
      },
      "source": [
        "# Q13\n",
        "# Plot survival rate by Pclass\n"
      ],
      "execution_count": 0,
      "outputs": []
    },
    {
      "cell_type": "code",
      "metadata": {
        "_cell_guid": "f5b4252e-4800-d674-f86f-01eba244230d",
        "_uuid": "5c6752d079823c04a7f74e382ad8e358ef6002d8",
        "collapsed": true,
        "id": "fWWedVNPinwI",
        "colab_type": "code",
        "colab": {}
      },
      "source": [
        "# Q14\n",
        "# Plot survival rate by SibSp\n"
      ],
      "execution_count": 0,
      "outputs": []
    },
    {
      "cell_type": "code",
      "metadata": {
        "_cell_guid": "4dc79695-082e-84c0-0f0d-6fca5ad414dd",
        "_uuid": "dbd28bf6d6f811218e9e1768edff7dff851e83e9",
        "collapsed": true,
        "id": "hAUI3TzTinwK",
        "colab_type": "code",
        "colab": {}
      },
      "source": [
        "# Q15\n",
        "# Plot survival rate by Parch\n"
      ],
      "execution_count": 0,
      "outputs": []
    },
    {
      "cell_type": "markdown",
      "metadata": {
        "_cell_guid": "c9888e98-091a-d98c-6ccf-b733a4f0d941",
        "_uuid": "575390b89ff29480d65c43401dc238dba2d91805",
        "id": "R4RYjgt0inwM",
        "colab_type": "text"
      },
      "source": [
        "# 3. Data Preparation"
      ]
    },
    {
      "cell_type": "markdown",
      "metadata": {
        "_cell_guid": "e280f761-4b30-9776-09e3-fcaecf932a01",
        "_uuid": "4dcfc4471c107746c4f35f9b61f917e1ec7747d3",
        "id": "xpUupsYfinwN",
        "colab_type": "text"
      },
      "source": [
        "## 3.1 Categorical variables need to be transformed to numeric variables\n",
        "The variables *Embarked*, *Pclass* and *Sex* are treated as categorical variables. Some of our model algorithms can only handle numeric values and so we need to create a new variable (dummy variable) for every unique value of the categorical variables.\n",
        "\n",
        "This variable will have a value 1 if the row has a particular value and a value 0 if not. *Sex* is a dichotomy (old school gender theory) and will be encoded as one binary variable (0 or 1).\n",
        "\n",
        "*Select the cells below and run it by pressing the play button.*"
      ]
    },
    {
      "cell_type": "markdown",
      "metadata": {
        "id": "DPJhuImwinwO",
        "colab_type": "text"
      },
      "source": [
        "*Question16: Write a function that transform male = 1 & female  = 0. You can write a function with the input as a list, or loop through a simple function that transform male to 1 & else 0. Convert $full.Sex$ to a series called $sex$ * (10 mins)"
      ]
    },
    {
      "cell_type": "code",
      "metadata": {
        "_cell_guid": "75023b46-ded0-94ab-3ea1-7da1eec945fe",
        "_uuid": "ea33041b25a82001e37b6088a53b09efa3c20af3",
        "id": "j2QSd_rAinwO",
        "colab_type": "code",
        "colab": {}
      },
      "source": [
        "#Q16 Transform Sex into binary values 0 and 1\n"
      ],
      "execution_count": 0,
      "outputs": []
    },
    {
      "cell_type": "markdown",
      "metadata": {
        "id": "YAvV4EkxinwQ",
        "colab_type": "text"
      },
      "source": [
        "*Question17: Convert $full.Embarked$ to a dataframe with dummy variables and called it \"Embarked\". Hints: Check out pd.get_dummies*"
      ]
    },
    {
      "cell_type": "code",
      "metadata": {
        "_cell_guid": "cf816542-c40f-abe0-b662-a91211882bff",
        "_uuid": "3a9a8b5e6f83217f853f670cd94c05ec4dd6c701",
        "id": "QAV-7L1YinwR",
        "colab_type": "code",
        "colab": {}
      },
      "source": [
        "#Q17 Create a new variable for every unique value of Embarked\n"
      ],
      "execution_count": 0,
      "outputs": []
    },
    {
      "cell_type": "markdown",
      "metadata": {
        "id": "R8EO3p8ainwT",
        "colab_type": "text"
      },
      "source": [
        "*Question18: Convert $full.Pclass$ to a dataframe with dummy variables and called it \"pclass\". Hints: Check out pd.get_dummies*"
      ]
    },
    {
      "cell_type": "code",
      "metadata": {
        "_cell_guid": "01758920-20cc-e200-90aa-e4404c41a8d7",
        "_uuid": "dc7d4d51f63e70307b554273a99cad4aa1e5e04f",
        "id": "Adv2vMcainwU",
        "colab_type": "code",
        "colab": {}
      },
      "source": [
        "#Q18 Create a new variable for every unique value of pclass\n"
      ],
      "execution_count": 0,
      "outputs": []
    },
    {
      "cell_type": "markdown",
      "metadata": {
        "_cell_guid": "d1269afc-b929-d519-9646-146f8a91b472",
        "_uuid": "130b000bc13b9837f5200ce8759767b0e3e647ee",
        "id": "Idg-OTS_inwV",
        "colab_type": "text"
      },
      "source": [
        "## 3.2 Fill missing values in variables\n",
        "Most machine learning alghorims require all variables to have values in order to use it for training the model. The simplest method is to fill missing values with the average of the variable across all observations in the training set.\n",
        "\n",
        "*Question19: Create an empty dataframe called \"imputed\"* (10 mins)\n",
        "<br>*Question: replace all the NA value with the mean in $full.Age$*\n",
        "<br>*Question: replace all the NA value with the mean in $full.Mean$*"
      ]
    },
    {
      "cell_type": "code",
      "metadata": {
        "_cell_guid": "04044a9c-603d-1963-34f4-a85efb8c9166",
        "_uuid": "fd973787a5e32101556d34cd463b1f9b4fd6bd44",
        "id": "u0dbXP8XinwW",
        "colab_type": "code",
        "colab": {}
      },
      "source": [
        "#Q19\n"
      ],
      "execution_count": 0,
      "outputs": []
    },
    {
      "cell_type": "markdown",
      "metadata": {
        "_cell_guid": "4f2ce8f7-8bf6-69f8-e2ae-5593b5cf98ac",
        "_uuid": "608822f3d76f803c81401a91302d604954966b60",
        "id": "n_QDWP3qinwY",
        "colab_type": "text"
      },
      "source": [
        "## 3.3 Feature Engineering &ndash; Creating new variables\n",
        "Credit: http://ahmedbesbes.com/how-to-score-08134-in-titanic-kaggle-challenge.html"
      ]
    },
    {
      "cell_type": "markdown",
      "metadata": {
        "_cell_guid": "bd8efd0f-4af4-d709-cfeb-1907f885e341",
        "_uuid": "21c2207931c4b1b54697df156b79830a8c29f7fa",
        "id": "yqo7w4fcinwY",
        "colab_type": "text"
      },
      "source": [
        "### 3.3.1 Extract titles from passenger names\n",
        "Titles reflect social status and may predict survival probability\n",
        "\n",
        "*Select the cell below and run it by pressing the play button.*"
      ]
    },
    {
      "cell_type": "markdown",
      "metadata": {
        "id": "HWJh_NT9inwZ",
        "colab_type": "text"
      },
      "source": [
        "*Question 20: Create an empty dataframe called \"title\"*\n",
        "<br> *Check out full[ 'Name' ]*\n",
        "<br>*Question: Write a function that convert 'Gilbert, Mr. William' to 'Mr', & 'McGowan, Miss. Anna' \"Annie\" to \"Miss\", and convert all the names in full.Name, and put them in title.Title*\n",
        "<br>*Question: Try to count how many Mr, Miss, Dr....etc on the boat. How do you do it? Check out pd.value_counts() *"
      ]
    },
    {
      "cell_type": "code",
      "metadata": {
        "collapsed": true,
        "id": "ImtRqJGJinwa",
        "colab_type": "code",
        "colab": {}
      },
      "source": [
        "#Q20\n",
        "\n"
      ],
      "execution_count": 0,
      "outputs": []
    },
    {
      "cell_type": "code",
      "metadata": {
        "_cell_guid": "32772d9e-8c05-4eaf-5cd3-8425ae5837cd",
        "_uuid": "1cc5ca8d4c3ae4b575512ddce16c4594fdb890de",
        "collapsed": true,
        "id": "ggMekrCEinwd",
        "colab_type": "code",
        "colab": {}
      },
      "source": [
        "Title_Dictionary = {\n",
        "                    \"Capt\":       \"Officer\",\n",
        "                    \"Col\":        \"Officer\",\n",
        "                    \"Major\":      \"Officer\",\n",
        "                    \"Jonkheer\":   \"Royalty\",\n",
        "                    \"Don\":        \"Royalty\",\n",
        "                    \"Sir\" :       \"Royalty\",\n",
        "                    \"Dr\":         \"Officer\",\n",
        "                    \"Rev\":        \"Officer\",\n",
        "                    \"the Countess\":\"Royalty\",\n",
        "                    \"Dona\":       \"Royalty\",\n",
        "                    \"Mme\":        \"Mrs\",\n",
        "                    \"Mlle\":       \"Miss\",\n",
        "                    \"Ms\":         \"Mrs\",\n",
        "                    \"Mr\" :        \"Mr\",\n",
        "                    \"Mrs\" :       \"Mrs\",\n",
        "                    \"Miss\" :      \"Miss\",\n",
        "                    \"Master\" :    \"Master\",\n",
        "                    \"Lady\" :      \"Royalty\"\n",
        "\n",
        "                    }\n"
      ],
      "execution_count": 0,
      "outputs": []
    },
    {
      "cell_type": "markdown",
      "metadata": {
        "id": "90Pj6cebinwf",
        "colab_type": "text"
      },
      "source": [
        "*Question 21: Use the mapping table, merge the categories into a bigger categories. e.g, Ms & Mrs to \"Mrs\". Convert all the titles on title['Title]. How do you do it? Check out the function \"map\"*\n",
        "<br>*Question: Convert all the title.Title to dummy variables. You should know how to do it!!*\n",
        "<br>*Question: Concatenate the new dataframe to the old one. How do you do it? Hints: axis = 1*"
      ]
    },
    {
      "cell_type": "code",
      "metadata": {
        "collapsed": true,
        "id": "zM-oMK7jinwg",
        "colab_type": "code",
        "colab": {}
      },
      "source": [
        "#Q21\n",
        "\n"
      ],
      "execution_count": 0,
      "outputs": []
    },
    {
      "cell_type": "markdown",
      "metadata": {
        "_cell_guid": "a56838a1-5d47-194f-7ac6-06c397b60482",
        "_uuid": "3584030d39a15cb995ee4d3eea280ccf45bbdc44",
        "id": "8d26yjV4inwi",
        "colab_type": "text"
      },
      "source": [
        "### 3.3.2 Extract Cabin category information from the Cabin number\n",
        "\n",
        "*Select the cell below and run it by pressing the play button.*"
      ]
    },
    {
      "cell_type": "markdown",
      "metadata": {
        "id": "Rt6e5J67inwk",
        "colab_type": "text"
      },
      "source": [
        "*Question22: create an empty dataframe called 'cabin'*\n",
        "<br>*Question: replace the NA value in full.Cabin to 'U', and then save it in cabin['Cabin']*\n",
        "<br>*Question: mapping each Cabin value with the cabin letter. For example, C243 to \"C\" & D4 to \"D\"*\n",
        "<br>*Question: again, convert the categorical data to dummy variables*"
      ]
    },
    {
      "cell_type": "code",
      "metadata": {
        "_cell_guid": "87ed124f-d659-bf03-7dbf-accee0ddfe75",
        "_uuid": "3117e4fc846d270b4054c0d834164261676dd849",
        "collapsed": true,
        "id": "u1evWwg-inwk",
        "colab_type": "code",
        "colab": {}
      },
      "source": [
        "#Q22\n",
        "\n",
        "\n"
      ],
      "execution_count": 0,
      "outputs": []
    },
    {
      "cell_type": "markdown",
      "metadata": {
        "_cell_guid": "d2dba1d1-e7cd-b9c8-fcc7-fae22cca38da",
        "_uuid": "a352d65f53317c66e641dede9b33bd601a405f3d",
        "id": "niFiVlOuinwm",
        "colab_type": "text"
      },
      "source": [
        "### 3.3.3 Extract ticket class from ticket number\n",
        "\n",
        "*Question23: Create a function that clean and standardize the ticket number. For e.g, convert \"C.A. 2673\" & \"C.A. 30769\"\n",
        "to \"CA\", or \"A/5. 2151\" &\"A/5. 2161\" to \"A5\". Also convert all numerical ticket to \"XXX\". How would you do it? (This should be the hardest question today)\n",
        "<br>*Question: create an empty dataframe called \"ticket\" & write the cleaned full.Ticket into a new colun called \"Ticket\"*\n",
        "<br>*Question: create a dummy variables of ticket.Ticket, and called it \"ticket\"*"
      ]
    },
    {
      "cell_type": "code",
      "metadata": {
        "_cell_guid": "5319db41-01dd-3a48-83d8-56572272d966",
        "_uuid": "cfa5c1d572f129caa532bed4641c89f97098ed41",
        "id": "HC0UON_Jinwm",
        "colab_type": "code",
        "colab": {},
        "outputId": "0723f73b-bb47-44c4-b95c-b3a6a9a3ce77"
      },
      "source": [
        "#Q23\n",
        "\n",
        "\n",
        "# a function that extracts each prefix of the ticket, returns 'XXX' if no prefix (i.e the ticket is a digit)"
      ],
      "execution_count": 0,
      "outputs": [
        {
          "output_type": "execute_result",
          "data": {
            "text/html": [
              "<div>\n",
              "<style>\n",
              "    .dataframe thead tr:only-child th {\n",
              "        text-align: right;\n",
              "    }\n",
              "\n",
              "    .dataframe thead th {\n",
              "        text-align: left;\n",
              "    }\n",
              "\n",
              "    .dataframe tbody tr th {\n",
              "        vertical-align: top;\n",
              "    }\n",
              "</style>\n",
              "<table border=\"1\" class=\"dataframe\">\n",
              "  <thead>\n",
              "    <tr style=\"text-align: right;\">\n",
              "      <th></th>\n",
              "      <th>Ticket_A</th>\n",
              "      <th>Ticket_A4</th>\n",
              "      <th>Ticket_A5</th>\n",
              "      <th>Ticket_AQ3</th>\n",
              "      <th>Ticket_AQ4</th>\n",
              "      <th>Ticket_AS</th>\n",
              "      <th>Ticket_C</th>\n",
              "      <th>Ticket_CA</th>\n",
              "      <th>Ticket_CASOTON</th>\n",
              "      <th>Ticket_FC</th>\n",
              "      <th>...</th>\n",
              "      <th>Ticket_SOTONO2</th>\n",
              "      <th>Ticket_SOTONOQ</th>\n",
              "      <th>Ticket_SP</th>\n",
              "      <th>Ticket_STONO</th>\n",
              "      <th>Ticket_STONO2</th>\n",
              "      <th>Ticket_STONOQ</th>\n",
              "      <th>Ticket_SWPP</th>\n",
              "      <th>Ticket_WC</th>\n",
              "      <th>Ticket_WEP</th>\n",
              "      <th>Ticket_XXX</th>\n",
              "    </tr>\n",
              "  </thead>\n",
              "  <tbody>\n",
              "    <tr>\n",
              "      <th>0</th>\n",
              "      <td>0</td>\n",
              "      <td>0</td>\n",
              "      <td>1</td>\n",
              "      <td>0</td>\n",
              "      <td>0</td>\n",
              "      <td>0</td>\n",
              "      <td>0</td>\n",
              "      <td>0</td>\n",
              "      <td>0</td>\n",
              "      <td>0</td>\n",
              "      <td>...</td>\n",
              "      <td>0</td>\n",
              "      <td>0</td>\n",
              "      <td>0</td>\n",
              "      <td>0</td>\n",
              "      <td>0</td>\n",
              "      <td>0</td>\n",
              "      <td>0</td>\n",
              "      <td>0</td>\n",
              "      <td>0</td>\n",
              "      <td>0</td>\n",
              "    </tr>\n",
              "    <tr>\n",
              "      <th>1</th>\n",
              "      <td>0</td>\n",
              "      <td>0</td>\n",
              "      <td>0</td>\n",
              "      <td>0</td>\n",
              "      <td>0</td>\n",
              "      <td>0</td>\n",
              "      <td>0</td>\n",
              "      <td>0</td>\n",
              "      <td>0</td>\n",
              "      <td>0</td>\n",
              "      <td>...</td>\n",
              "      <td>0</td>\n",
              "      <td>0</td>\n",
              "      <td>0</td>\n",
              "      <td>0</td>\n",
              "      <td>0</td>\n",
              "      <td>0</td>\n",
              "      <td>0</td>\n",
              "      <td>0</td>\n",
              "      <td>0</td>\n",
              "      <td>0</td>\n",
              "    </tr>\n",
              "    <tr>\n",
              "      <th>2</th>\n",
              "      <td>0</td>\n",
              "      <td>0</td>\n",
              "      <td>0</td>\n",
              "      <td>0</td>\n",
              "      <td>0</td>\n",
              "      <td>0</td>\n",
              "      <td>0</td>\n",
              "      <td>0</td>\n",
              "      <td>0</td>\n",
              "      <td>0</td>\n",
              "      <td>...</td>\n",
              "      <td>0</td>\n",
              "      <td>0</td>\n",
              "      <td>0</td>\n",
              "      <td>0</td>\n",
              "      <td>1</td>\n",
              "      <td>0</td>\n",
              "      <td>0</td>\n",
              "      <td>0</td>\n",
              "      <td>0</td>\n",
              "      <td>0</td>\n",
              "    </tr>\n",
              "    <tr>\n",
              "      <th>3</th>\n",
              "      <td>0</td>\n",
              "      <td>0</td>\n",
              "      <td>0</td>\n",
              "      <td>0</td>\n",
              "      <td>0</td>\n",
              "      <td>0</td>\n",
              "      <td>0</td>\n",
              "      <td>0</td>\n",
              "      <td>0</td>\n",
              "      <td>0</td>\n",
              "      <td>...</td>\n",
              "      <td>0</td>\n",
              "      <td>0</td>\n",
              "      <td>0</td>\n",
              "      <td>0</td>\n",
              "      <td>0</td>\n",
              "      <td>0</td>\n",
              "      <td>0</td>\n",
              "      <td>0</td>\n",
              "      <td>0</td>\n",
              "      <td>1</td>\n",
              "    </tr>\n",
              "    <tr>\n",
              "      <th>4</th>\n",
              "      <td>0</td>\n",
              "      <td>0</td>\n",
              "      <td>0</td>\n",
              "      <td>0</td>\n",
              "      <td>0</td>\n",
              "      <td>0</td>\n",
              "      <td>0</td>\n",
              "      <td>0</td>\n",
              "      <td>0</td>\n",
              "      <td>0</td>\n",
              "      <td>...</td>\n",
              "      <td>0</td>\n",
              "      <td>0</td>\n",
              "      <td>0</td>\n",
              "      <td>0</td>\n",
              "      <td>0</td>\n",
              "      <td>0</td>\n",
              "      <td>0</td>\n",
              "      <td>0</td>\n",
              "      <td>0</td>\n",
              "      <td>1</td>\n",
              "    </tr>\n",
              "  </tbody>\n",
              "</table>\n",
              "<p>5 rows × 37 columns</p>\n",
              "</div>"
            ],
            "text/plain": [
              "   Ticket_A  Ticket_A4  Ticket_A5  Ticket_AQ3  Ticket_AQ4  Ticket_AS  \\\n",
              "0         0          0          1           0           0          0   \n",
              "1         0          0          0           0           0          0   \n",
              "2         0          0          0           0           0          0   \n",
              "3         0          0          0           0           0          0   \n",
              "4         0          0          0           0           0          0   \n",
              "\n",
              "   Ticket_C  Ticket_CA  Ticket_CASOTON  Ticket_FC     ...      Ticket_SOTONO2  \\\n",
              "0         0          0               0          0     ...                   0   \n",
              "1         0          0               0          0     ...                   0   \n",
              "2         0          0               0          0     ...                   0   \n",
              "3         0          0               0          0     ...                   0   \n",
              "4         0          0               0          0     ...                   0   \n",
              "\n",
              "   Ticket_SOTONOQ  Ticket_SP  Ticket_STONO  Ticket_STONO2  Ticket_STONOQ  \\\n",
              "0               0          0             0              0              0   \n",
              "1               0          0             0              0              0   \n",
              "2               0          0             0              1              0   \n",
              "3               0          0             0              0              0   \n",
              "4               0          0             0              0              0   \n",
              "\n",
              "   Ticket_SWPP  Ticket_WC  Ticket_WEP  Ticket_XXX  \n",
              "0            0          0           0           0  \n",
              "1            0          0           0           0  \n",
              "2            0          0           0           0  \n",
              "3            0          0           0           1  \n",
              "4            0          0           0           1  \n",
              "\n",
              "[5 rows x 37 columns]"
            ]
          },
          "metadata": {
            "tags": []
          },
          "execution_count": 37
        }
      ]
    },
    {
      "cell_type": "markdown",
      "metadata": {
        "_cell_guid": "7e812a29-3885-30a9-3d51-beda531016d9",
        "_uuid": "26d0c69cd1ac4839869e23a5bfef789f76ea23b3",
        "id": "vIcrnjn_inwq",
        "colab_type": "text"
      },
      "source": [
        "### 3.3.4 Create family size and category for family size\n",
        "The two variables *Parch* and *SibSp* are used to create the famiy size variable\n",
        "\n",
        "*Question24: Create an empty dataframe called \"family\"*\n",
        "\n",
        "<br>* Let's create a new feature: the size of families (including the passenger).Let's called it \"FamilySize\". How would you do it?*\n",
        "<br>* Let's create another feature called Family_Single. i.e if family size is 1. put it as a column in family*\n",
        "<br>* Let's create another feature called Family_small. i.e if family size is between 2 & 4. put it as a column in family*\n",
        "<br>* Let's create another feature called Family_Large. i.e if family size is > 4. put it as a column in family*"
      ]
    },
    {
      "cell_type": "code",
      "metadata": {
        "_cell_guid": "d885986a-77ea-b35c-5ddc-c16f54357232",
        "_uuid": "a644620985763033d17994d2ca30e53baa213354",
        "collapsed": true,
        "id": "4ubZVnsEinwq",
        "colab_type": "code",
        "colab": {}
      },
      "source": [
        "#Q24\n",
        "\n",
        "\n",
        "\n",
        "\n"
      ],
      "execution_count": 0,
      "outputs": []
    },
    {
      "cell_type": "markdown",
      "metadata": {
        "_cell_guid": "c20b06e8-7126-a80e-762a-8a383ffba9e1",
        "_uuid": "512d5585c277c4169381a0bf7acf27496f73cf89",
        "id": "iy0rNm6Minws",
        "colab_type": "text"
      },
      "source": [
        "## 3.4 Assemble final datasets for modelling\n",
        "\n",
        "Split dataset by rows into test and train in order to have a holdout set to do model evaluation on. The dataset is also split by columns in a matrix (X) containing the input data and a vector (y) containing the target (or labels)."
      ]
    },
    {
      "cell_type": "markdown",
      "metadata": {
        "_cell_guid": "29663deb-5bbf-b621-abe5-37cfa5e3d29f",
        "_uuid": "03d7feb8d38f7e2d872cd2f633bda35ce079891c",
        "id": "JxfDfWMGinws",
        "colab_type": "text"
      },
      "source": [
        "### 3.4.1 Variable selection\n",
        "Select which features/variables to inculde in the dataset from the list below:\n",
        "\n",
        " - imputed \n",
        " - embarked\n",
        " - pclass\n",
        " - sex\n",
        " - family\n",
        " - cabin\n",
        " - ticket\n",
        "\n",
        "*Include the variables you would like to use in the function below seperated by comma, then run the cell*\n",
        "\n",
        "*Question 25: We have created a list of dataframe. Try to select sex, family and imputed, concatenate by column, and create a new dataframe called full_X? How would you do it? Check out pd.concat. What axis will you be using?*"
      ]
    },
    {
      "cell_type": "code",
      "metadata": {
        "_cell_guid": "4b3459bd-752c-0a96-22dc-8672900a0bb9",
        "_uuid": "1bbdcc90886fe23eaaa9c9e5a8bb7fcde0998be9",
        "collapsed": true,
        "id": "NW3K41U5inwt",
        "colab_type": "code",
        "colab": {}
      },
      "source": [
        "#Q25 Select which features/variables to include in the dataset from the list below:\n",
        "# imputed , embarked , pclass , sex , family , cabin , ticket\n",
        "\n"
      ],
      "execution_count": 0,
      "outputs": []
    },
    {
      "cell_type": "markdown",
      "metadata": {
        "_cell_guid": "cb10186c-81b3-f9cd-250a-fab46b0001f5",
        "_uuid": "41be84fbd93bcf383012d5e24aaec2ac414c149f",
        "id": "MevdXiCDinwv",
        "colab_type": "text"
      },
      "source": [
        "### 3.4.2 Create datasets\n",
        "Below we will seperate the data into training and test datasets.\n",
        "\n",
        "*Select the cell below and run it by pressing the play button.*"
      ]
    },
    {
      "cell_type": "markdown",
      "metadata": {
        "id": "K2Z1GROJinwv",
        "colab_type": "text"
      },
      "source": [
        "*Question 26: Remember that our \"full\" dataframe is combined by both train and test set? Let's split them back to train_valid_X, train_valid_y, test_X, train_X.*\n",
        "\n",
        "<br>*Create a dataframe called 'train_valid_X' by selecting the 0:891 rows from full_X*\n",
        "<br>*Create a list called 'train_valid_y' by selecting the survive or not label from train_valid_X*\n",
        "<br>*Create a dataframe called 'test_X' by selecting row 891 onwards from full_X*\n",
        "<br>*Using \"train_test_split\", split the validation set by setting train_size = .7*"
      ]
    },
    {
      "cell_type": "code",
      "metadata": {
        "_cell_guid": "7ca114b3-f22c-b8bf-4e61-9c9bcd82fa63",
        "_uuid": "d59aa160239dc818684cb9a71ecff51edeffa5f3",
        "collapsed": true,
        "id": "jdHhOmWuinww",
        "colab_type": "code",
        "colab": {}
      },
      "source": [
        "#Q26 Create all datasets that are necessary to train, validate and test models\n",
        "\n",
        "\n",
        "\n",
        "print (full_X.shape , train_X.shape , valid_X.shape , train_y.shape , valid_y.shape , test_X.shape)"
      ],
      "execution_count": 0,
      "outputs": []
    },
    {
      "cell_type": "markdown",
      "metadata": {
        "_cell_guid": "f269d9b9-73fc-6d34-b46a-61fd6f1357ae",
        "_uuid": "70b9dd52279a00139dd3476624d0cd16e93504b7",
        "id": "wueT8BvUinwx",
        "colab_type": "text"
      },
      "source": [
        "### 3.4.3 Feature importance\n",
        "Selecting the optimal features in the model is important. \n",
        "We will now try to evaluate what the most important variables are for the model to make the prediction.\n",
        "\n",
        "*Try use the helper function plot_variable_importance to check on train_X & train_y, to see which features are the most importants?*"
      ]
    },
    {
      "cell_type": "code",
      "metadata": {
        "_cell_guid": "17c2f033-c43d-93f8-a697-bf32eec3b550",
        "_uuid": "e0635260ff6b8bcf9fa1e7a82d27a4e590ed0c09",
        "collapsed": true,
        "id": "5lQmMjrwinwy",
        "colab_type": "code",
        "colab": {}
      },
      "source": [
        "plot_variable_importance(train_X, train_y)"
      ],
      "execution_count": 0,
      "outputs": []
    },
    {
      "cell_type": "markdown",
      "metadata": {
        "_cell_guid": "84f76826-572a-e65d-7dd7-cd3791bf5237",
        "_uuid": "cfdf83b490fcab36277cf872a31ab8b4694c9256",
        "id": "Bl4RrL-winw0",
        "colab_type": "text"
      },
      "source": [
        "# 4. Modeling\n",
        "We will now select a model we would like to try then use the training dataset to train this model and thereby check the performance of the model using the test set. \n",
        "\n",
        "## 4.1 Model Selection\n",
        "Then there are several options to choose from when it comes to models. A good starting point is logisic regression. \n",
        "\n",
        "**Select ONLY the model you would like to try below and run the corresponding cell by pressing the play button.**"
      ]
    },
    {
      "cell_type": "markdown",
      "metadata": {
        "_cell_guid": "bd56cc59-9abd-fb1f-e5e1-211c48776863",
        "_uuid": "c08d62da6318b9df6c28ee389ee3c2d0bce4325c",
        "id": "QnMgXBzLinw0",
        "colab_type": "text"
      },
      "source": [
        "### 4.1.1 Random Forests Model\n",
        "Try a random forest model by running the cell below. "
      ]
    },
    {
      "cell_type": "code",
      "metadata": {
        "_cell_guid": "29893a22-aa92-b35d-881e-7ce907f3b3b2",
        "_uuid": "92f7dc6a3cf5e30d3fbb18ea11d5228b246567a3",
        "collapsed": true,
        "id": "MdR6hYywinw2",
        "colab_type": "code",
        "colab": {}
      },
      "source": [
        "model = RandomForestClassifier(n_estimators=100)"
      ],
      "execution_count": 0,
      "outputs": []
    },
    {
      "cell_type": "markdown",
      "metadata": {
        "_cell_guid": "777e1893-585a-c545-250a-f6ea12c10fb9",
        "_uuid": "b7da634032934623f5f55a446fa3d4add9323595",
        "id": "qeQHCt96inw4",
        "colab_type": "text"
      },
      "source": [
        "### 4.1.2 Support Vector Machines\n",
        "Try a Support Vector Machines model by running the cell below. "
      ]
    },
    {
      "cell_type": "code",
      "metadata": {
        "_cell_guid": "c34e2a74-23b9-2916-683d-f0d6956ad5e6",
        "_uuid": "6694be571b8c42ff7f8290ca72fe3f052e005885",
        "collapsed": true,
        "id": "V7aw9nDainw5",
        "colab_type": "code",
        "colab": {}
      },
      "source": [
        "model = SVC()"
      ],
      "execution_count": 0,
      "outputs": []
    },
    {
      "cell_type": "markdown",
      "metadata": {
        "_cell_guid": "bc024820-b3db-4b2f-01aa-f9b35e413be1",
        "_uuid": "a31ea973a0a5fe2ce5a05df982c426d9a3cf13f6",
        "id": "H4XwseyZinw7",
        "colab_type": "text"
      },
      "source": [
        "### 4.1.3 Gradient Boosting Classifier\n",
        "Try a Gradient Boosting Classifier model by running the cell below. "
      ]
    },
    {
      "cell_type": "code",
      "metadata": {
        "_cell_guid": "120f00c8-b568-f3af-97fd-df9762d4aefb",
        "_uuid": "ad63e1c7bbd15eec7f55a2a2193212678d6497cc",
        "collapsed": true,
        "id": "cN1_SXuTinw7",
        "colab_type": "code",
        "colab": {}
      },
      "source": [
        "model = GradientBoostingClassifier()"
      ],
      "execution_count": 0,
      "outputs": []
    },
    {
      "cell_type": "markdown",
      "metadata": {
        "_cell_guid": "452de3e7-c672-0aeb-b49e-5bb6c400de75",
        "_uuid": "01344d269435021b616de747c0923ae7b3a5931e",
        "id": "NsyJB7qyinw9",
        "colab_type": "text"
      },
      "source": [
        "### 4.1.4 K-nearest neighbors\n",
        "Try a k-nearest neighbors model by running the cell below. "
      ]
    },
    {
      "cell_type": "code",
      "metadata": {
        "_cell_guid": "862cf425-ab7c-6abb-3f86-fe6a63f4a790",
        "_uuid": "8e0c53e60d68ce7f6bfc6dcb462ed1adf63bb051",
        "collapsed": true,
        "id": "R0dAdbH9inw-",
        "colab_type": "code",
        "colab": {}
      },
      "source": [
        "model = KNeighborsClassifier(n_neighbors = 3)"
      ],
      "execution_count": 0,
      "outputs": []
    },
    {
      "cell_type": "markdown",
      "metadata": {
        "_cell_guid": "34eb3eed-6d89-5c9e-31e7-40eb7e01639e",
        "_uuid": "a185e2871d6b435a94165012d2653665fd750edc",
        "id": "t_wsL9mCinw_",
        "colab_type": "text"
      },
      "source": [
        "### 4.1.5 Gaussian Naive Bayes\n",
        "Try a Gaussian Naive Bayes model by running the cell below. "
      ]
    },
    {
      "cell_type": "code",
      "metadata": {
        "_cell_guid": "e6b97cb8-56c1-3b01-ca52-c2e9685b68d0",
        "_uuid": "84766bde6e845bc2bed19b23e536175021adbb41",
        "collapsed": true,
        "id": "A_my-XoEinw_",
        "colab_type": "code",
        "colab": {}
      },
      "source": [
        "model = GaussianNB()"
      ],
      "execution_count": 0,
      "outputs": []
    },
    {
      "cell_type": "markdown",
      "metadata": {
        "_cell_guid": "c3c89f76-4d2e-ae80-8b61-13feb6f33831",
        "_uuid": "df816a619353af96fdaef92a34dd6425351a6443",
        "id": "MCqSsThDinxB",
        "colab_type": "text"
      },
      "source": [
        "### 4.1.6 Logistic Regression\n",
        "Try a Logistic Regression model by running the cell below. "
      ]
    },
    {
      "cell_type": "code",
      "metadata": {
        "_cell_guid": "f3573fce-2045-aa1d-e010-dc28139b5a16",
        "_uuid": "c3bdd2b59c6e555d633f97c5c69a4570bb2105c4",
        "collapsed": true,
        "id": "e2Ikc00minxB",
        "colab_type": "code",
        "colab": {}
      },
      "source": [
        "model = LogisticRegression()"
      ],
      "execution_count": 0,
      "outputs": []
    },
    {
      "cell_type": "markdown",
      "metadata": {
        "_cell_guid": "7e8d2a8d-a9f6-d416-74e7-4f5b711dcd98",
        "_uuid": "765d50220db967396f77eba59b8c8d14a72f84ad",
        "id": "XzduJK0GinxD",
        "colab_type": "text"
      },
      "source": [
        "## 4.2 Train the selected model\n",
        "When you have selected a dataset with the features you want and a model you would like to try it is now time to train the model. After all our preparation model training is simply done with the one line below.\n",
        "\n",
        "*Question27: How do you fit a model? try model.fit with train_X and train_y*"
      ]
    },
    {
      "cell_type": "code",
      "metadata": {
        "_cell_guid": "02a54d08-b02a-a4df-6d74-540be7d243d8",
        "_uuid": "9ecfa73a0aa8939eda690d72ae5037f5fb0523d9",
        "id": "qDlhW2OZinxD",
        "colab_type": "code",
        "colab": {}
      },
      "source": [
        "#Q27\n",
        "\n",
        "\n",
        "\n",
        "\n"
      ],
      "execution_count": 0,
      "outputs": []
    },
    {
      "cell_type": "markdown",
      "metadata": {
        "_cell_guid": "3868397c-30ed-a870-9c61-30b5d5ebdce7",
        "_uuid": "ba417dd9e2d8da44ee160728fce1a5f9c6922ffd",
        "id": "4AL0K_8zinxF",
        "colab_type": "text"
      },
      "source": [
        "# 5. Evaluation\n",
        "Now we are going to evaluate model performance and the feature importance.\n",
        "\n",
        "## 5.1 Model performance\n",
        "We can evaluate the accuracy of the model by using the validation set where we know the actual outcome. This data set have not been used for training the model, so it's completely new to the model. \n",
        "\n",
        "We then compare this accuracy score with the accuracy when using the model on the training data. If the difference between these are significant this is an indication of overfitting. We try to avoid this because it means the model will not generalize well to new data and is expected to perform poorly.\n",
        "\n",
        "*Q28 how do you evaluate the model performance? Try model.score and test on train_X and train_y? and also valid_X and valid_y?*"
      ]
    },
    {
      "cell_type": "code",
      "metadata": {
        "_cell_guid": "c4e9a0a3-f637-5568-e92c-07c0548cd89d",
        "_uuid": "06c248d7651f324bf1bb9c73a74452e0243858af",
        "id": "YIthHfHVinxG",
        "colab_type": "code",
        "colab": {}
      },
      "source": [
        "#Q28\n",
        "\n",
        "\n",
        "\n"
      ],
      "execution_count": 0,
      "outputs": []
    },
    {
      "cell_type": "markdown",
      "metadata": {
        "_cell_guid": "cd75f2ca-dcb1-e2af-ebf8-e1dea0cf44a5",
        "_uuid": "36081027ac85b22c4acfabb660eee3f9b9f4470c",
        "id": "BGvl7w3BinxI",
        "colab_type": "text"
      },
      "source": [
        "## 5.2 Feature importance - selecting the optimal features in the model\n",
        "We will now try to evaluate what the most important variables are for the model to make the prediction. The function below will only work for decision trees, so if that's the model you chose you can uncomment the code below (remove # in the beginning)  and see the feature importance.\n",
        "\n",
        "*Question 29: Try plot_model_var_imp and check for model variance importance?*"
      ]
    },
    {
      "cell_type": "code",
      "metadata": {
        "_cell_guid": "f9412dd9-11ce-74ba-7fd6-148b2ae3bce3",
        "_uuid": "5d0325985cc8b2fa697d5cb0dd766371e75aae2c",
        "id": "3IfZmqD5inxI",
        "colab_type": "code",
        "colab": {}
      },
      "source": [
        "#Q29\n",
        "\n",
        "\n",
        "\n"
      ],
      "execution_count": 0,
      "outputs": []
    },
    {
      "cell_type": "markdown",
      "metadata": {
        "_cell_guid": "e7d3ad7a-92eb-f0e0-4028-3eec53c65581",
        "_uuid": "a6c3f8994208072ae6421fc432401f3c32ba51db",
        "id": "BxT5t9mMinxK",
        "colab_type": "text"
      },
      "source": [
        "### 5.2.1 Automagic\n",
        "It's also possible to automatically select the optimal number of features and visualize this. This is uncommented and can be tried in the competition part of the tutorial.\n",
        "\n",
        "*Select the cell below and run it by pressing the play button.*"
      ]
    },
    {
      "cell_type": "code",
      "metadata": {
        "_cell_guid": "2e290c27-d9d2-4ebf-32bc-8ff56c68f763",
        "_uuid": "351753aa025d2cd811b727bdf5fe15e6d53f5dec",
        "collapsed": true,
        "id": "DZguSvHtinxK",
        "colab_type": "code",
        "colab": {}
      },
      "source": [
        "rfecv = RFECV( estimator = model , step = 1 , cv = StratifiedKFold( train_y , 2 ) , scoring = 'accuracy' )\n",
        "rfecv.fit( train_X , train_y )\n",
        "\n",
        "#print (rfecv.score( train_X , train_y ) , rfecv.score( valid_X , valid_y ))\n",
        "#print( \"Optimal number of features : %d\" % rfecv.n_features_ )\n",
        "\n",
        "# Plot number of features VS. cross-validation scores\n",
        "#plt.figure()\n",
        "#plt.xlabel( \"Number of features selected\" )\n",
        "#plt.ylabel( \"Cross validation score (nb of correct classifications)\" )\n",
        "#plt.plot( range( 1 , len( rfecv.grid_scores_ ) + 1 ) , rfecv.grid_scores_ )\n",
        "#plt.show()"
      ],
      "execution_count": 0,
      "outputs": []
    },
    {
      "cell_type": "markdown",
      "metadata": {
        "_cell_guid": "61945225-1dcd-870d-bc49-851d5c91d1d5",
        "_uuid": "5933b62a9dbcbb20e2fca621aa456981433361a4",
        "id": "sqr4KWS9inxL",
        "colab_type": "text"
      },
      "source": [
        "## 5.3 Competition time!\n",
        "It's now time for you to get your hands even dirtier and go at it all by yourself in a `challenge`! \n",
        "\n",
        "1. Try to the other models in step 4.1 and compare their result\n",
        "    * Do this by uncommenting the code and running the cell you want to try\n",
        "2. Try adding new features in step 3.4.1\n",
        "    * Do this by adding them in to the function in the feature section.\n",
        "\n",
        "\n",
        "**The winner is the one to get the highest scoring model for the validation set**"
      ]
    },
    {
      "cell_type": "markdown",
      "metadata": {
        "id": "o1rvPfLCinxM",
        "colab_type": "text"
      },
      "source": [
        "*Final Question: Write a loop that loop over all the model and find out which model has the highest score?*"
      ]
    },
    {
      "cell_type": "code",
      "metadata": {
        "id": "TDA_kdBminxO",
        "colab_type": "code",
        "colab": {}
      },
      "source": [
        "#Final question\n",
        "\n",
        "\n",
        "\n"
      ],
      "execution_count": 0,
      "outputs": []
    },
    {
      "cell_type": "markdown",
      "metadata": {
        "_cell_guid": "598cfdec-2804-0312-e69e-2ea779f045bc",
        "_uuid": "92e57b23fcebddef20a2fa40cd9a9266f91f3c7a",
        "id": "9cHnkKXOinxP",
        "colab_type": "text"
      },
      "source": [
        "# 6. Deployment\n",
        "\n",
        "Deployment in this context means publishing the resulting prediction from the model to the Kaggle leaderboard. To do this do the following:\n",
        "\n",
        " 1. select the cell below and run it by pressing the play button.\n",
        " 2. Press the `Publish` button in top right corner.\n",
        " 3. Select `Output` on the notebook menubar\n",
        " 4. Select the result dataset and press `Submit to Competition` button"
      ]
    },
    {
      "cell_type": "code",
      "metadata": {
        "_cell_guid": "25cb37ca-225b-2917-00a8-5c08708ccf1d",
        "_uuid": "0f2da93c5dcd4c087ce335e14981f63c397d952e",
        "id": "aJF8z0NqinxQ",
        "colab_type": "code",
        "colab": {}
      },
      "source": [
        "test_Y = model.predict( test_X )\n",
        "passenger_id = full[891:].PassengerId\n",
        "test = pd.DataFrame( { 'PassengerId': passenger_id , 'Survived': test_Y } )\n",
        "test.shape\n",
        "test.head()\n",
        "test.to_csv( 'titanic_pred.csv' , index = False )"
      ],
      "execution_count": 0,
      "outputs": []
    }
  ]
}